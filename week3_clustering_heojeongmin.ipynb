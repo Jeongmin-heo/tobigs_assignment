{
 "cells": [
  {
   "cell_type": "markdown",
   "metadata": {},
   "source": [
    "# Clustering 해보기 : Mall_Customer.csv\n",
    "\n",
    "## 0. 데이터 불러오기"
   ]
  },
  {
   "cell_type": "code",
   "execution_count": 1,
   "metadata": {},
   "outputs": [],
   "source": [
    "import pandas as pd\n",
    "import numpy as np\n",
    "import seaborn as sns\n",
    "import matplotlib.pyplot as plt\n",
    "from IPython.core.display import display, HTML \n",
    "from IPython.core.interactiveshell import InteractiveShell\n",
    "from sklearn.model_selection import train_test_split\n",
    "from sklearn.linear_model import LogisticRegression\n",
    "from sklearn import datasets\n",
    "from sklearn.preprocessing import StandardScaler\n",
    "from sklearn.model_selection import KFold, StratifiedKFold\n",
    "from sklearn import metrics\n",
    "from sklearn.metrics import roc_curve, auc, accuracy_score\n",
    "from sklearn.metrics import confusion_matrix, classification_report\n",
    "from sklearn.metrics import *\n",
    "from scipy.cluster.hierarchy import linkage, dendrogram\n",
    "import warnings\n",
    "warnings.filterwarnings(action='ignore')\n",
    "InteractiveShell.ast_node_interactivity = \"all\"\n",
    "\n",
    "Customers = pd.read_csv('Mall_Customers.csv',encoding='utf-8')"
   ]
  },
  {
   "cell_type": "markdown",
   "metadata": {},
   "source": [
    "## 1. Preprocessing / EDA\n",
    "\n",
    "데이터를 불러오도록 하였습니다. "
   ]
  },
  {
   "cell_type": "code",
   "execution_count": 2,
   "metadata": {},
   "outputs": [
    {
     "data": {
      "text/html": [
       "<div>\n",
       "<style scoped>\n",
       "    .dataframe tbody tr th:only-of-type {\n",
       "        vertical-align: middle;\n",
       "    }\n",
       "\n",
       "    .dataframe tbody tr th {\n",
       "        vertical-align: top;\n",
       "    }\n",
       "\n",
       "    .dataframe thead th {\n",
       "        text-align: right;\n",
       "    }\n",
       "</style>\n",
       "<table border=\"1\" class=\"dataframe\">\n",
       "  <thead>\n",
       "    <tr style=\"text-align: right;\">\n",
       "      <th></th>\n",
       "      <th>CustomerID</th>\n",
       "      <th>Gender</th>\n",
       "      <th>Age</th>\n",
       "      <th>Annual Income (k$)</th>\n",
       "      <th>Spending Score (1-100)</th>\n",
       "    </tr>\n",
       "  </thead>\n",
       "  <tbody>\n",
       "    <tr>\n",
       "      <td>0</td>\n",
       "      <td>1</td>\n",
       "      <td>Male</td>\n",
       "      <td>19</td>\n",
       "      <td>15</td>\n",
       "      <td>39</td>\n",
       "    </tr>\n",
       "    <tr>\n",
       "      <td>1</td>\n",
       "      <td>2</td>\n",
       "      <td>Male</td>\n",
       "      <td>21</td>\n",
       "      <td>15</td>\n",
       "      <td>81</td>\n",
       "    </tr>\n",
       "    <tr>\n",
       "      <td>2</td>\n",
       "      <td>3</td>\n",
       "      <td>Female</td>\n",
       "      <td>20</td>\n",
       "      <td>16</td>\n",
       "      <td>6</td>\n",
       "    </tr>\n",
       "    <tr>\n",
       "      <td>3</td>\n",
       "      <td>4</td>\n",
       "      <td>Female</td>\n",
       "      <td>23</td>\n",
       "      <td>16</td>\n",
       "      <td>77</td>\n",
       "    </tr>\n",
       "    <tr>\n",
       "      <td>4</td>\n",
       "      <td>5</td>\n",
       "      <td>Female</td>\n",
       "      <td>31</td>\n",
       "      <td>17</td>\n",
       "      <td>40</td>\n",
       "    </tr>\n",
       "  </tbody>\n",
       "</table>\n",
       "</div>"
      ],
      "text/plain": [
       "   CustomerID  Gender  Age  Annual Income (k$)  Spending Score (1-100)\n",
       "0           1    Male   19                  15                      39\n",
       "1           2    Male   21                  15                      81\n",
       "2           3  Female   20                  16                       6\n",
       "3           4  Female   23                  16                      77\n",
       "4           5  Female   31                  17                      40"
      ]
     },
     "execution_count": 2,
     "metadata": {},
     "output_type": "execute_result"
    },
    {
     "data": {
      "text/html": [
       "<div>\n",
       "<style scoped>\n",
       "    .dataframe tbody tr th:only-of-type {\n",
       "        vertical-align: middle;\n",
       "    }\n",
       "\n",
       "    .dataframe tbody tr th {\n",
       "        vertical-align: top;\n",
       "    }\n",
       "\n",
       "    .dataframe thead th {\n",
       "        text-align: right;\n",
       "    }\n",
       "</style>\n",
       "<table border=\"1\" class=\"dataframe\">\n",
       "  <thead>\n",
       "    <tr style=\"text-align: right;\">\n",
       "      <th></th>\n",
       "      <th>CustomerID</th>\n",
       "      <th>Age</th>\n",
       "      <th>Annual Income (k$)</th>\n",
       "      <th>Spending Score (1-100)</th>\n",
       "    </tr>\n",
       "  </thead>\n",
       "  <tbody>\n",
       "    <tr>\n",
       "      <td>count</td>\n",
       "      <td>200.000000</td>\n",
       "      <td>200.000000</td>\n",
       "      <td>200.000000</td>\n",
       "      <td>200.000000</td>\n",
       "    </tr>\n",
       "    <tr>\n",
       "      <td>mean</td>\n",
       "      <td>100.500000</td>\n",
       "      <td>38.850000</td>\n",
       "      <td>60.560000</td>\n",
       "      <td>50.200000</td>\n",
       "    </tr>\n",
       "    <tr>\n",
       "      <td>std</td>\n",
       "      <td>57.879185</td>\n",
       "      <td>13.969007</td>\n",
       "      <td>26.264721</td>\n",
       "      <td>25.823522</td>\n",
       "    </tr>\n",
       "    <tr>\n",
       "      <td>min</td>\n",
       "      <td>1.000000</td>\n",
       "      <td>18.000000</td>\n",
       "      <td>15.000000</td>\n",
       "      <td>1.000000</td>\n",
       "    </tr>\n",
       "    <tr>\n",
       "      <td>25%</td>\n",
       "      <td>50.750000</td>\n",
       "      <td>28.750000</td>\n",
       "      <td>41.500000</td>\n",
       "      <td>34.750000</td>\n",
       "    </tr>\n",
       "    <tr>\n",
       "      <td>50%</td>\n",
       "      <td>100.500000</td>\n",
       "      <td>36.000000</td>\n",
       "      <td>61.500000</td>\n",
       "      <td>50.000000</td>\n",
       "    </tr>\n",
       "    <tr>\n",
       "      <td>75%</td>\n",
       "      <td>150.250000</td>\n",
       "      <td>49.000000</td>\n",
       "      <td>78.000000</td>\n",
       "      <td>73.000000</td>\n",
       "    </tr>\n",
       "    <tr>\n",
       "      <td>max</td>\n",
       "      <td>200.000000</td>\n",
       "      <td>70.000000</td>\n",
       "      <td>137.000000</td>\n",
       "      <td>99.000000</td>\n",
       "    </tr>\n",
       "  </tbody>\n",
       "</table>\n",
       "</div>"
      ],
      "text/plain": [
       "       CustomerID         Age  Annual Income (k$)  Spending Score (1-100)\n",
       "count  200.000000  200.000000          200.000000              200.000000\n",
       "mean   100.500000   38.850000           60.560000               50.200000\n",
       "std     57.879185   13.969007           26.264721               25.823522\n",
       "min      1.000000   18.000000           15.000000                1.000000\n",
       "25%     50.750000   28.750000           41.500000               34.750000\n",
       "50%    100.500000   36.000000           61.500000               50.000000\n",
       "75%    150.250000   49.000000           78.000000               73.000000\n",
       "max    200.000000   70.000000          137.000000               99.000000"
      ]
     },
     "execution_count": 2,
     "metadata": {},
     "output_type": "execute_result"
    },
    {
     "name": "stdout",
     "output_type": "stream",
     "text": [
      "<class 'pandas.core.frame.DataFrame'>\n",
      "RangeIndex: 200 entries, 0 to 199\n",
      "Data columns (total 5 columns):\n",
      "CustomerID                200 non-null int64\n",
      "Gender                    200 non-null object\n",
      "Age                       200 non-null int64\n",
      "Annual Income (k$)        200 non-null int64\n",
      "Spending Score (1-100)    200 non-null int64\n",
      "dtypes: int64(4), object(1)\n",
      "memory usage: 7.9+ KB\n"
     ]
    }
   ],
   "source": [
    "Customers.head()\n",
    "Customers.describe()\n",
    "Customers.info()"
   ]
  },
  {
   "cell_type": "code",
   "execution_count": 3,
   "metadata": {},
   "outputs": [
    {
     "data": {
      "text/plain": [
       "CustomerID                0\n",
       "Gender                    0\n",
       "Age                       0\n",
       "Annual Income (k$)        0\n",
       "Spending Score (1-100)    0\n",
       "dtype: int64"
      ]
     },
     "execution_count": 3,
     "metadata": {},
     "output_type": "execute_result"
    }
   ],
   "source": [
    "Customers.isnull().sum(axis=0)"
   ]
  },
  {
   "cell_type": "markdown",
   "metadata": {},
   "source": [
    "변수의 의미를 정리하면 다음과 같습니다. \n",
    "\n",
    "|변수명|의미|\n",
    "|-|-|\n",
    "CustomerID|Unique ID assigned to the customer\n",
    "Gender|Gender of the customer\n",
    "Age|Age of the customer\n",
    "Annual Income (k$)|Annual Income of the customee\n",
    "Spending Score| (1-100)Score assigned by the mall based on customer behavior and spending nature\n",
    "\n",
    "- 변수는 gender를 제외하고는 모두 수치형 데이터입니다. 아래에서 gender에서 male을 0, Female을 1로 One-hot encoding 하도록 하겠습니다. \n",
    "- 결측치는 없습니다. \n",
    "- 수치형이지만 의미를 갖고있지 않은 ID를 제외하고 나이, 수입, 소비성향에 따른 점수 모두 인코딩이 필요하지 않을 것 같다고 판단"
   ]
  },
  {
   "cell_type": "code",
   "execution_count": 4,
   "metadata": {},
   "outputs": [
    {
     "data": {
      "text/plain": [
       "array([[<matplotlib.axes._subplots.AxesSubplot object at 0x0000021E9E0D3E88>,\n",
       "        <matplotlib.axes._subplots.AxesSubplot object at 0x0000021E9C7EC848>],\n",
       "       [<matplotlib.axes._subplots.AxesSubplot object at 0x0000021E9E3E2048>,\n",
       "        <matplotlib.axes._subplots.AxesSubplot object at 0x0000021E9E419188>]],\n",
       "      dtype=object)"
      ]
     },
     "execution_count": 4,
     "metadata": {},
     "output_type": "execute_result"
    },
    {
     "data": {
      "image/png": "[encoded data removed]",
      "text/plain": [
       "<Figure size 1440x1080 with 4 Axes>"
      ]
     },
     "metadata": {
      "needs_background": "light"
     },
     "output_type": "display_data"
    }
   ],
   "source": [
    "Customers.hist(bins=30,figsize=(20,15)) #figsize를 통해 plot 크기 조절\n",
    "plt.show()"
   ]
  },
  {
   "cell_type": "code",
   "execution_count": 5,
   "metadata": {},
   "outputs": [],
   "source": [
    "def encoding (x):\n",
    "    if x == 'Female':\n",
    "        return 0\n",
    "    else:\n",
    "        return 1\n",
    "Customers['Gender'] = Customers['Gender'].apply(encoding) #남자는 0으로 여자는 1로 인코딩 하였습니다."
   ]
  },
  {
   "cell_type": "code",
   "execution_count": 6,
   "metadata": {},
   "outputs": [],
   "source": [
    "scaler = StandardScaler() \n",
    "Customers = scaler.fit_transform(Customers[['Gender','Age','Annual Income (k$)','Spending Score (1-100)']])\n",
    "Customers = pd.DataFrame(Customers)\n",
    "Customers.columns = ['Gender','Age','Annual Income (k$)','Score']\n",
    "# Customers에 대해서 스케일링을 진행하였습니다. "
   ]
  },
  {
   "cell_type": "markdown",
   "metadata": {},
   "source": [
    "## 2. Clustering (수업시간에 배운 세 가지 방법 +α)\n",
    "\n",
    "클러스터링은 중첩의 여부에 따라서 **1)계층적 군집화** 와 **2)비계층적 군집화**로 나눌 수 있습니다.\n",
    "\n",
    "1)계층적 군집화는 계층이 묶이는 방식에 따라 **1)Agglomerative** 와 **2)Divisive**로 나눌 수 있습니다. \n",
    "\n",
    "단일데이터 간 거리(Euclidean, Manhattan distance 등)를 정하고 군집-군집 or 군집-개체 간 거리(Min,Max,Ward's 등)를 정의하여 돌리는 방식입니다. \n",
    "\n",
    "2)비계층적 군집화는 군집에 대한 가정에 따라 **1)Center-based Clustering** 과 **2)Density-based Clustering**으로 나눌 수 있습니다. \n",
    "\n",
    "Cneter based 에는 대표적으로 k-means가 있으며 Density-based에는 DBSCAN이 있습니다. \n",
    "\n",
    "### 2.1 Hierarchical Clustering\n",
    "\n",
    "먼저 계층적 군집화를 진행하였습니다. "
   ]
  },
  {
   "cell_type": "code",
   "execution_count": 7,
   "metadata": {},
   "outputs": [
    {
     "data": {
      "text/plain": [
       "count    2.000000e+02\n",
       "mean    -1.121325e-16\n",
       "std      1.002509e+00\n",
       "min     -1.910021e+00\n",
       "25%     -5.997931e-01\n",
       "50%     -7.764312e-03\n",
       "75%      8.851316e-01\n",
       "max      1.894492e+00\n",
       "Name: Score, dtype: float64"
      ]
     },
     "execution_count": 7,
     "metadata": {},
     "output_type": "execute_result"
    }
   ],
   "source": [
    "Customers['Score'].describe()"
   ]
  },
  {
   "cell_type": "code",
   "execution_count": 8,
   "metadata": {},
   "outputs": [],
   "source": [
    "def f(x):\n",
    "    if x >= 8.851316e-01:\n",
    "        return 2\n",
    "    elif x>=-5.997931e-01:\n",
    "        return 1\n",
    "    else:\n",
    "        return 0\n",
    "# 스케일링한 이후의 값에서 75%이상과 25%이상 그리고 나머지로 인코딩하여 VIP_3이라는 이름으로 만들어 보았습니다. "
   ]
  },
  {
   "cell_type": "code",
   "execution_count": 9,
   "metadata": {},
   "outputs": [],
   "source": [
    "Customers[\"VIP_3\"] = Customers[\"Score\"].apply(f)"
   ]
  },
  {
   "cell_type": "code",
   "execution_count": 10,
   "metadata": {},
   "outputs": [],
   "source": [
    "def f(x):\n",
    "    if x >= -7.764312e-03:\n",
    "        return 1\n",
    "    else:\n",
    "        return 0\n",
    "#같은 방식으로 상위 50%이상과 이하로 나누어 보았습니다. "
   ]
  },
  {
   "cell_type": "code",
   "execution_count": 11,
   "metadata": {},
   "outputs": [],
   "source": [
    "Customers[\"VIP_2\"] = Customers[\"Score\"].apply(f)"
   ]
  },
  {
   "cell_type": "code",
   "execution_count": 12,
   "metadata": {},
   "outputs": [],
   "source": [
    "def f(x):\n",
    "    if x >= 8.851316e-01:\n",
    "        return 3\n",
    "    elif x>=-7.764312e-03:\n",
    "        return 2\n",
    "    elif x>= -5.997931e-01:\n",
    "        return 1\n",
    "    else:\n",
    "        return 0\n",
    "# 4단계로 나누어 만들어보았습니다. "
   ]
  },
  {
   "cell_type": "code",
   "execution_count": 13,
   "metadata": {},
   "outputs": [],
   "source": [
    "Customers[\"VIP_4\"] = Customers[\"Score\"].apply(f)"
   ]
  },
  {
   "cell_type": "code",
   "execution_count": 14,
   "metadata": {},
   "outputs": [
    {
     "data": {
      "text/html": [
       "<div>\n",
       "<style scoped>\n",
       "    .dataframe tbody tr th:only-of-type {\n",
       "        vertical-align: middle;\n",
       "    }\n",
       "\n",
       "    .dataframe tbody tr th {\n",
       "        vertical-align: top;\n",
       "    }\n",
       "\n",
       "    .dataframe thead th {\n",
       "        text-align: right;\n",
       "    }\n",
       "</style>\n",
       "<table border=\"1\" class=\"dataframe\">\n",
       "  <thead>\n",
       "    <tr style=\"text-align: right;\">\n",
       "      <th></th>\n",
       "      <th>labels</th>\n",
       "    </tr>\n",
       "  </thead>\n",
       "  <tbody>\n",
       "    <tr>\n",
       "      <td>0</td>\n",
       "      <td>0</td>\n",
       "    </tr>\n",
       "    <tr>\n",
       "      <td>1</td>\n",
       "      <td>1</td>\n",
       "    </tr>\n",
       "    <tr>\n",
       "      <td>2</td>\n",
       "      <td>0</td>\n",
       "    </tr>\n",
       "    <tr>\n",
       "      <td>3</td>\n",
       "      <td>1</td>\n",
       "    </tr>\n",
       "    <tr>\n",
       "      <td>4</td>\n",
       "      <td>0</td>\n",
       "    </tr>\n",
       "  </tbody>\n",
       "</table>\n",
       "</div>"
      ],
      "text/plain": [
       "   labels\n",
       "0       0\n",
       "1       1\n",
       "2       0\n",
       "3       1\n",
       "4       0"
      ]
     },
     "execution_count": 14,
     "metadata": {},
     "output_type": "execute_result"
    }
   ],
   "source": [
    "labels= pd.DataFrame(Customers['VIP_2'])\n",
    "labels.columns=['labels']\n",
    "labels.head()"
   ]
  },
  {
   "cell_type": "code",
   "execution_count": 15,
   "metadata": {},
   "outputs": [
    {
     "data": {
      "text/plain": [
       "<Figure size 2880x1440 with 0 Axes>"
      ]
     },
     "execution_count": 15,
     "metadata": {},
     "output_type": "execute_result"
    },
    {
     "data": {
      "text/plain": [
       "{'icoord': [[15.0, 15.0, 25.0, 25.0],\n",
       "  [5.0, 5.0, 20.0, 20.0],\n",
       "  [35.0, 35.0, 45.0, 45.0],\n",
       "  [55.0, 55.0, 65.0, 65.0],\n",
       "  [75.0, 75.0, 85.0, 85.0],\n",
       "  [60.0, 60.0, 80.0, 80.0],\n",
       "  [40.0, 40.0, 70.0, 70.0],\n",
       "  [105.0, 105.0, 115.0, 115.0],\n",
       "  [95.0, 95.0, 110.0, 110.0],\n",
       "  [125.0, 125.0, 135.0, 135.0],\n",
       "  [155.0, 155.0, 165.0, 165.0],\n",
       "  [145.0, 145.0, 160.0, 160.0],\n",
       "  [130.0, 130.0, 152.5, 152.5],\n",
       "  [102.5, 102.5, 141.25, 141.25],\n",
       "  [55.0, 55.0, 121.875, 121.875],\n",
       "  [12.5, 12.5, 88.4375, 88.4375],\n",
       "  [175.0, 175.0, 185.0, 185.0],\n",
       "  [195.0, 195.0, 205.0, 205.0],\n",
       "  [225.0, 225.0, 235.0, 235.0],\n",
       "  [215.0, 215.0, 230.0, 230.0],\n",
       "  [200.0, 200.0, 222.5, 222.5],\n",
       "  [255.0, 255.0, 265.0, 265.0],\n",
       "  [245.0, 245.0, 260.0, 260.0],\n",
       "  [295.0, 295.0, 305.0, 305.0],\n",
       "  [285.0, 285.0, 300.0, 300.0],\n",
       "  [275.0, 275.0, 292.5, 292.5],\n",
       "  [252.5, 252.5, 283.75, 283.75],\n",
       "  [211.25, 211.25, 268.125, 268.125],\n",
       "  [180.0, 180.0, 239.6875, 239.6875],\n",
       "  [50.46875, 50.46875, 209.84375, 209.84375],\n",
       "  [325.0, 325.0, 335.0, 335.0],\n",
       "  [315.0, 315.0, 330.0, 330.0],\n",
       "  [345.0, 345.0, 355.0, 355.0],\n",
       "  [322.5, 322.5, 350.0, 350.0],\n",
       "  [365.0, 365.0, 375.0, 375.0],\n",
       "  [405.0, 405.0, 415.0, 415.0],\n",
       "  [395.0, 395.0, 410.0, 410.0],\n",
       "  [385.0, 385.0, 402.5, 402.5],\n",
       "  [370.0, 370.0, 393.75, 393.75],\n",
       "  [425.0, 425.0, 435.0, 435.0],\n",
       "  [455.0, 455.0, 465.0, 465.0],\n",
       "  [445.0, 445.0, 460.0, 460.0],\n",
       "  [430.0, 430.0, 452.5, 452.5],\n",
       "  [485.0, 485.0, 495.0, 495.0],\n",
       "  [475.0, 475.0, 490.0, 490.0],\n",
       "  [525.0, 525.0, 535.0, 535.0],\n",
       "  [515.0, 515.0, 530.0, 530.0],\n",
       "  [505.0, 505.0, 522.5, 522.5],\n",
       "  [482.5, 482.5, 513.75, 513.75],\n",
       "  [441.25, 441.25, 498.125, 498.125],\n",
       "  [381.875, 381.875, 469.6875, 469.6875],\n",
       "  [336.25, 336.25, 425.78125, 425.78125],\n",
       "  [545.0, 545.0, 555.0, 555.0],\n",
       "  [575.0, 575.0, 585.0, 585.0],\n",
       "  [565.0, 565.0, 580.0, 580.0],\n",
       "  [550.0, 550.0, 572.5, 572.5],\n",
       "  [595.0, 595.0, 605.0, 605.0],\n",
       "  [615.0, 615.0, 625.0, 625.0],\n",
       "  [645.0, 645.0, 655.0, 655.0],\n",
       "  [635.0, 635.0, 650.0, 650.0],\n",
       "  [665.0, 665.0, 675.0, 675.0],\n",
       "  [642.5, 642.5, 670.0, 670.0],\n",
       "  [620.0, 620.0, 656.25, 656.25],\n",
       "  [600.0, 600.0, 638.125, 638.125],\n",
       "  [561.25, 561.25, 619.0625, 619.0625],\n",
       "  [381.015625, 381.015625, 590.15625, 590.15625],\n",
       "  [130.15625, 130.15625, 485.5859375, 485.5859375],\n",
       "  [685.0, 685.0, 695.0, 695.0],\n",
       "  [705.0, 705.0, 715.0, 715.0],\n",
       "  [690.0, 690.0, 710.0, 710.0],\n",
       "  [725.0, 725.0, 735.0, 735.0],\n",
       "  [700.0, 700.0, 730.0, 730.0],\n",
       "  [745.0, 745.0, 755.0, 755.0],\n",
       "  [765.0, 765.0, 775.0, 775.0],\n",
       "  [795.0, 795.0, 805.0, 805.0],\n",
       "  [785.0, 785.0, 800.0, 800.0],\n",
       "  [770.0, 770.0, 792.5, 792.5],\n",
       "  [835.0, 835.0, 845.0, 845.0],\n",
       "  [825.0, 825.0, 840.0, 840.0],\n",
       "  [815.0, 815.0, 832.5, 832.5],\n",
       "  [781.25, 781.25, 823.75, 823.75],\n",
       "  [750.0, 750.0, 802.5, 802.5],\n",
       "  [715.0, 715.0, 776.25, 776.25],\n",
       "  [855.0, 855.0, 865.0, 865.0],\n",
       "  [875.0, 875.0, 885.0, 885.0],\n",
       "  [905.0, 905.0, 915.0, 915.0],\n",
       "  [895.0, 895.0, 910.0, 910.0],\n",
       "  [880.0, 880.0, 902.5, 902.5],\n",
       "  [860.0, 860.0, 891.25, 891.25],\n",
       "  [925.0, 925.0, 935.0, 935.0],\n",
       "  [955.0, 955.0, 965.0, 965.0],\n",
       "  [945.0, 945.0, 960.0, 960.0],\n",
       "  [985.0, 985.0, 995.0, 995.0],\n",
       "  [975.0, 975.0, 990.0, 990.0],\n",
       "  [952.5, 952.5, 982.5, 982.5],\n",
       "  [930.0, 930.0, 967.5, 967.5],\n",
       "  [875.625, 875.625, 948.75, 948.75],\n",
       "  [1015.0, 1015.0, 1025.0, 1025.0],\n",
       "  [1005.0, 1005.0, 1020.0, 1020.0],\n",
       "  [1045.0, 1045.0, 1055.0, 1055.0],\n",
       "  [1035.0, 1035.0, 1050.0, 1050.0],\n",
       "  [1065.0, 1065.0, 1075.0, 1075.0],\n",
       "  [1105.0, 1105.0, 1115.0, 1115.0],\n",
       "  [1095.0, 1095.0, 1110.0, 1110.0],\n",
       "  [1085.0, 1085.0, 1102.5, 1102.5],\n",
       "  [1070.0, 1070.0, 1093.75, 1093.75],\n",
       "  [1042.5, 1042.5, 1081.875, 1081.875],\n",
       "  [1012.5, 1012.5, 1062.1875, 1062.1875],\n",
       "  [1145.0, 1145.0, 1155.0, 1155.0],\n",
       "  [1135.0, 1135.0, 1150.0, 1150.0],\n",
       "  [1125.0, 1125.0, 1142.5, 1142.5],\n",
       "  [1165.0, 1165.0, 1175.0, 1175.0],\n",
       "  [1133.75, 1133.75, 1170.0, 1170.0],\n",
       "  [1037.34375, 1037.34375, 1151.875, 1151.875],\n",
       "  [912.1875, 912.1875, 1094.609375, 1094.609375],\n",
       "  [745.625, 745.625, 1003.3984375, 1003.3984375],\n",
       "  [1195.0, 1195.0, 1205.0, 1205.0],\n",
       "  [1185.0, 1185.0, 1200.0, 1200.0],\n",
       "  [1215.0, 1215.0, 1225.0, 1225.0],\n",
       "  [1235.0, 1235.0, 1245.0, 1245.0],\n",
       "  [1220.0, 1220.0, 1240.0, 1240.0],\n",
       "  [1192.5, 1192.5, 1230.0, 1230.0],\n",
       "  [1275.0, 1275.0, 1285.0, 1285.0],\n",
       "  [1265.0, 1265.0, 1280.0, 1280.0],\n",
       "  [1255.0, 1255.0, 1272.5, 1272.5],\n",
       "  [1295.0, 1295.0, 1305.0, 1305.0],\n",
       "  [1315.0, 1315.0, 1325.0, 1325.0],\n",
       "  [1345.0, 1345.0, 1355.0, 1355.0],\n",
       "  [1335.0, 1335.0, 1350.0, 1350.0],\n",
       "  [1385.0, 1385.0, 1395.0, 1395.0],\n",
       "  [1375.0, 1375.0, 1390.0, 1390.0],\n",
       "  [1365.0, 1365.0, 1382.5, 1382.5],\n",
       "  [1342.5, 1342.5, 1373.75, 1373.75],\n",
       "  [1320.0, 1320.0, 1358.125, 1358.125],\n",
       "  [1300.0, 1300.0, 1339.0625, 1339.0625],\n",
       "  [1263.75, 1263.75, 1319.53125, 1319.53125],\n",
       "  [1211.25, 1211.25, 1291.640625, 1291.640625],\n",
       "  [1405.0, 1405.0, 1415.0, 1415.0],\n",
       "  [1425.0, 1425.0, 1435.0, 1435.0],\n",
       "  [1455.0, 1455.0, 1465.0, 1465.0],\n",
       "  [1445.0, 1445.0, 1460.0, 1460.0],\n",
       "  [1485.0, 1485.0, 1495.0, 1495.0],\n",
       "  [1475.0, 1475.0, 1490.0, 1490.0],\n",
       "  [1452.5, 1452.5, 1482.5, 1482.5],\n",
       "  [1430.0, 1430.0, 1467.5, 1467.5],\n",
       "  [1410.0, 1410.0, 1448.75, 1448.75],\n",
       "  [1515.0, 1515.0, 1525.0, 1525.0],\n",
       "  [1505.0, 1505.0, 1520.0, 1520.0],\n",
       "  [1545.0, 1545.0, 1555.0, 1555.0],\n",
       "  [1535.0, 1535.0, 1550.0, 1550.0],\n",
       "  [1512.5, 1512.5, 1542.5, 1542.5],\n",
       "  [1585.0, 1585.0, 1595.0, 1595.0],\n",
       "  [1575.0, 1575.0, 1590.0, 1590.0],\n",
       "  [1565.0, 1565.0, 1582.5, 1582.5],\n",
       "  [1605.0, 1605.0, 1615.0, 1615.0],\n",
       "  [1645.0, 1645.0, 1655.0, 1655.0],\n",
       "  [1635.0, 1635.0, 1650.0, 1650.0],\n",
       "  [1625.0, 1625.0, 1642.5, 1642.5],\n",
       "  [1610.0, 1610.0, 1633.75, 1633.75],\n",
       "  [1573.75, 1573.75, 1621.875, 1621.875],\n",
       "  [1685.0, 1685.0, 1695.0, 1695.0],\n",
       "  [1675.0, 1675.0, 1690.0, 1690.0],\n",
       "  [1665.0, 1665.0, 1682.5, 1682.5],\n",
       "  [1597.8125, 1597.8125, 1673.75, 1673.75],\n",
       "  [1527.5, 1527.5, 1635.78125, 1635.78125],\n",
       "  [1429.375, 1429.375, 1581.640625, 1581.640625],\n",
       "  [1705.0, 1705.0, 1715.0, 1715.0],\n",
       "  [1725.0, 1725.0, 1735.0, 1735.0],\n",
       "  [1710.0, 1710.0, 1730.0, 1730.0],\n",
       "  [1755.0, 1755.0, 1765.0, 1765.0],\n",
       "  [1745.0, 1745.0, 1760.0, 1760.0],\n",
       "  [1720.0, 1720.0, 1752.5, 1752.5],\n",
       "  [1775.0, 1775.0, 1785.0, 1785.0],\n",
       "  [1815.0, 1815.0, 1825.0, 1825.0],\n",
       "  [1805.0, 1805.0, 1820.0, 1820.0],\n",
       "  [1795.0, 1795.0, 1812.5, 1812.5],\n",
       "  [1780.0, 1780.0, 1803.75, 1803.75],\n",
       "  [1736.25, 1736.25, 1791.875, 1791.875],\n",
       "  [1855.0, 1855.0, 1865.0, 1865.0],\n",
       "  [1845.0, 1845.0, 1860.0, 1860.0],\n",
       "  [1875.0, 1875.0, 1885.0, 1885.0],\n",
       "  [1852.5, 1852.5, 1880.0, 1880.0],\n",
       "  [1835.0, 1835.0, 1866.25, 1866.25],\n",
       "  [1915.0, 1915.0, 1925.0, 1925.0],\n",
       "  [1905.0, 1905.0, 1920.0, 1920.0],\n",
       "  [1895.0, 1895.0, 1912.5, 1912.5],\n",
       "  [1945.0, 1945.0, 1955.0, 1955.0],\n",
       "  [1935.0, 1935.0, 1950.0, 1950.0],\n",
       "  [1965.0, 1965.0, 1975.0, 1975.0],\n",
       "  [1985.0, 1985.0, 1995.0, 1995.0],\n",
       "  [1970.0, 1970.0, 1990.0, 1990.0],\n",
       "  [1942.5, 1942.5, 1980.0, 1980.0],\n",
       "  [1903.75, 1903.75, 1961.25, 1961.25],\n",
       "  [1850.625, 1850.625, 1932.5, 1932.5],\n",
       "  [1764.0625, 1764.0625, 1891.5625, 1891.5625],\n",
       "  [1505.5078125, 1505.5078125, 1827.8125, 1827.8125],\n",
       "  [1251.4453125, 1251.4453125, 1666.66015625, 1666.66015625],\n",
       "  [874.51171875, 874.51171875, 1459.052734375, 1459.052734375],\n",
       "  [307.87109375, 307.87109375, 1166.7822265625, 1166.7822265625]],\n",
       " 'dcoord': [[0.0, 0.46962586391346806, 0.46962586391346806, 0.0],\n",
       "  [0.0, 0.6855386176384071, 0.6855386176384071, 0.46962586391346806],\n",
       "  [0.0, 0.30577329086343774, 0.30577329086343774, 0.0],\n",
       "  [0.0, 0.210440496274383, 0.210440496274383, 0.0],\n",
       "  [0.0, 0.3001713523527728, 0.3001713523527728, 0.0],\n",
       "  [0.210440496274383,\n",
       "   0.4352063957990049,\n",
       "   0.4352063957990049,\n",
       "   0.3001713523527728],\n",
       "  [0.30577329086343774,\n",
       "   0.850251234539024,\n",
       "   0.850251234539024,\n",
       "   0.4352063957990049],\n",
       "  [0.0, 0.23203335826989552, 0.23203335826989552, 0.0],\n",
       "  [0.0, 0.4231318682405319, 0.4231318682405319, 0.23203335826989552],\n",
       "  [0.0, 0.2511034017581583, 0.2511034017581583, 0.0],\n",
       "  [0.0, 0.24193300239174026, 0.24193300239174026, 0.0],\n",
       "  [0.0, 0.33894454969885346, 0.33894454969885346, 0.24193300239174026],\n",
       "  [0.2511034017581583,\n",
       "   0.6577760630579649,\n",
       "   0.6577760630579649,\n",
       "   0.33894454969885346],\n",
       "  [0.4231318682405319,\n",
       "   1.1819855591962438,\n",
       "   1.1819855591962438,\n",
       "   0.6577760630579649],\n",
       "  [0.850251234539024,\n",
       "   1.446861977207402,\n",
       "   1.446861977207402,\n",
       "   1.1819855591962438],\n",
       "  [0.6855386176384071,\n",
       "   2.6910363463730707,\n",
       "   2.6910363463730707,\n",
       "   1.446861977207402],\n",
       "  [0.0, 0.5647686028536893, 0.5647686028536893, 0.0],\n",
       "  [0.0, 0.07176668967517075, 0.07176668967517075, 0.0],\n",
       "  [0.0, 0.1873283114144617, 0.1873283114144617, 0.0],\n",
       "  [0.0, 0.41985298145873706, 0.41985298145873706, 0.1873283114144617],\n",
       "  [0.07176668967517075,\n",
       "   0.991590330753812,\n",
       "   0.991590330753812,\n",
       "   0.41985298145873706],\n",
       "  [0.0, 0.21743505026129378, 0.21743505026129378, 0.0],\n",
       "  [0.0, 0.4826535758084658, 0.4826535758084658, 0.21743505026129378],\n",
       "  [0.0, 0.25224492797677955, 0.25224492797677955, 0.0],\n",
       "  [0.0, 0.6613791315836557, 0.6613791315836557, 0.25224492797677955],\n",
       "  [0.0, 1.029179511508959, 1.029179511508959, 0.6613791315836557],\n",
       "  [0.4826535758084658,\n",
       "   1.111131166667904,\n",
       "   1.111131166667904,\n",
       "   1.029179511508959],\n",
       "  [0.991590330753812,\n",
       "   1.8148606636161388,\n",
       "   1.8148606636161388,\n",
       "   1.111131166667904],\n",
       "  [0.5647686028536893,\n",
       "   3.763330110836546,\n",
       "   3.763330110836546,\n",
       "   1.8148606636161388],\n",
       "  [2.6910363463730707,\n",
       "   7.925524734873949,\n",
       "   7.925524734873949,\n",
       "   3.763330110836546],\n",
       "  [0.0, 0.17840019013816835, 0.17840019013816835, 0.0],\n",
       "  [0.0, 0.35234673969515, 0.35234673969515, 0.17840019013816835],\n",
       "  [0.0, 1.2085695394221794, 1.2085695394221794, 0.0],\n",
       "  [0.35234673969515,\n",
       "   2.6760783603659863,\n",
       "   2.6760783603659863,\n",
       "   1.2085695394221794],\n",
       "  [0.0, 0.8473219232653048, 0.8473219232653048, 0.0],\n",
       "  [0.0, 0.42950487510091523, 0.42950487510091523, 0.0],\n",
       "  [0.0, 0.6144243695320544, 0.6144243695320544, 0.42950487510091523],\n",
       "  [0.0, 0.9742296507039413, 0.9742296507039413, 0.6144243695320544],\n",
       "  [0.8473219232653048,\n",
       "   2.5639719858873615,\n",
       "   2.5639719858873615,\n",
       "   0.9742296507039413],\n",
       "  [0.0, 0.554673226260653, 0.554673226260653, 0.0],\n",
       "  [0.0, 0.43228854277306517, 0.43228854277306517, 0.0],\n",
       "  [0.0, 0.749510908296828, 0.749510908296828, 0.43228854277306517],\n",
       "  [0.554673226260653,\n",
       "   1.3335077414713414,\n",
       "   1.3335077414713414,\n",
       "   0.749510908296828],\n",
       "  [0.0, 0.07176668967517075, 0.07176668967517075, 0.0],\n",
       "  [0.0, 0.20405572097573196, 0.20405572097573196, 0.07176668967517075],\n",
       "  [0.0, 0.19998368549868428, 0.19998368549868428, 0.0],\n",
       "  [0.0, 0.3202407364938662, 0.3202407364938662, 0.19998368549868428],\n",
       "  [0.0, 0.4307311295853101, 0.4307311295853101, 0.3202407364938662],\n",
       "  [0.20405572097573196,\n",
       "   1.3584826797378664,\n",
       "   1.3584826797378664,\n",
       "   0.4307311295853101],\n",
       "  [1.3335077414713414,\n",
       "   2.8896350961561357,\n",
       "   2.8896350961561357,\n",
       "   1.3584826797378664],\n",
       "  [2.5639719858873615,\n",
       "   4.1042890109478565,\n",
       "   4.1042890109478565,\n",
       "   2.8896350961561357],\n",
       "  [2.6760783603659863,\n",
       "   4.781142479669909,\n",
       "   4.781142479669909,\n",
       "   4.1042890109478565],\n",
       "  [0.0, 0.4709979957197642, 0.4709979957197642, 0.0],\n",
       "  [0.0, 0.21817778331838064, 0.21817778331838064, 0.0],\n",
       "  [0.0, 0.7800559932577188, 0.7800559932577188, 0.21817778331838064],\n",
       "  [0.4709979957197642,\n",
       "   1.1449878566414435,\n",
       "   1.1449878566414435,\n",
       "   0.7800559932577188],\n",
       "  [0.0, 0.1575360236544716, 0.1575360236544716, 0.0],\n",
       "  [0.0, 0.2876056878063485, 0.2876056878063485, 0.0],\n",
       "  [0.0, 0.0900803899098484, 0.0900803899098484, 0.0],\n",
       "  [0.0, 0.19937368109500456, 0.19937368109500456, 0.0900803899098484],\n",
       "  [0.0, 0.5001340913665536, 0.5001340913665536, 0.0],\n",
       "  [0.19937368109500456,\n",
       "   0.9006373464256697,\n",
       "   0.9006373464256697,\n",
       "   0.5001340913665536],\n",
       "  [0.2876056878063485,\n",
       "   1.0509581235950158,\n",
       "   1.0509581235950158,\n",
       "   0.9006373464256697],\n",
       "  [0.1575360236544716,\n",
       "   2.018699908993959,\n",
       "   2.018699908993959,\n",
       "   1.0509581235950158],\n",
       "  [1.1449878566414435,\n",
       "   5.134818058311294,\n",
       "   5.134818058311294,\n",
       "   2.018699908993959],\n",
       "  [4.781142479669909,\n",
       "   10.675014135369924,\n",
       "   10.675014135369924,\n",
       "   5.134818058311294],\n",
       "  [7.925524734873949,\n",
       "   13.025678732222216,\n",
       "   13.025678732222216,\n",
       "   10.675014135369924],\n",
       "  [0.0, 0.4782414269257324, 0.4782414269257324, 0.0],\n",
       "  [0.0, 0.5152519553668585, 0.5152519553668585, 0.0],\n",
       "  [0.4782414269257324,\n",
       "   1.162194118194181,\n",
       "   1.162194118194181,\n",
       "   0.5152519553668585],\n",
       "  [0.0, 1.248113062364823, 1.248113062364823, 0.0],\n",
       "  [1.162194118194181, 2.160611796139792, 2.160611796139792, 1.248113062364823],\n",
       "  [0.0, 1.0792036945604633, 1.0792036945604633, 0.0],\n",
       "  [0.0, 0.5662197686955643, 0.5662197686955643, 0.0],\n",
       "  [0.0, 0.36294002613749354, 0.36294002613749354, 0.0],\n",
       "  [0.0, 0.7272714238930476, 0.7272714238930476, 0.36294002613749354],\n",
       "  [0.5662197686955643,\n",
       "   0.8497021610829174,\n",
       "   0.8497021610829174,\n",
       "   0.7272714238930476],\n",
       "  [0.0, 0.40642843989536465, 0.40642843989536465, 0.0],\n",
       "  [0.0, 0.6551833662285192, 0.6551833662285192, 0.40642843989536465],\n",
       "  [0.0, 0.858383019144925, 0.858383019144925, 0.6551833662285192],\n",
       "  [0.8497021610829174,\n",
       "   1.943361706514213,\n",
       "   1.943361706514213,\n",
       "   0.858383019144925],\n",
       "  [1.0792036945604633,\n",
       "   2.8224105776473913,\n",
       "   2.8224105776473913,\n",
       "   1.943361706514213],\n",
       "  [2.160611796139792,\n",
       "   6.191401313269146,\n",
       "   6.191401313269146,\n",
       "   2.8224105776473913],\n",
       "  [0.0, 0.2531941778218887, 0.2531941778218887, 0.0],\n",
       "  [0.0, 0.4198678382264126, 0.4198678382264126, 0.0],\n",
       "  [0.0, 0.46997756438319366, 0.46997756438319366, 0.0],\n",
       "  [0.0, 0.6684038365310914, 0.6684038365310914, 0.46997756438319366],\n",
       "  [0.4198678382264126,\n",
       "   1.1246802280040833,\n",
       "   1.1246802280040833,\n",
       "   0.6684038365310914],\n",
       "  [0.2531941778218887,\n",
       "   2.149004705549411,\n",
       "   2.149004705549411,\n",
       "   1.1246802280040833],\n",
       "  [0.0, 0.5385859054801571, 0.5385859054801571, 0.0],\n",
       "  [0.0, 0.26545797584487046, 0.26545797584487046, 0.0],\n",
       "  [0.0, 0.5542224652232971, 0.5542224652232971, 0.26545797584487046],\n",
       "  [0.0, 0.6702086043395902, 0.6702086043395902, 0.0],\n",
       "  [0.0, 1.1021597115819197, 1.1021597115819197, 0.6702086043395902],\n",
       "  [0.5542224652232971, 1.39333831835777, 1.39333831835777, 1.1021597115819197],\n",
       "  [0.5385859054801571,\n",
       "   2.7879618820638665,\n",
       "   2.7879618820638665,\n",
       "   1.39333831835777],\n",
       "  [2.149004705549411,\n",
       "   3.342616612970927,\n",
       "   3.342616612970927,\n",
       "   2.7879618820638665],\n",
       "  [0.0, 0.20755771343287885, 0.20755771343287885, 0.0],\n",
       "  [0.0, 0.8746336413440972, 0.8746336413440972, 0.20755771343287885],\n",
       "  [0.0, 0.21530006902551224, 0.21530006902551224, 0.0],\n",
       "  [0.0, 0.567301384082399, 0.567301384082399, 0.21530006902551224],\n",
       "  [0.0, 0.7148321945002256, 0.7148321945002256, 0.0],\n",
       "  [0.0, 0.3096890400690724, 0.3096890400690724, 0.0],\n",
       "  [0.0, 0.4102682358166791, 0.4102682358166791, 0.3096890400690724],\n",
       "  [0.0, 0.8386051466377742, 0.8386051466377742, 0.4102682358166791],\n",
       "  [0.7148321945002256,\n",
       "   0.9727979309210371,\n",
       "   0.9727979309210371,\n",
       "   0.8386051466377742],\n",
       "  [0.567301384082399,\n",
       "   1.6414683679626685,\n",
       "   1.6414683679626685,\n",
       "   0.9727979309210371],\n",
       "  [0.8746336413440972,\n",
       "   2.590117571414444,\n",
       "   2.590117571414444,\n",
       "   1.6414683679626685],\n",
       "  [0.0, 0.2104404962743828, 0.2104404962743828, 0.0],\n",
       "  [0.0, 0.3514882619619857, 0.3514882619619857, 0.2104404962743828],\n",
       "  [0.0, 0.5608647359582881, 0.5608647359582881, 0.3514882619619857],\n",
       "  [0.0, 0.9975165570430571, 0.9975165570430571, 0.0],\n",
       "  [0.5608647359582881,\n",
       "   3.351095132237804,\n",
       "   3.351095132237804,\n",
       "   0.9975165570430571],\n",
       "  [2.590117571414444, 4.437781531606291, 4.437781531606291, 3.351095132237804],\n",
       "  [3.342616612970927, 8.32613357385167, 8.32613357385167, 4.437781531606291],\n",
       "  [6.191401313269146,\n",
       "   11.550798121986242,\n",
       "   11.550798121986242,\n",
       "   8.32613357385167],\n",
       "  [0.0, 0.48771412787443774, 0.48771412787443774, 0.0],\n",
       "  [0.0, 0.5421790578772187, 0.5421790578772187, 0.48771412787443774],\n",
       "  [0.0, 0.12091013806033633, 0.12091013806033633, 0.0],\n",
       "  [0.0, 0.3096890400690724, 0.3096890400690724, 0.0],\n",
       "  [0.12091013806033633,\n",
       "   0.9057715183126249,\n",
       "   0.9057715183126249,\n",
       "   0.3096890400690724],\n",
       "  [0.5421790578772187,\n",
       "   1.208275791770333,\n",
       "   1.208275791770333,\n",
       "   0.9057715183126249],\n",
       "  [0.0, 0.241411827360853, 0.241411827360853, 0.0],\n",
       "  [0.0, 0.44501442838454314, 0.44501442838454314, 0.241411827360853],\n",
       "  [0.0, 0.7742073831247435, 0.7742073831247435, 0.44501442838454314],\n",
       "  [0.0, 0.4274542652590423, 0.4274542652590423, 0.0],\n",
       "  [0.0, 0.4982749125097512, 0.4982749125097512, 0.0],\n",
       "  [0.0, 0.2571746144581396, 0.2571746144581396, 0.0],\n",
       "  [0.0, 0.6077270424366774, 0.6077270424366774, 0.2571746144581396],\n",
       "  [0.0, 0.25692920002108344, 0.25692920002108344, 0.0],\n",
       "  [0.0, 0.30309662012670857, 0.30309662012670857, 0.25692920002108344],\n",
       "  [0.0, 0.740127154289313, 0.740127154289313, 0.30309662012670857],\n",
       "  [0.6077270424366774,\n",
       "   1.183620270757111,\n",
       "   1.183620270757111,\n",
       "   0.740127154289313],\n",
       "  [0.4982749125097512,\n",
       "   1.2660420033676143,\n",
       "   1.2660420033676143,\n",
       "   1.183620270757111],\n",
       "  [0.4274542652590423,\n",
       "   1.6842568407553873,\n",
       "   1.6842568407553873,\n",
       "   1.2660420033676143],\n",
       "  [0.7742073831247435,\n",
       "   3.267033564925278,\n",
       "   3.267033564925278,\n",
       "   1.6842568407553873],\n",
       "  [1.208275791770333, 5.184313620397775, 5.184313620397775, 3.267033564925278],\n",
       "  [0.0, 0.47802598934230794, 0.47802598934230794, 0.0],\n",
       "  [0.0, 0.13040909992958474, 0.13040909992958474, 0.0],\n",
       "  [0.0, 0.390317951999272, 0.390317951999272, 0.0],\n",
       "  [0.0, 0.47756106484007665, 0.47756106484007665, 0.390317951999272],\n",
       "  [0.0, 0.15665918812773127, 0.15665918812773127, 0.0],\n",
       "  [0.0, 0.6839985842158057, 0.6839985842158057, 0.15665918812773127],\n",
       "  [0.47756106484007665,\n",
       "   1.146847216057845,\n",
       "   1.146847216057845,\n",
       "   0.6839985842158057],\n",
       "  [0.13040909992958474,\n",
       "   1.2256768861333796,\n",
       "   1.2256768861333796,\n",
       "   1.146847216057845],\n",
       "  [0.47802598934230794,\n",
       "   2.0622265204637706,\n",
       "   2.0622265204637706,\n",
       "   1.2256768861333796],\n",
       "  [0.0, 0.5804860296966149, 0.5804860296966149, 0.0],\n",
       "  [0.0, 0.7798354109310669, 0.7798354109310669, 0.5804860296966149],\n",
       "  [0.0, 0.35500747350367384, 0.35500747350367384, 0.0],\n",
       "  [0.0, 1.0949825206486656, 1.0949825206486656, 0.35500747350367384],\n",
       "  [0.7798354109310669,\n",
       "   1.601874198948523,\n",
       "   1.601874198948523,\n",
       "   1.0949825206486656],\n",
       "  [0.0, 0.16714235207452333, 0.16714235207452333, 0.0],\n",
       "  [0.0, 0.22242597103635034, 0.22242597103635034, 0.16714235207452333],\n",
       "  [0.0, 0.43048268105501936, 0.43048268105501936, 0.22242597103635034],\n",
       "  [0.0, 0.2104404962743828, 0.2104404962743828, 0.0],\n",
       "  [0.0, 0.21817778331838078, 0.21817778331838078, 0.0],\n",
       "  [0.0, 0.23889504743024467, 0.23889504743024467, 0.21817778331838078],\n",
       "  [0.0, 0.5546902032803768, 0.5546902032803768, 0.23889504743024467],\n",
       "  [0.2104404962743828,\n",
       "   0.7194433796935306,\n",
       "   0.7194433796935306,\n",
       "   0.5546902032803768],\n",
       "  [0.43048268105501936,\n",
       "   1.1228658371829516,\n",
       "   1.1228658371829516,\n",
       "   0.7194433796935306],\n",
       "  [0.0, 0.13834956528304268, 0.13834956528304268, 0.0],\n",
       "  [0.0, 0.2970529259096236, 0.2970529259096236, 0.13834956528304268],\n",
       "  [0.0, 1.6663252224375156, 1.6663252224375156, 0.2970529259096236],\n",
       "  [1.1228658371829516,\n",
       "   2.3550934130822703,\n",
       "   2.3550934130822703,\n",
       "   1.6663252224375156],\n",
       "  [1.601874198948523,\n",
       "   3.6037019078185315,\n",
       "   3.6037019078185315,\n",
       "   2.3550934130822703],\n",
       "  [2.0622265204637706,\n",
       "   5.573379205199117,\n",
       "   5.573379205199117,\n",
       "   3.6037019078185315],\n",
       "  [0.0, 0.1057303743077108, 0.1057303743077108, 0.0],\n",
       "  [0.0, 0.1486907682534734, 0.1486907682534734, 0.0],\n",
       "  [0.1057303743077108,\n",
       "   0.5674158862140886,\n",
       "   0.5674158862140886,\n",
       "   0.1486907682534734],\n",
       "  [0.0, 0.4745700291235936, 0.4745700291235936, 0.0],\n",
       "  [0.0, 0.7649072984651802, 0.7649072984651802, 0.4745700291235936],\n",
       "  [0.5674158862140886,\n",
       "   1.173395960764581,\n",
       "   1.173395960764581,\n",
       "   0.7649072984651802],\n",
       "  [0.0, 0.3786761789783939, 0.3786761789783939, 0.0],\n",
       "  [0.0, 0.1435333793503415, 0.1435333793503415, 0.0],\n",
       "  [0.0, 0.3347276686589018, 0.3347276686589018, 0.1435333793503415],\n",
       "  [0.0, 0.4842650619460407, 0.4842650619460407, 0.3347276686589018],\n",
       "  [0.3786761789783939,\n",
       "   1.5482921267900236,\n",
       "   1.5482921267900236,\n",
       "   0.4842650619460407],\n",
       "  [1.173395960764581,\n",
       "   3.1721885037173827,\n",
       "   3.1721885037173827,\n",
       "   1.5482921267900236],\n",
       "  [0.0, 0.25224492797677955, 0.25224492797677955, 0.0],\n",
       "  [0.0, 0.37550619115833, 0.37550619115833, 0.25224492797677955],\n",
       "  [0.0, 0.6064078473379532, 0.6064078473379532, 0.0],\n",
       "  [0.37550619115833, 1.16460977628827, 1.16460977628827, 0.6064078473379532],\n",
       "  [0.0, 1.6305895067499818, 1.6305895067499818, 1.16460977628827],\n",
       "  [0.0, 0.15585589485463533, 0.15585589485463533, 0.0],\n",
       "  [0.0, 0.22797773027289517, 0.22797773027289517, 0.15585589485463533],\n",
       "  [0.0, 0.4586925255597011, 0.4586925255597011, 0.22797773027289517],\n",
       "  [0.0, 0.3117034654935019, 0.3117034654935019, 0.0],\n",
       "  [0.0, 0.4932957268856502, 0.4932957268856502, 0.3117034654935019],\n",
       "  [0.0, 0.5107041411410983, 0.5107041411410983, 0.0],\n",
       "  [0.0, 0.5738560893798568, 0.5738560893798568, 0.0],\n",
       "  [0.5107041411410983,\n",
       "   0.8960104131794907,\n",
       "   0.8960104131794907,\n",
       "   0.5738560893798568],\n",
       "  [0.4932957268856502,\n",
       "   1.4743382331885173,\n",
       "   1.4743382331885173,\n",
       "   0.8960104131794907],\n",
       "  [0.4586925255597011,\n",
       "   2.273676020143117,\n",
       "   2.273676020143117,\n",
       "   1.4743382331885173],\n",
       "  [1.6305895067499818,\n",
       "   3.872223263258508,\n",
       "   3.872223263258508,\n",
       "   2.273676020143117],\n",
       "  [3.1721885037173827,\n",
       "   6.191371992072475,\n",
       "   6.191371992072475,\n",
       "   3.872223263258508],\n",
       "  [5.573379205199117, 9.882603292051918, 9.882603292051918, 6.191371992072475],\n",
       "  [5.184313620397775, 13.46902376118517, 13.46902376118517, 9.882603292051918],\n",
       "  [11.550798121986242,\n",
       "   18.273422081553466,\n",
       "   18.273422081553466,\n",
       "   13.46902376118517],\n",
       "  [13.025678732222216,\n",
       "   26.988593211653797,\n",
       "   26.988593211653797,\n",
       "   18.273422081553466]],\n",
       " 'ivl': [array([nan]),\n",
       "  array([nan]),\n",
       "  array([nan]),\n",
       "  array([nan]),\n",
       "  array([nan]),\n",
       "  array([nan]),\n",
       "  array([nan]),\n",
       "  array([nan]),\n",
       "  array([nan]),\n",
       "  array([nan]),\n",
       "  array([nan]),\n",
       "  array([nan]),\n",
       "  array([nan]),\n",
       "  array([nan]),\n",
       "  array([nan]),\n",
       "  array([nan]),\n",
       "  array([nan]),\n",
       "  array([nan]),\n",
       "  array([nan]),\n",
       "  array([nan]),\n",
       "  array([nan]),\n",
       "  array([nan]),\n",
       "  array([nan]),\n",
       "  array([nan]),\n",
       "  array([nan]),\n",
       "  array([nan]),\n",
       "  array([nan]),\n",
       "  array([nan]),\n",
       "  array([nan]),\n",
       "  array([nan]),\n",
       "  array([nan]),\n",
       "  array([nan]),\n",
       "  array([nan]),\n",
       "  array([nan]),\n",
       "  array([nan]),\n",
       "  array([nan]),\n",
       "  array([nan]),\n",
       "  array([nan]),\n",
       "  array([nan]),\n",
       "  array([nan]),\n",
       "  array([nan]),\n",
       "  array([nan]),\n",
       "  array([nan]),\n",
       "  array([nan]),\n",
       "  array([nan]),\n",
       "  array([nan]),\n",
       "  array([nan]),\n",
       "  array([nan]),\n",
       "  array([nan]),\n",
       "  array([nan]),\n",
       "  array([nan]),\n",
       "  array([nan]),\n",
       "  array([nan]),\n",
       "  array([nan]),\n",
       "  array([nan]),\n",
       "  array([nan]),\n",
       "  array([nan]),\n",
       "  array([nan]),\n",
       "  array([nan]),\n",
       "  array([nan]),\n",
       "  array([nan]),\n",
       "  array([nan]),\n",
       "  array([nan]),\n",
       "  array([nan]),\n",
       "  array([nan]),\n",
       "  array([nan]),\n",
       "  array([nan]),\n",
       "  array([nan]),\n",
       "  array([nan]),\n",
       "  array([nan]),\n",
       "  array([nan]),\n",
       "  array([nan]),\n",
       "  array([nan]),\n",
       "  array([nan]),\n",
       "  array([nan]),\n",
       "  array([nan]),\n",
       "  array([nan]),\n",
       "  array([nan]),\n",
       "  array([nan]),\n",
       "  array([nan]),\n",
       "  array([nan]),\n",
       "  array([nan]),\n",
       "  array([nan]),\n",
       "  array([nan]),\n",
       "  array([nan]),\n",
       "  array([nan]),\n",
       "  array([nan]),\n",
       "  array([nan]),\n",
       "  array([nan]),\n",
       "  array([nan]),\n",
       "  array([nan]),\n",
       "  array([nan]),\n",
       "  array([nan]),\n",
       "  array([nan]),\n",
       "  array([nan]),\n",
       "  array([nan]),\n",
       "  array([nan]),\n",
       "  array([nan]),\n",
       "  array([nan]),\n",
       "  array([nan]),\n",
       "  array([nan]),\n",
       "  array([nan]),\n",
       "  array([nan]),\n",
       "  array([nan]),\n",
       "  array([nan]),\n",
       "  array([nan]),\n",
       "  array([nan]),\n",
       "  array([nan]),\n",
       "  array([nan]),\n",
       "  array([nan]),\n",
       "  array([nan]),\n",
       "  array([nan]),\n",
       "  array([nan]),\n",
       "  array([nan]),\n",
       "  array([nan]),\n",
       "  array([nan]),\n",
       "  array([nan]),\n",
       "  array([nan]),\n",
       "  array([nan]),\n",
       "  array([nan]),\n",
       "  array([nan]),\n",
       "  array([nan]),\n",
       "  array([nan]),\n",
       "  array([nan]),\n",
       "  array([nan]),\n",
       "  array([nan]),\n",
       "  array([nan]),\n",
       "  array([nan]),\n",
       "  array([nan]),\n",
       "  array([nan]),\n",
       "  array([nan]),\n",
       "  array([nan]),\n",
       "  array([nan]),\n",
       "  array([nan]),\n",
       "  array([nan]),\n",
       "  array([nan]),\n",
       "  array([nan]),\n",
       "  array([nan]),\n",
       "  array([nan]),\n",
       "  array([nan]),\n",
       "  array([nan]),\n",
       "  array([nan]),\n",
       "  array([nan]),\n",
       "  array([nan]),\n",
       "  array([nan]),\n",
       "  array([nan]),\n",
       "  array([nan]),\n",
       "  array([nan]),\n",
       "  array([nan]),\n",
       "  array([nan]),\n",
       "  array([nan]),\n",
       "  array([nan]),\n",
       "  array([nan]),\n",
       "  array([nan]),\n",
       "  array([nan]),\n",
       "  array([nan]),\n",
       "  array([nan]),\n",
       "  array([nan]),\n",
       "  array([nan]),\n",
       "  array([nan]),\n",
       "  array([nan]),\n",
       "  array([nan]),\n",
       "  array([nan]),\n",
       "  array([nan]),\n",
       "  array([nan]),\n",
       "  array([nan]),\n",
       "  array([nan]),\n",
       "  array([nan]),\n",
       "  array([nan]),\n",
       "  array([nan]),\n",
       "  array([nan]),\n",
       "  array([nan]),\n",
       "  array([nan]),\n",
       "  array([nan]),\n",
       "  array([nan]),\n",
       "  array([nan]),\n",
       "  array([nan]),\n",
       "  array([nan]),\n",
       "  array([nan]),\n",
       "  array([nan]),\n",
       "  array([nan]),\n",
       "  array([nan]),\n",
       "  array([nan]),\n",
       "  array([nan]),\n",
       "  array([nan]),\n",
       "  array([nan]),\n",
       "  array([nan]),\n",
       "  array([nan]),\n",
       "  array([nan]),\n",
       "  array([nan]),\n",
       "  array([nan]),\n",
       "  array([nan]),\n",
       "  array([nan]),\n",
       "  array([nan]),\n",
       "  array([nan]),\n",
       "  array([nan]),\n",
       "  array([nan]),\n",
       "  array([nan]),\n",
       "  array([nan]),\n",
       "  array([nan])],\n",
       " 'leaves': [195,\n",
       "  189,\n",
       "  193,\n",
       "  153,\n",
       "  165,\n",
       "  157,\n",
       "  161,\n",
       "  125,\n",
       "  147,\n",
       "  175,\n",
       "  181,\n",
       "  183,\n",
       "  163,\n",
       "  167,\n",
       "  143,\n",
       "  135,\n",
       "  155,\n",
       "  197,\n",
       "  199,\n",
       "  129,\n",
       "  131,\n",
       "  151,\n",
       "  123,\n",
       "  127,\n",
       "  145,\n",
       "  141,\n",
       "  149,\n",
       "  171,\n",
       "  185,\n",
       "  173,\n",
       "  179,\n",
       "  91,\n",
       "  99,\n",
       "  113,\n",
       "  0,\n",
       "  20,\n",
       "  81,\n",
       "  104,\n",
       "  137,\n",
       "  187,\n",
       "  169,\n",
       "  177,\n",
       "  27,\n",
       "  51,\n",
       "  17,\n",
       "  21,\n",
       "  23,\n",
       "  61,\n",
       "  65,\n",
       "  68,\n",
       "  120,\n",
       "  75,\n",
       "  95,\n",
       "  103,\n",
       "  33,\n",
       "  41,\n",
       "  25,\n",
       "  1,\n",
       "  15,\n",
       "  11,\n",
       "  19,\n",
       "  35,\n",
       "  39,\n",
       "  13,\n",
       "  3,\n",
       "  5,\n",
       "  7,\n",
       "  29,\n",
       "  8,\n",
       "  10,\n",
       "  30,\n",
       "  32,\n",
       "  14,\n",
       "  18,\n",
       "  2,\n",
       "  6,\n",
       "  36,\n",
       "  38,\n",
       "  44,\n",
       "  26,\n",
       "  28,\n",
       "  12,\n",
       "  22,\n",
       "  24,\n",
       "  34,\n",
       "  124,\n",
       "  132,\n",
       "  148,\n",
       "  168,\n",
       "  188,\n",
       "  180,\n",
       "  190,\n",
       "  194,\n",
       "  196,\n",
       "  136,\n",
       "  152,\n",
       "  154,\n",
       "  140,\n",
       "  174,\n",
       "  186,\n",
       "  128,\n",
       "  176,\n",
       "  178,\n",
       "  172,\n",
       "  156,\n",
       "  158,\n",
       "  164,\n",
       "  182,\n",
       "  130,\n",
       "  150,\n",
       "  166,\n",
       "  170,\n",
       "  144,\n",
       "  162,\n",
       "  134,\n",
       "  138,\n",
       "  192,\n",
       "  198,\n",
       "  53,\n",
       "  64,\n",
       "  80,\n",
       "  60,\n",
       "  70,\n",
       "  102,\n",
       "  110,\n",
       "  57,\n",
       "  82,\n",
       "  108,\n",
       "  109,\n",
       "  126,\n",
       "  146,\n",
       "  74,\n",
       "  107,\n",
       "  59,\n",
       "  42,\n",
       "  55,\n",
       "  77,\n",
       "  98,\n",
       "  85,\n",
       "  92,\n",
       "  62,\n",
       "  90,\n",
       "  117,\n",
       "  119,\n",
       "  73,\n",
       "  63,\n",
       "  86,\n",
       "  76,\n",
       "  46,\n",
       "  50,\n",
       "  40,\n",
       "  67,\n",
       "  72,\n",
       "  160,\n",
       "  106,\n",
       "  116,\n",
       "  118,\n",
       "  89,\n",
       "  96,\n",
       "  101,\n",
       "  54,\n",
       "  56,\n",
       "  66,\n",
       "  79,\n",
       "  71,\n",
       "  83,\n",
       "  184,\n",
       "  93,\n",
       "  112,\n",
       "  121,\n",
       "  114,\n",
       "  115,\n",
       "  100,\n",
       "  105,\n",
       "  142,\n",
       "  94,\n",
       "  97,\n",
       "  4,\n",
       "  16,\n",
       "  69,\n",
       "  47,\n",
       "  48,\n",
       "  49,\n",
       "  191,\n",
       "  139,\n",
       "  133,\n",
       "  159,\n",
       "  88,\n",
       "  122,\n",
       "  111,\n",
       "  78,\n",
       "  84,\n",
       "  87,\n",
       "  58,\n",
       "  43,\n",
       "  52,\n",
       "  31,\n",
       "  45,\n",
       "  9,\n",
       "  37],\n",
       " 'color_list': ['g',\n",
       "  'g',\n",
       "  'g',\n",
       "  'g',\n",
       "  'g',\n",
       "  'g',\n",
       "  'g',\n",
       "  'g',\n",
       "  'g',\n",
       "  'g',\n",
       "  'g',\n",
       "  'g',\n",
       "  'g',\n",
       "  'g',\n",
       "  'g',\n",
       "  'g',\n",
       "  'g',\n",
       "  'g',\n",
       "  'g',\n",
       "  'g',\n",
       "  'g',\n",
       "  'g',\n",
       "  'g',\n",
       "  'g',\n",
       "  'g',\n",
       "  'g',\n",
       "  'g',\n",
       "  'g',\n",
       "  'g',\n",
       "  'g',\n",
       "  'g',\n",
       "  'g',\n",
       "  'g',\n",
       "  'g',\n",
       "  'g',\n",
       "  'g',\n",
       "  'g',\n",
       "  'g',\n",
       "  'g',\n",
       "  'g',\n",
       "  'g',\n",
       "  'g',\n",
       "  'g',\n",
       "  'g',\n",
       "  'g',\n",
       "  'g',\n",
       "  'g',\n",
       "  'g',\n",
       "  'g',\n",
       "  'g',\n",
       "  'g',\n",
       "  'g',\n",
       "  'g',\n",
       "  'g',\n",
       "  'g',\n",
       "  'g',\n",
       "  'g',\n",
       "  'g',\n",
       "  'g',\n",
       "  'g',\n",
       "  'g',\n",
       "  'g',\n",
       "  'g',\n",
       "  'g',\n",
       "  'g',\n",
       "  'g',\n",
       "  'g',\n",
       "  'r',\n",
       "  'r',\n",
       "  'r',\n",
       "  'r',\n",
       "  'r',\n",
       "  'r',\n",
       "  'r',\n",
       "  'r',\n",
       "  'r',\n",
       "  'r',\n",
       "  'r',\n",
       "  'r',\n",
       "  'r',\n",
       "  'r',\n",
       "  'r',\n",
       "  'r',\n",
       "  'r',\n",
       "  'r',\n",
       "  'r',\n",
       "  'r',\n",
       "  'r',\n",
       "  'r',\n",
       "  'r',\n",
       "  'r',\n",
       "  'r',\n",
       "  'r',\n",
       "  'r',\n",
       "  'r',\n",
       "  'r',\n",
       "  'r',\n",
       "  'r',\n",
       "  'r',\n",
       "  'r',\n",
       "  'r',\n",
       "  'r',\n",
       "  'r',\n",
       "  'r',\n",
       "  'r',\n",
       "  'r',\n",
       "  'r',\n",
       "  'r',\n",
       "  'r',\n",
       "  'r',\n",
       "  'r',\n",
       "  'r',\n",
       "  'r',\n",
       "  'r',\n",
       "  'r',\n",
       "  'r',\n",
       "  'r',\n",
       "  'r',\n",
       "  'r',\n",
       "  'r',\n",
       "  'r',\n",
       "  'r',\n",
       "  'r',\n",
       "  'r',\n",
       "  'r',\n",
       "  'r',\n",
       "  'r',\n",
       "  'r',\n",
       "  'r',\n",
       "  'r',\n",
       "  'r',\n",
       "  'r',\n",
       "  'r',\n",
       "  'r',\n",
       "  'r',\n",
       "  'r',\n",
       "  'r',\n",
       "  'r',\n",
       "  'r',\n",
       "  'r',\n",
       "  'r',\n",
       "  'r',\n",
       "  'r',\n",
       "  'r',\n",
       "  'r',\n",
       "  'r',\n",
       "  'r',\n",
       "  'r',\n",
       "  'r',\n",
       "  'r',\n",
       "  'r',\n",
       "  'r',\n",
       "  'r',\n",
       "  'r',\n",
       "  'r',\n",
       "  'r',\n",
       "  'r',\n",
       "  'r',\n",
       "  'r',\n",
       "  'r',\n",
       "  'r',\n",
       "  'r',\n",
       "  'r',\n",
       "  'r',\n",
       "  'r',\n",
       "  'r',\n",
       "  'r',\n",
       "  'r',\n",
       "  'r',\n",
       "  'r',\n",
       "  'r',\n",
       "  'r',\n",
       "  'r',\n",
       "  'r',\n",
       "  'r',\n",
       "  'r',\n",
       "  'r',\n",
       "  'r',\n",
       "  'r',\n",
       "  'r',\n",
       "  'r',\n",
       "  'r',\n",
       "  'r',\n",
       "  'r',\n",
       "  'r',\n",
       "  'r',\n",
       "  'r',\n",
       "  'r',\n",
       "  'r',\n",
       "  'r',\n",
       "  'r',\n",
       "  'r',\n",
       "  'r',\n",
       "  'r',\n",
       "  'r',\n",
       "  'r',\n",
       "  'r',\n",
       "  'r',\n",
       "  'b']}"
      ]
     },
     "execution_count": 15,
     "metadata": {},
     "output_type": "execute_result"
    },
    {
     "data": {
      "image/png": "[encoded data removed]",
      "text/plain": [
       "<Figure size 2880x1440 with 1 Axes>"
      ]
     },
     "metadata": {
      "needs_background": "light"
     },
     "output_type": "display_data"
    }
   ],
   "source": [
    "# Calculate the linkage: mergings\n",
    "# method = 'single','complete', 'average', 'weighted', 'centroid', 'median', 'ward'\n",
    "mergings_ward = linkage(Customers, method='ward')\n",
    "\n",
    "# Plot the dendrogram, using varieties as labels\n",
    "plt.figure(figsize=(40,20))\n",
    "dendrogram(mergings_ward,\n",
    "           labels = labels.as_matrix(columns=['VIP_2']),\n",
    "           leaf_rotation=90,\n",
    "           leaf_font_size=20,\n",
    ")\n",
    "# 거리계산은 ward방식으로, 라벨은 위에서 만든 VIP_2를 이용하였습니다. "
   ]
  },
  {
   "cell_type": "markdown",
   "metadata": {},
   "source": [
    "## 2.2 Hierarchical Clustering Evaluation\n",
    "\n",
    "클러스터링의 적당한 거리를 라벨 VIP_2처럼 2개로 나누기 위해 거리를 15로 하였습니다. "
   ]
  },
  {
   "cell_type": "code",
   "execution_count": 16,
   "metadata": {},
   "outputs": [
    {
     "data": {
      "text/html": [
       "<div>\n",
       "<style scoped>\n",
       "    .dataframe tbody tr th:only-of-type {\n",
       "        vertical-align: middle;\n",
       "    }\n",
       "\n",
       "    .dataframe tbody tr th {\n",
       "        vertical-align: top;\n",
       "    }\n",
       "\n",
       "    .dataframe thead th {\n",
       "        text-align: right;\n",
       "    }\n",
       "</style>\n",
       "<table border=\"1\" class=\"dataframe\">\n",
       "  <thead>\n",
       "    <tr style=\"text-align: right;\">\n",
       "      <th>labels</th>\n",
       "      <th>0</th>\n",
       "      <th>1</th>\n",
       "    </tr>\n",
       "    <tr>\n",
       "      <th>predict</th>\n",
       "      <th></th>\n",
       "      <th></th>\n",
       "    </tr>\n",
       "  </thead>\n",
       "  <tbody>\n",
       "    <tr>\n",
       "      <td>1</td>\n",
       "      <td>5</td>\n",
       "      <td>63</td>\n",
       "    </tr>\n",
       "    <tr>\n",
       "      <td>2</td>\n",
       "      <td>50</td>\n",
       "      <td>0</td>\n",
       "    </tr>\n",
       "    <tr>\n",
       "      <td>3</td>\n",
       "      <td>48</td>\n",
       "      <td>34</td>\n",
       "    </tr>\n",
       "  </tbody>\n",
       "</table>\n",
       "</div>"
      ],
      "text/plain": [
       "labels    0   1\n",
       "predict        \n",
       "1         5  63\n",
       "2        50   0\n",
       "3        48  34"
      ]
     },
     "execution_count": 16,
     "metadata": {},
     "output_type": "execute_result"
    }
   ],
   "source": [
    "from scipy.cluster.hierarchy import fcluster\n",
    "from sklearn.pipeline import make_pipeline\n",
    "from sklearn.preprocessing import StandardScaler\n",
    "\n",
    "predict = pd.DataFrame(fcluster(mergings_ward,15,criterion='distance'))\n",
    "predict.columns=['predict'] # predict column에 예측 결과\n",
    "pd.set_option('display.max_rows', 500)\n",
    "pd.set_option('display.max_columns', 500)\n",
    "\n",
    "ct = pd.crosstab(predict['predict'],labels['labels'])\n",
    "ct"
   ]
  },
  {
   "cell_type": "markdown",
   "metadata": {},
   "source": [
    "예측치에 대해서 매우 완벽하지는 않지만 어느정도? 라벨 0과 1을 구분하고 있다고 판단하였스빈다. \n",
    "\n",
    "### 2.3 silhouette_score"
   ]
  },
  {
   "cell_type": "code",
   "execution_count": 17,
   "metadata": {},
   "outputs": [
    {
     "data": {
      "text/plain": [
       "0.11093516791044773"
      ]
     },
     "execution_count": 17,
     "metadata": {},
     "output_type": "execute_result"
    }
   ],
   "source": [
    "from sklearn.metrics import silhouette_score, silhouette_samples\n",
    "silhouette_score(labels,predict, metric='euclidean')\n",
    "#silhouette_score로 확인해보았을때 0.45로 높게 나오는 것을 알 수 있습니다. "
   ]
  },
  {
   "cell_type": "markdown",
   "metadata": {},
   "source": [
    "## 3.1 K-Means Clustering"
   ]
  },
  {
   "cell_type": "code",
   "execution_count": 18,
   "metadata": {},
   "outputs": [],
   "source": [
    "feature = Customers[['Gender','Age','Annual Income (k$)']]\n",
    "#동일하게 feature를 만들고 k-means를 진행해 보도록 하겠습니다. "
   ]
  },
  {
   "cell_type": "code",
   "execution_count": 19,
   "metadata": {},
   "outputs": [
    {
     "data": {
      "text/plain": [
       "KMeans(algorithm='auto', copy_x=True, init='k-means++', max_iter=300,\n",
       "       n_clusters=1, n_init=10, n_jobs=None, precompute_distances='auto',\n",
       "       random_state=None, tol=0.0001, verbose=0)"
      ]
     },
     "execution_count": 19,
     "metadata": {},
     "output_type": "execute_result"
    },
    {
     "data": {
      "text/plain": [
       "KMeans(algorithm='auto', copy_x=True, init='k-means++', max_iter=300,\n",
       "       n_clusters=2, n_init=10, n_jobs=None, precompute_distances='auto',\n",
       "       random_state=None, tol=0.0001, verbose=0)"
      ]
     },
     "execution_count": 19,
     "metadata": {},
     "output_type": "execute_result"
    },
    {
     "data": {
      "text/plain": [
       "KMeans(algorithm='auto', copy_x=True, init='k-means++', max_iter=300,\n",
       "       n_clusters=3, n_init=10, n_jobs=None, precompute_distances='auto',\n",
       "       random_state=None, tol=0.0001, verbose=0)"
      ]
     },
     "execution_count": 19,
     "metadata": {},
     "output_type": "execute_result"
    },
    {
     "data": {
      "text/plain": [
       "KMeans(algorithm='auto', copy_x=True, init='k-means++', max_iter=300,\n",
       "       n_clusters=4, n_init=10, n_jobs=None, precompute_distances='auto',\n",
       "       random_state=None, tol=0.0001, verbose=0)"
      ]
     },
     "execution_count": 19,
     "metadata": {},
     "output_type": "execute_result"
    },
    {
     "data": {
      "text/plain": [
       "KMeans(algorithm='auto', copy_x=True, init='k-means++', max_iter=300,\n",
       "       n_clusters=5, n_init=10, n_jobs=None, precompute_distances='auto',\n",
       "       random_state=None, tol=0.0001, verbose=0)"
      ]
     },
     "execution_count": 19,
     "metadata": {},
     "output_type": "execute_result"
    },
    {
     "data": {
      "text/plain": [
       "KMeans(algorithm='auto', copy_x=True, init='k-means++', max_iter=300,\n",
       "       n_clusters=6, n_init=10, n_jobs=None, precompute_distances='auto',\n",
       "       random_state=None, tol=0.0001, verbose=0)"
      ]
     },
     "execution_count": 19,
     "metadata": {},
     "output_type": "execute_result"
    },
    {
     "data": {
      "text/plain": [
       "KMeans(algorithm='auto', copy_x=True, init='k-means++', max_iter=300,\n",
       "       n_clusters=7, n_init=10, n_jobs=None, precompute_distances='auto',\n",
       "       random_state=None, tol=0.0001, verbose=0)"
      ]
     },
     "execution_count": 19,
     "metadata": {},
     "output_type": "execute_result"
    },
    {
     "data": {
      "text/plain": [
       "KMeans(algorithm='auto', copy_x=True, init='k-means++', max_iter=300,\n",
       "       n_clusters=8, n_init=10, n_jobs=None, precompute_distances='auto',\n",
       "       random_state=None, tol=0.0001, verbose=0)"
      ]
     },
     "execution_count": 19,
     "metadata": {},
     "output_type": "execute_result"
    },
    {
     "data": {
      "text/plain": [
       "KMeans(algorithm='auto', copy_x=True, init='k-means++', max_iter=300,\n",
       "       n_clusters=9, n_init=10, n_jobs=None, precompute_distances='auto',\n",
       "       random_state=None, tol=0.0001, verbose=0)"
      ]
     },
     "execution_count": 19,
     "metadata": {},
     "output_type": "execute_result"
    },
    {
     "data": {
      "text/plain": [
       "KMeans(algorithm='auto', copy_x=True, init='k-means++', max_iter=300,\n",
       "       n_clusters=10, n_init=10, n_jobs=None, precompute_distances='auto',\n",
       "       random_state=None, tol=0.0001, verbose=0)"
      ]
     },
     "execution_count": 19,
     "metadata": {},
     "output_type": "execute_result"
    },
    {
     "data": {
      "text/plain": [
       "KMeans(algorithm='auto', copy_x=True, init='k-means++', max_iter=300,\n",
       "       n_clusters=11, n_init=10, n_jobs=None, precompute_distances='auto',\n",
       "       random_state=None, tol=0.0001, verbose=0)"
      ]
     },
     "execution_count": 19,
     "metadata": {},
     "output_type": "execute_result"
    },
    {
     "data": {
      "text/plain": [
       "KMeans(algorithm='auto', copy_x=True, init='k-means++', max_iter=300,\n",
       "       n_clusters=12, n_init=10, n_jobs=None, precompute_distances='auto',\n",
       "       random_state=None, tol=0.0001, verbose=0)"
      ]
     },
     "execution_count": 19,
     "metadata": {},
     "output_type": "execute_result"
    },
    {
     "data": {
      "text/plain": [
       "KMeans(algorithm='auto', copy_x=True, init='k-means++', max_iter=300,\n",
       "       n_clusters=13, n_init=10, n_jobs=None, precompute_distances='auto',\n",
       "       random_state=None, tol=0.0001, verbose=0)"
      ]
     },
     "execution_count": 19,
     "metadata": {},
     "output_type": "execute_result"
    },
    {
     "data": {
      "text/plain": [
       "KMeans(algorithm='auto', copy_x=True, init='k-means++', max_iter=300,\n",
       "       n_clusters=14, n_init=10, n_jobs=None, precompute_distances='auto',\n",
       "       random_state=None, tol=0.0001, verbose=0)"
      ]
     },
     "execution_count": 19,
     "metadata": {},
     "output_type": "execute_result"
    },
    {
     "data": {
      "text/plain": [
       "KMeans(algorithm='auto', copy_x=True, init='k-means++', max_iter=300,\n",
       "       n_clusters=15, n_init=10, n_jobs=None, precompute_distances='auto',\n",
       "       random_state=None, tol=0.0001, verbose=0)"
      ]
     },
     "execution_count": 19,
     "metadata": {},
     "output_type": "execute_result"
    },
    {
     "data": {
      "text/plain": [
       "KMeans(algorithm='auto', copy_x=True, init='k-means++', max_iter=300,\n",
       "       n_clusters=16, n_init=10, n_jobs=None, precompute_distances='auto',\n",
       "       random_state=None, tol=0.0001, verbose=0)"
      ]
     },
     "execution_count": 19,
     "metadata": {},
     "output_type": "execute_result"
    },
    {
     "data": {
      "text/plain": [
       "KMeans(algorithm='auto', copy_x=True, init='k-means++', max_iter=300,\n",
       "       n_clusters=17, n_init=10, n_jobs=None, precompute_distances='auto',\n",
       "       random_state=None, tol=0.0001, verbose=0)"
      ]
     },
     "execution_count": 19,
     "metadata": {},
     "output_type": "execute_result"
    },
    {
     "data": {
      "text/plain": [
       "KMeans(algorithm='auto', copy_x=True, init='k-means++', max_iter=300,\n",
       "       n_clusters=18, n_init=10, n_jobs=None, precompute_distances='auto',\n",
       "       random_state=None, tol=0.0001, verbose=0)"
      ]
     },
     "execution_count": 19,
     "metadata": {},
     "output_type": "execute_result"
    },
    {
     "data": {
      "text/plain": [
       "KMeans(algorithm='auto', copy_x=True, init='k-means++', max_iter=300,\n",
       "       n_clusters=19, n_init=10, n_jobs=None, precompute_distances='auto',\n",
       "       random_state=None, tol=0.0001, verbose=0)"
      ]
     },
     "execution_count": 19,
     "metadata": {},
     "output_type": "execute_result"
    },
    {
     "data": {
      "text/plain": [
       "[<matplotlib.lines.Line2D at 0x21e9eb15bc8>]"
      ]
     },
     "execution_count": 19,
     "metadata": {},
     "output_type": "execute_result"
    },
    {
     "data": {
      "text/plain": [
       "Text(0.5, 1.0, 'Elbow curve')"
      ]
     },
     "execution_count": 19,
     "metadata": {},
     "output_type": "execute_result"
    },
    {
     "data": {
      "image/png": "[encoded data removed]",
      "text/plain": [
       "<Figure size 1440x720 with 1 Axes>"
      ]
     },
     "metadata": {
      "needs_background": "light"
     },
     "output_type": "display_data"
    }
   ],
   "source": [
    "from sklearn.cluster import KMeans\n",
    "import matplotlib.pyplot  as plt\n",
    "import seaborn as sns\n",
    "\n",
    "X = feature\n",
    "distorsions = []\n",
    "\n",
    "for k in range(1, 20):\n",
    "    kmeans = KMeans(n_clusters=k)\n",
    "    kmeans.fit(feature)\n",
    "    distorsions.append(kmeans.inertia_)\n",
    "\n",
    "fig = plt.figure(figsize=(20, 10))\n",
    "plt.plot(range(1, 20), distorsions)\n",
    "plt.grid(True)\n",
    "plt.title('Elbow curve')\n"
   ]
  },
  {
   "cell_type": "code",
   "execution_count": 20,
   "metadata": {},
   "outputs": [
    {
     "data": {
      "text/plain": [
       "KMeans(algorithm='auto', copy_x=True, init='k-means++', max_iter=300,\n",
       "       n_clusters=4, n_init=10, n_jobs=None, precompute_distances='auto',\n",
       "       random_state=None, tol=0.0001, verbose=0)"
      ]
     },
     "execution_count": 20,
     "metadata": {},
     "output_type": "execute_result"
    }
   ],
   "source": [
    "#Elbow curve를 판단했을 때 2.5에서 5.0 사이와 5.0에서 7.5 사이가 두드러진 포인트라고 판단하였습니다.\n",
    "#위에서 VIP_4라는 이름으로 4개의 라벨을 만들었기 때문에 여기서도 k=4로 지정하여 k-means clustering을 진행해 보도록 하겠습니다. \n",
    "model = KMeans(n_clusters=4,algorithm='auto')\n",
    "model.fit(feature)\n",
    "\n",
    "predict = pd.DataFrame(model.predict(feature))\n",
    "predict.columns=['predict']\n",
    "\n",
    "# concatenate labels to df as a new column\n",
    "r = pd.concat([feature,predict],axis=1)"
   ]
  },
  {
   "cell_type": "code",
   "execution_count": 21,
   "metadata": {},
   "outputs": [
    {
     "data": {
      "text/html": [
       "<div>\n",
       "<style scoped>\n",
       "    .dataframe tbody tr th:only-of-type {\n",
       "        vertical-align: middle;\n",
       "    }\n",
       "\n",
       "    .dataframe tbody tr th {\n",
       "        vertical-align: top;\n",
       "    }\n",
       "\n",
       "    .dataframe thead th {\n",
       "        text-align: right;\n",
       "    }\n",
       "</style>\n",
       "<table border=\"1\" class=\"dataframe\">\n",
       "  <thead>\n",
       "    <tr style=\"text-align: right;\">\n",
       "      <th></th>\n",
       "      <th>Gender</th>\n",
       "      <th>Age</th>\n",
       "      <th>Annual Income (k$)</th>\n",
       "      <th>predict</th>\n",
       "    </tr>\n",
       "  </thead>\n",
       "  <tbody>\n",
       "    <tr>\n",
       "      <td>195</td>\n",
       "      <td>-0.886405</td>\n",
       "      <td>-0.276302</td>\n",
       "      <td>2.268791</td>\n",
       "      <td>2</td>\n",
       "    </tr>\n",
       "    <tr>\n",
       "      <td>196</td>\n",
       "      <td>-0.886405</td>\n",
       "      <td>0.441365</td>\n",
       "      <td>2.497807</td>\n",
       "      <td>2</td>\n",
       "    </tr>\n",
       "    <tr>\n",
       "      <td>197</td>\n",
       "      <td>1.128152</td>\n",
       "      <td>-0.491602</td>\n",
       "      <td>2.497807</td>\n",
       "      <td>1</td>\n",
       "    </tr>\n",
       "    <tr>\n",
       "      <td>198</td>\n",
       "      <td>1.128152</td>\n",
       "      <td>-0.491602</td>\n",
       "      <td>2.917671</td>\n",
       "      <td>1</td>\n",
       "    </tr>\n",
       "    <tr>\n",
       "      <td>199</td>\n",
       "      <td>1.128152</td>\n",
       "      <td>-0.635135</td>\n",
       "      <td>2.917671</td>\n",
       "      <td>1</td>\n",
       "    </tr>\n",
       "  </tbody>\n",
       "</table>\n",
       "</div>"
      ],
      "text/plain": [
       "       Gender       Age  Annual Income (k$)  predict\n",
       "195 -0.886405 -0.276302            2.268791        2\n",
       "196 -0.886405  0.441365            2.497807        2\n",
       "197  1.128152 -0.491602            2.497807        1\n",
       "198  1.128152 -0.491602            2.917671        1\n",
       "199  1.128152 -0.635135            2.917671        1"
      ]
     },
     "execution_count": 21,
     "metadata": {},
     "output_type": "execute_result"
    }
   ],
   "source": [
    "r.tail()"
   ]
  },
  {
   "cell_type": "code",
   "execution_count": 22,
   "metadata": {},
   "outputs": [
    {
     "data": {
      "text/plain": [
       "<mpl_toolkits.mplot3d.art3d.Path3DCollection at 0x21e9ec08c88>"
      ]
     },
     "execution_count": 22,
     "metadata": {},
     "output_type": "execute_result"
    },
    {
     "data": {
      "text/plain": [
       "<mpl_toolkits.mplot3d.art3d.Path3DCollection at 0x21e9ec13f88>"
      ]
     },
     "execution_count": 22,
     "metadata": {},
     "output_type": "execute_result"
    },
    {
     "data": {
      "text/plain": [
       "Text(0.5, 0, 'Gender')"
      ]
     },
     "execution_count": 22,
     "metadata": {},
     "output_type": "execute_result"
    },
    {
     "data": {
      "text/plain": [
       "Text(0.5, 0, 'Age')"
      ]
     },
     "execution_count": 22,
     "metadata": {},
     "output_type": "execute_result"
    },
    {
     "data": {
      "text/plain": [
       "Text(0.5, 0, 'Annual Income (k$)')"
      ]
     },
     "execution_count": 22,
     "metadata": {},
     "output_type": "execute_result"
    },
    {
     "data": {
      "image/png": "[encoded data removed]",
      "text/plain": [
       "<Figure size 432x432 with 1 Axes>"
      ]
     },
     "metadata": {
      "needs_background": "light"
     },
     "output_type": "display_data"
    }
   ],
   "source": [
    "centers = pd.DataFrame(model.cluster_centers_,columns=['Gender','Age','Annual Income (k$)'])\n",
    "center_x = centers['Gender']\n",
    "center_y = centers['Age']\n",
    "center_z = centers['Annual Income (k$)']\n",
    "\n",
    "from mpl_toolkits.mplot3d import Axes3D\n",
    "# scatter plot\n",
    "fig = plt.figure( figsize=(6,6))\n",
    "ax = Axes3D(fig, rect=[0, 0, .95, 1], elev=48, azim=134)\n",
    "ax.scatter(r['Gender'],r['Age'],r['Annual Income (k$)'],c=r['predict'],alpha=0.5)\n",
    "ax.scatter(center_x,center_y,center_z,s=50,marker='D',c='r')\n",
    "ax.set_xlabel('Gender')\n",
    "ax.set_ylabel('Age')\n",
    "ax.set_zlabel('Annual Income (k$)')\n",
    "plt.show()\n",
    "#다음과 같이 그래프가 그려짐을 확인할 수 있었습니다. 특히 age와 income에 따라서 잘 나눠진다고 판단하였습니다. "
   ]
  },
  {
   "cell_type": "markdown",
   "metadata": {},
   "source": [
    "## 3.2 K-Means Evaluation\n",
    "https://bcho.tistory.com/1203"
   ]
  },
  {
   "cell_type": "code",
   "execution_count": 23,
   "metadata": {},
   "outputs": [
    {
     "name": "stdout",
     "output_type": "stream",
     "text": [
      "<class 'pandas.core.frame.DataFrame'>\n",
      "RangeIndex: 200 entries, 0 to 199\n",
      "Data columns (total 7 columns):\n",
      "Gender                200 non-null float64\n",
      "Age                   200 non-null float64\n",
      "Annual Income (k$)    200 non-null float64\n",
      "Score                 200 non-null float64\n",
      "VIP_3                 200 non-null int64\n",
      "VIP_2                 200 non-null int64\n",
      "VIP_4                 200 non-null int64\n",
      "dtypes: float64(4), int64(3)\n",
      "memory usage: 11.1 KB\n"
     ]
    }
   ],
   "source": [
    "Customers.info()"
   ]
  },
  {
   "cell_type": "code",
   "execution_count": 24,
   "metadata": {},
   "outputs": [
    {
     "name": "stdout",
     "output_type": "stream",
     "text": [
      "predict   0   1   2   3\n",
      "VIP_4                  \n",
      "0         8  17  14  11\n",
      "1         8   8  17  20\n",
      "2        14  14  10  14\n",
      "3        14  14  17   0\n",
      "238.09023146702887\n"
     ]
    }
   ],
   "source": [
    "ct = pd.crosstab(Customers['VIP_4'],r['predict'])\n",
    "print (ct)\n",
    "print (model.inertia_)\n",
    "\n",
    "#예측값과 분류에 대해서는 크게 유의미하지는 않게 나타남을 알 수 있었습니다. \n",
    "#inertia_값은 237로 scaling이전보다 크게 감소한 것을 확인하였습니다. "
   ]
  },
  {
   "cell_type": "code",
   "execution_count": 25,
   "metadata": {},
   "outputs": [
    {
     "data": {
      "text/plain": [
       "-0.18184918569709768"
      ]
     },
     "execution_count": 25,
     "metadata": {},
     "output_type": "execute_result"
    }
   ],
   "source": [
    "from sklearn.metrics import silhouette_score, silhouette_samples\n",
    "silhouette_score(labels,r['predict'], metric='euclidean')\n",
    "#silhouette_score 점수도 음수로 크게 유의미하다고 볼 수 없을 것 같습니다. "
   ]
  },
  {
   "cell_type": "markdown",
   "metadata": {},
   "source": [
    "## 4.1 DBSCAN\n",
    "\n",
    "마지막으로 DBSCAN을 통해서 클러스터링을 해보도록 하겠습니다. "
   ]
  },
  {
   "cell_type": "code",
   "execution_count": 26,
   "metadata": {},
   "outputs": [],
   "source": [
    "#먼저 k-dist를 확인하여 적당한 eps를 확인해보록 하겠습니다. \n",
    "from sklearn.neighbors import NearestNeighbors\n",
    "neigh = NearestNeighbors(n_neighbors=4)\n",
    "nbrs = neigh.fit(feature)\n",
    "distances, indices = nbrs.kneighbors(feature)"
   ]
  },
  {
   "cell_type": "code",
   "execution_count": 27,
   "metadata": {},
   "outputs": [
    {
     "data": {
      "text/plain": [
       "[<matplotlib.lines.Line2D at 0x21e9f997308>]"
      ]
     },
     "execution_count": 27,
     "metadata": {},
     "output_type": "execute_result"
    },
    {
     "data": {
      "image/png": "[encoded data removed]",
      "text/plain": [
       "<Figure size 432x288 with 1 Axes>"
      ]
     },
     "metadata": {
      "needs_background": "light"
     },
     "output_type": "display_data"
    }
   ],
   "source": [
    "distances = np.sort(distances, axis=0)\n",
    "distances = distances[:,1]\n",
    "plt.plot(distances)\n",
    "#0.35가 적당하다고 판단하였습니다. "
   ]
  },
  {
   "cell_type": "code",
   "execution_count": 28,
   "metadata": {},
   "outputs": [],
   "source": [
    "from sklearn.cluster import DBSCAN\n",
    "import matplotlib.pyplot as plt\n",
    "import seaborn as sns\n",
    "\n",
    "# create model and prediction\n",
    "model = DBSCAN(eps=2,min_samples=4)\n",
    "predict = pd.DataFrame(model.fit_predict(feature))\n",
    "predict.columns=['predict']\n",
    "\n",
    "# concatenate labels to df as a new column\n",
    "r = pd.concat([feature,predict],axis=1)"
   ]
  },
  {
   "cell_type": "code",
   "execution_count": 29,
   "metadata": {},
   "outputs": [
    {
     "data": {
      "text/plain": [
       "<mpl_toolkits.mplot3d.art3d.Path3DCollection at 0x21e9fa24748>"
      ]
     },
     "execution_count": 29,
     "metadata": {},
     "output_type": "execute_result"
    },
    {
     "data": {
      "text/plain": [
       "<mpl_toolkits.mplot3d.art3d.Path3DCollection at 0x21e9fa2d388>"
      ]
     },
     "execution_count": 29,
     "metadata": {},
     "output_type": "execute_result"
    },
    {
     "data": {
      "text/plain": [
       "Text(0.5, 0, 'Gender')"
      ]
     },
     "execution_count": 29,
     "metadata": {},
     "output_type": "execute_result"
    },
    {
     "data": {
      "text/plain": [
       "Text(0.5, 0, 'Age')"
      ]
     },
     "execution_count": 29,
     "metadata": {},
     "output_type": "execute_result"
    },
    {
     "data": {
      "text/plain": [
       "Text(0.5, 0, 'Annual Income (k$)')"
      ]
     },
     "execution_count": 29,
     "metadata": {},
     "output_type": "execute_result"
    },
    {
     "data": {
      "image/png": "[encoded data removed]",
      "text/plain": [
       "<Figure size 432x432 with 1 Axes>"
      ]
     },
     "metadata": {
      "needs_background": "light"
     },
     "output_type": "display_data"
    }
   ],
   "source": [
    "from mpl_toolkits.mplot3d import Axes3D\n",
    "# scatter plot\n",
    "fig = plt.figure( figsize=(6,6))\n",
    "ax = Axes3D(fig, rect=[0, 0, .95, 1], elev=48, azim=134)\n",
    "ax.scatter(r['Gender'],r['Age'],r['Annual Income (k$)'],c=r['predict'],alpha=0.5)\n",
    "ax.scatter(center_x,center_y,center_z,s=50,marker='D',c='r')\n",
    "ax.set_xlabel('Gender')\n",
    "ax.set_ylabel('Age')\n",
    "ax.set_zlabel('Annual Income (k$)')\n",
    "plt.show()"
   ]
  },
  {
   "cell_type": "markdown",
   "metadata": {},
   "source": [
    "### 4.2 DBSCAN Evaluation"
   ]
  },
  {
   "cell_type": "code",
   "execution_count": 30,
   "metadata": {},
   "outputs": [
    {
     "name": "stdout",
     "output_type": "stream",
     "text": [
      "predict   0   1\n",
      "VIP_2          \n",
      "0        44  59\n",
      "1        44  53\n"
     ]
    }
   ],
   "source": [
    "ct = pd.crosstab(Customers['VIP_2'],r['predict'])\n",
    "print (ct)\n",
    "#평가결과는 그렇게 좋지 못한듯여...."
   ]
  },
  {
   "cell_type": "code",
   "execution_count": 31,
   "metadata": {},
   "outputs": [
    {
     "data": {
      "text/plain": [
       "-0.007797551585358475"
      ]
     },
     "execution_count": 31,
     "metadata": {},
     "output_type": "execute_result"
    }
   ],
   "source": [
    "from sklearn.metrics import silhouette_score, silhouette_samples\n",
    "silhouette_score(labels,r['predict'], metric='euclidean')\n",
    "#silhouette_score역시 높지않은 것으로 나타났습니다. "
   ]
  },
  {
   "cell_type": "markdown",
   "metadata": {},
   "source": [
    "# 5 MeanShift¶"
   ]
  },
  {
   "cell_type": "code",
   "execution_count": 93,
   "metadata": {},
   "outputs": [
    {
     "data": {
      "text/plain": [
       "array([1, 1, 0, 0, 0, 0, 0, 0, 1, 0, 1, 0, 0, 0, 1, 1, 0, 1, 1, 0, 1, 1,\n",
       "       0, 1, 0, 1, 0, 1, 0, 0, 1, 0, 1, 1, 0, 0, 0, 0, 0, 0, 0, 1, 1, 0,\n",
       "       0, 0, 0, 0, 0, 0, 0, 1, 0, 1, 0, 1, 0, 1, 0, 1, 1, 1, 0, 0, 1, 1,\n",
       "       0, 0, 1, 0, 1, 0, 0, 0, 1, 1, 0, 1, 0, 0, 1, 1, 1, 0, 0, 1, 0, 0,\n",
       "       0, 0, 0, 1, 1, 0, 0, 1, 0, 0, 1, 1, 0, 0, 1, 1, 1, 0, 0, 1, 1, 1,\n",
       "       1, 0, 0, 1, 0, 0, 0, 0, 0, 0, 1, 0, 0, 1, 0, 0, 1, 1, 1, 1, 1, 1,\n",
       "       0, 0, 1, 0, 0, 1, 1, 0, 0, 1, 0, 0, 1, 1, 1, 0, 0, 1, 1, 1, 0, 0,\n",
       "       0, 0, 1, 0, 1, 0, 0, 0, 1, 0, 1, 0, 1, 0, 0, 1, 1, 1, 1, 1, 0, 0,\n",
       "       1, 1, 1, 1, 0, 0, 1, 0, 0, 1, 0, 1, 0, 0, 0, 0, 1, 0, 0, 0, 0, 1,\n",
       "       1, 1], dtype=int64)"
      ]
     },
     "execution_count": 93,
     "metadata": {},
     "output_type": "execute_result"
    }
   ],
   "source": [
    "from sklearn.cluster import MeanShift\n",
    "import numpy as np\n",
    "X = feature\n",
    "clustering = MeanShift(bandwidth=2).fit(X)\n",
    "clustering.fit_predict(X)"
   ]
  },
  {
   "cell_type": "code",
   "execution_count": 92,
   "metadata": {},
   "outputs": [],
   "source": [
    "predict = pd.DataFrame(clustering.fit_predict(X))\n",
    "predict.columns=['predict']\n",
    "\n",
    "# concatenate labels to df as a new column\n",
    "r = pd.concat([feature,predict],axis=1)"
   ]
  },
  {
   "cell_type": "code",
   "execution_count": 96,
   "metadata": {},
   "outputs": [
    {
     "name": "stdout",
     "output_type": "stream",
     "text": [
      "predict   0   1\n",
      "VIP_2          \n",
      "0        59  44\n",
      "1        53  44\n"
     ]
    }
   ],
   "source": [
    "ct = pd.crosstab(Customers['VIP_2'],r['predict'])\n",
    "print (ct)"
   ]
  },
  {
   "cell_type": "code",
   "execution_count": null,
   "metadata": {},
   "outputs": [],
   "source": []
  }
 ],
 "metadata": {
  "kernelspec": {
   "display_name": "Python 3",
   "language": "python",
   "name": "python3"
  },
  "language_info": {
   "codemirror_mode": {
    "name": "ipython",
    "version": 3
   },
   "file_extension": ".py",
   "mimetype": "text/x-python",
   "name": "python",
   "nbconvert_exporter": "python",
   "pygments_lexer": "ipython3",
   "version": "3.7.4"
  }
 },
 "nbformat": 4,
 "nbformat_minor": 4
}
