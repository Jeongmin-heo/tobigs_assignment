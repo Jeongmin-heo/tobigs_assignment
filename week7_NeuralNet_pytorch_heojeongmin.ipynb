{
  "nbformat": 4,
  "nbformat_minor": 0,
  "metadata": {
    "colab": {
      "name": "week7_NeuralNet_pytorch_heojeongmin.ipynb",
      "provenance": [],
      "collapsed_sections": []
    },
    "kernelspec": {
      "name": "python3",
      "display_name": "Python 3"
    },
    "accelerator": "GPU",
    "widgets": {
      "application/vnd.jupyter.widget-state+json": {
        "5e9a6dffb4f24873a63fa616ccb24289": {
          "model_module": "@jupyter-widgets/controls",
          "model_name": "HBoxModel",
          "state": {
            "_view_name": "HBoxView",
            "_dom_classes": [],
            "_model_name": "HBoxModel",
            "_view_module": "@jupyter-widgets/controls",
            "_model_module_version": "1.5.0",
            "_view_count": null,
            "_view_module_version": "1.5.0",
            "box_style": "",
            "layout": "IPY_MODEL_1751592d2cf84caab50475a05c4665da",
            "_model_module": "@jupyter-widgets/controls",
            "children": [
              "IPY_MODEL_e224567d28e540848411d0f57b0dddfa",
              "IPY_MODEL_3bd2a4f0cc2a4112ad91fb35b80219ad"
            ]
          }
        },
        "1751592d2cf84caab50475a05c4665da": {
          "model_module": "@jupyter-widgets/base",
          "model_name": "LayoutModel",
          "state": {
            "_view_name": "LayoutView",
            "grid_template_rows": null,
            "right": null,
            "justify_content": null,
            "_view_module": "@jupyter-widgets/base",
            "overflow": null,
            "_model_module_version": "1.2.0",
            "_view_count": null,
            "flex_flow": null,
            "width": null,
            "min_width": null,
            "border": null,
            "align_items": null,
            "bottom": null,
            "_model_module": "@jupyter-widgets/base",
            "top": null,
            "grid_column": null,
            "overflow_y": null,
            "overflow_x": null,
            "grid_auto_flow": null,
            "grid_area": null,
            "grid_template_columns": null,
            "flex": null,
            "_model_name": "LayoutModel",
            "justify_items": null,
            "grid_row": null,
            "max_height": null,
            "align_content": null,
            "visibility": null,
            "align_self": null,
            "height": null,
            "min_height": null,
            "padding": null,
            "grid_auto_rows": null,
            "grid_gap": null,
            "max_width": null,
            "order": null,
            "_view_module_version": "1.2.0",
            "grid_template_areas": null,
            "object_position": null,
            "object_fit": null,
            "grid_auto_columns": null,
            "margin": null,
            "display": null,
            "left": null
          }
        },
        "e224567d28e540848411d0f57b0dddfa": {
          "model_module": "@jupyter-widgets/controls",
          "model_name": "IntProgressModel",
          "state": {
            "_view_name": "ProgressView",
            "style": "IPY_MODEL_cdc4c40085ac4ae193429b22209fdd49",
            "_dom_classes": [],
            "description": "",
            "_model_name": "IntProgressModel",
            "bar_style": "success",
            "max": 71,
            "_view_module": "@jupyter-widgets/controls",
            "_model_module_version": "1.5.0",
            "value": 71,
            "_view_count": null,
            "_view_module_version": "1.5.0",
            "orientation": "horizontal",
            "min": 0,
            "description_tooltip": null,
            "_model_module": "@jupyter-widgets/controls",
            "layout": "IPY_MODEL_38ba947ed5dd4b33a92f044d0cb394a9"
          }
        },
        "3bd2a4f0cc2a4112ad91fb35b80219ad": {
          "model_module": "@jupyter-widgets/controls",
          "model_name": "HTMLModel",
          "state": {
            "_view_name": "HTMLView",
            "style": "IPY_MODEL_a2dd0f12a4cd451a9dcdf50b410dd07a",
            "_dom_classes": [],
            "description": "",
            "_model_name": "HTMLModel",
            "placeholder": "​",
            "_view_module": "@jupyter-widgets/controls",
            "_model_module_version": "1.5.0",
            "value": "100% 71/71 [00:07&lt;00:00,  8.91it/s]",
            "_view_count": null,
            "_view_module_version": "1.5.0",
            "description_tooltip": null,
            "_model_module": "@jupyter-widgets/controls",
            "layout": "IPY_MODEL_0d4de574f58847b6a585711b835dcbf7"
          }
        },
        "cdc4c40085ac4ae193429b22209fdd49": {
          "model_module": "@jupyter-widgets/controls",
          "model_name": "ProgressStyleModel",
          "state": {
            "_view_name": "StyleView",
            "_model_name": "ProgressStyleModel",
            "description_width": "",
            "_view_module": "@jupyter-widgets/base",
            "_model_module_version": "1.5.0",
            "_view_count": null,
            "_view_module_version": "1.2.0",
            "bar_color": null,
            "_model_module": "@jupyter-widgets/controls"
          }
        },
        "38ba947ed5dd4b33a92f044d0cb394a9": {
          "model_module": "@jupyter-widgets/base",
          "model_name": "LayoutModel",
          "state": {
            "_view_name": "LayoutView",
            "grid_template_rows": null,
            "right": null,
            "justify_content": null,
            "_view_module": "@jupyter-widgets/base",
            "overflow": null,
            "_model_module_version": "1.2.0",
            "_view_count": null,
            "flex_flow": null,
            "width": null,
            "min_width": null,
            "border": null,
            "align_items": null,
            "bottom": null,
            "_model_module": "@jupyter-widgets/base",
            "top": null,
            "grid_column": null,
            "overflow_y": null,
            "overflow_x": null,
            "grid_auto_flow": null,
            "grid_area": null,
            "grid_template_columns": null,
            "flex": null,
            "_model_name": "LayoutModel",
            "justify_items": null,
            "grid_row": null,
            "max_height": null,
            "align_content": null,
            "visibility": null,
            "align_self": null,
            "height": null,
            "min_height": null,
            "padding": null,
            "grid_auto_rows": null,
            "grid_gap": null,
            "max_width": null,
            "order": null,
            "_view_module_version": "1.2.0",
            "grid_template_areas": null,
            "object_position": null,
            "object_fit": null,
            "grid_auto_columns": null,
            "margin": null,
            "display": null,
            "left": null
          }
        },
        "a2dd0f12a4cd451a9dcdf50b410dd07a": {
          "model_module": "@jupyter-widgets/controls",
          "model_name": "DescriptionStyleModel",
          "state": {
            "_view_name": "StyleView",
            "_model_name": "DescriptionStyleModel",
            "description_width": "",
            "_view_module": "@jupyter-widgets/base",
            "_model_module_version": "1.5.0",
            "_view_count": null,
            "_view_module_version": "1.2.0",
            "_model_module": "@jupyter-widgets/controls"
          }
        },
        "0d4de574f58847b6a585711b835dcbf7": {
          "model_module": "@jupyter-widgets/base",
          "model_name": "LayoutModel",
          "state": {
            "_view_name": "LayoutView",
            "grid_template_rows": null,
            "right": null,
            "justify_content": null,
            "_view_module": "@jupyter-widgets/base",
            "overflow": null,
            "_model_module_version": "1.2.0",
            "_view_count": null,
            "flex_flow": null,
            "width": null,
            "min_width": null,
            "border": null,
            "align_items": null,
            "bottom": null,
            "_model_module": "@jupyter-widgets/base",
            "top": null,
            "grid_column": null,
            "overflow_y": null,
            "overflow_x": null,
            "grid_auto_flow": null,
            "grid_area": null,
            "grid_template_columns": null,
            "flex": null,
            "_model_name": "LayoutModel",
            "justify_items": null,
            "grid_row": null,
            "max_height": null,
            "align_content": null,
            "visibility": null,
            "align_self": null,
            "height": null,
            "min_height": null,
            "padding": null,
            "grid_auto_rows": null,
            "grid_gap": null,
            "max_width": null,
            "order": null,
            "_view_module_version": "1.2.0",
            "grid_template_areas": null,
            "object_position": null,
            "object_fit": null,
            "grid_auto_columns": null,
            "margin": null,
            "display": null,
            "left": null
          }
        }
      }
    }
  },
  "cells": [
    {
      "cell_type": "code",
      "metadata": {
        "id": "V0cMpRtqCPBn",
        "colab_type": "code",
        "outputId": "f57283fb-26b6-43a4-9250-4ee3c09e304e",
        "colab": {
          "base_uri": "https://localhost:8080/",
          "height": 35
        }
      },
      "source": [
        "from google.colab import drive\n",
        "drive.mount('/content/drive')"
      ],
      "execution_count": 0,
      "outputs": [
        {
          "output_type": "stream",
          "text": [
            "Drive already mounted at /content/drive; to attempt to forcibly remount, call drive.mount(\"/content/drive\", force_remount=True).\n"
          ],
          "name": "stdout"
        }
      ]
    },
    {
      "cell_type": "code",
      "metadata": {
        "id": "ddkuD3I8CR14",
        "colab_type": "code",
        "outputId": "874e651b-9148-4a0c-d19d-176e38061042",
        "colab": {
          "base_uri": "https://localhost:8080/",
          "height": 35
        }
      },
      "source": [
        "cd /content/drive/My Drive/colab_workspace"
      ],
      "execution_count": 0,
      "outputs": [
        {
          "output_type": "stream",
          "text": [
            "/content/drive/My Drive/colab_workspace\n"
          ],
          "name": "stdout"
        }
      ]
    },
    {
      "cell_type": "code",
      "metadata": {
        "id": "tyAUKN0sCzjg",
        "colab_type": "code",
        "outputId": "0a8bd039-be77-43a2-db2e-852f943c4940",
        "colab": {
          "base_uri": "https://localhost:8080/",
          "height": 88
        }
      },
      "source": [
        "ls "
      ],
      "execution_count": 0,
      "outputs": [
        {
          "output_type": "stream",
          "text": [
            " checkpoint.pt      kaggle.json             test_df.csv.zip\n",
            " \u001b[0m\u001b[01;34mdata\u001b[0m/              \u001b[01;34mMNIST_data\u001b[0m/             torch_submission.csv\n",
            " Dig-MNIST.csv      sample_submission.csv   train_df.csv\n",
            "'kaggle (1).json'   test_df.csv             train_df.csv.zip\n"
          ],
          "name": "stdout"
        }
      ]
    },
    {
      "cell_type": "code",
      "metadata": {
        "id": "b2bLWICsCXOb",
        "colab_type": "code",
        "outputId": "658f38aa-851b-447e-9698-a0955762478d",
        "colab": {
          "base_uri": "https://localhost:8080/",
          "height": 35
        }
      },
      "source": [
        "import torch\n",
        "import torch.nn as nn\n",
        "import torch.nn.functional as F\n",
        "import torch.optim as optim\n",
        "from torch.optim import lr_scheduler\n",
        "import torchvision\n",
        "from torchvision import transforms\n",
        "from torch.utils.data import DataLoader, Dataset\n",
        "\n",
        "import matplotlib.pyplot as plt\n",
        "import numpy as np\n",
        "import pandas as pd\n",
        "from sklearn.model_selection import train_test_split\n",
        "import os\n",
        "from tqdm import tqdm_notebook as tqdm\n",
        "\n",
        "%matplotlib inline\n",
        "\n",
        "BATCH_SIZE = 256\n",
        "\n",
        "device = torch.device(\"cuda\" if torch.cuda.is_available() else \"cpu\") #gpu가있따면 사용, 그렇지않으면 cpu사용\n",
        "print(device)"
      ],
      "execution_count": 0,
      "outputs": [
        {
          "output_type": "stream",
          "text": [
            "cuda\n"
          ],
          "name": "stdout"
        }
      ]
    },
    {
      "cell_type": "markdown",
      "metadata": {
        "id": "Syh2eMGT4vgb",
        "colab_type": "text"
      },
      "source": [
        "# 1. 데이터 불러오기 및 전처리, Load"
      ]
    },
    {
      "cell_type": "code",
      "metadata": {
        "id": "0QwZqcPKCamc",
        "colab_type": "code",
        "colab": {}
      },
      "source": [
        "df_train = pd.read_csv(\"train_df.csv\")\n",
        "target = df_train['label']\n",
        "df_train.drop('label', axis=1, inplace=True)\n",
        "\n",
        "X_test = pd.read_csv('test_df.csv')\n",
        "\n",
        "X_test = X_test.iloc[:,1:].values\n",
        "X_test=pd.DataFrame(X_test) #통일을 위해 다시 데이터프레임화\n",
        "\n",
        "X_train, X_dev, y_train, y_dev = train_test_split(df_train, target, stratify=target, random_state=42, test_size=0.01)\n",
        "print('X_train', len(X_train))\n",
        "print('X_dev', len(X_dev))\n",
        "print('X_test', len(X_test))"
      ],
      "execution_count": 0,
      "outputs": []
    },
    {
      "cell_type": "markdown",
      "metadata": {
        "id": "UnB_JICj5ByM",
        "colab_type": "text"
      },
      "source": [
        "# 2. 시각화"
      ]
    },
    {
      "cell_type": "code",
      "metadata": {
        "id": "0-_uL_YaDzIm",
        "colab_type": "code",
        "outputId": "59568f7b-9d6a-4e8b-ddf5-9b2f2d19ef90",
        "colab": {
          "base_uri": "https://localhost:8080/",
          "height": 590
        }
      },
      "source": [
        "fig, ax = plt.subplots(nrows=10, ncols=10, figsize=(10,10))\n",
        "for i in range(10): # Column by column\n",
        "    num_i = X_train[y_train == i]\n",
        "    ax[0][i].set_title(i)\n",
        "    for j in range(10): # Row by row\n",
        "        ax[j][i].axis('off')\n",
        "        ax[j][i].imshow(num_i.iloc[j, :].to_numpy().astype(np.uint8).reshape(28, 28), cmap='gray')"
      ],
      "execution_count": 0,
      "outputs": [
        {
          "output_type": "display_data",
          "data": {
            "image/png": "[encoded data removed]",
            "text/plain": [
              "<Figure size 720x720 with 100 Axes>"
            ]
          },
          "metadata": {
            "tags": []
          }
        }
      ]
    },
    {
      "cell_type": "markdown",
      "metadata": {
        "id": "KOQOuit65T1u",
        "colab_type": "text"
      },
      "source": [
        "# 3. Dataset, Loader 정의\n",
        "pytorch의 Dataset 클래스를 삽입하는 과정"
      ]
    },
    {
      "cell_type": "code",
      "metadata": {
        "id": "x3omDAiUD01T",
        "colab_type": "code",
        "colab": {}
      },
      "source": [
        "class CharData(Dataset): #class 삽입   \n",
        "    def __init__(self,\n",
        "                 images,\n",
        "                 labels=None,\n",
        "                 transform=None,\n",
        "                ):\n",
        "        self.X = images\n",
        "        self.y = labels\n",
        "        \n",
        "        self.transform = transform\n",
        "    \n",
        "    def __len__(self):\n",
        "        return len(self.X)\n",
        "\n",
        "    def __getitem__(self, idx):\n",
        "        img = np.array(self.X.iloc[idx, :], dtype='uint8').reshape([28, 28, 1])\n",
        "        if self.transform is not None:\n",
        "            img = self.transform(img)\n",
        "        \n",
        "        if self.y is not None:\n",
        "            y = np.zeros(10, dtype='float32')\n",
        "            y[self.y.iloc[idx]] = 1\n",
        "            return img, y\n",
        "        else:\n",
        "            return img"
      ],
      "execution_count": 0,
      "outputs": []
    },
    {
      "cell_type": "code",
      "metadata": {
        "id": "GsXhmNI3D3de",
        "colab_type": "code",
        "colab": {}
      },
      "source": [
        "train_transform = transforms.Compose([\n",
        "    transforms.ToPILImage(),\n",
        "    transforms.RandomAffine(degrees=5, translate=(0.1, 0.1), scale=(0.9, 1.1), shear=5),\n",
        "    transforms.ToTensor()\n",
        "])\n",
        "\n",
        "test_transform = transforms.Compose([\n",
        "    transforms.ToPILImage(),\n",
        "    transforms.ToTensor()\n",
        "])\n"
      ],
      "execution_count": 0,
      "outputs": []
    },
    {
      "cell_type": "code",
      "metadata": {
        "id": "ArqmMyXxD40Y",
        "colab_type": "code",
        "colab": {}
      },
      "source": [
        "#dataset objects 만들기\n",
        "train_dataset = CharData(X_train, y_train, train_transform)\n",
        "dev_dataset = CharData(X_dev, y_dev, test_transform)\n",
        "test_dataset = CharData(X_test, transform=test_transform)"
      ],
      "execution_count": 0,
      "outputs": []
    },
    {
      "cell_type": "code",
      "metadata": {
        "id": "VSI__rGBD56K",
        "colab_type": "code",
        "colab": {}
      },
      "source": [
        "# Batch 적용\n",
        "train_loader = DataLoader(dataset=train_dataset, batch_size=BATCH_SIZE, shuffle=True, num_workers=4)\n",
        "dev_loader = DataLoader(dataset=dev_dataset, batch_size=BATCH_SIZE, shuffle=False, num_workers=4)\n",
        "test_loader = DataLoader(dataset=test_dataset, batch_size=BATCH_SIZE, shuffle=False, num_workers=4)"
      ],
      "execution_count": 0,
      "outputs": []
    },
    {
      "cell_type": "code",
      "metadata": {
        "id": "wNFvWf9VD6-S",
        "colab_type": "code",
        "outputId": "e9324c46-5a3f-45a6-84d5-bf04d6f04414",
        "colab": {
          "base_uri": "https://localhost:8080/",
          "height": 172
        }
      },
      "source": [
        "# 샘플확인\n",
        "fig, ax = plt.subplots(nrows=1, ncols=16, figsize=(30,4))\n",
        "\n",
        "for batch in train_loader:\n",
        "    for i in range(16):\n",
        "        ax[i].set_title(batch[1][i].data.numpy().argmax())\n",
        "        ax[i].imshow(batch[0][i, 0], cmap='gray')\n",
        "    break"
      ],
      "execution_count": 0,
      "outputs": [
        {
          "output_type": "display_data",
          "data": {
            "image/png": "[encoded data removed]",
            "text/plain": [
              "<Figure size 2160x288 with 16 Axes>"
            ]
          },
          "metadata": {
            "tags": []
          }
        }
      ]
    },
    {
      "cell_type": "markdown",
      "metadata": {
        "id": "FiMbLlWm5sfh",
        "colab_type": "text"
      },
      "source": [
        "# 4. 모델정의"
      ]
    },
    {
      "cell_type": "code",
      "metadata": {
        "id": "pzElW82QD743",
        "colab_type": "code",
        "colab": {}
      },
      "source": [
        "DEPTH_MULT = 2\n",
        "\n",
        "class ConvLayer(nn.Module):\n",
        "    def __init__(self, input_size, output_size, kernel_size=3):\n",
        "        super(ConvLayer, self).__init__()\n",
        "        self.ops = nn.Sequential(\n",
        "            nn.Conv2d(input_size, output_size, kernel_size=kernel_size, stride=1, padding=kernel_size//2),\n",
        "            nn.BatchNorm2d(output_size),\n",
        "            nn.ReLU(inplace=True)\n",
        "        )\n",
        "    \n",
        "    def forward(self, x):\n",
        "        return self.ops(x)\n",
        "\n",
        "\n",
        "class FCLayer(nn.Module):\n",
        "    def __init__(self, input_size, output_size):\n",
        "        super(FCLayer, self).__init__()\n",
        "        self.ops = nn.Sequential(\n",
        "            nn.Linear(input_size, output_size),\n",
        "            nn.BatchNorm1d(output_size),\n",
        "            nn.ReLU(inplace=True)\n",
        "        )\n",
        "        self.residual = input_size == output_size\n",
        "    \n",
        "    def forward(self, x):\n",
        "        if self.residual:\n",
        "            return (self.ops(x) + x) / np.sqrt(2)\n",
        "        return self.ops(x)\n",
        "\n",
        "\n",
        "def mixup(x, shuffle, lam, i, j):\n",
        "    if shuffle is not None and lam is not None and i == j:\n",
        "        x = lam * x + (1 - lam) * x[shuffle]\n",
        "    return x\n",
        "\n",
        "\n",
        "class Net(nn.Module):\n",
        "    def __init__(self, num_classes):\n",
        "        super(Net, self).__init__()\n",
        "        \n",
        "        self.conv1 = ConvLayer(1, DEPTH_MULT * 32)\n",
        "        self.conv2 = ConvLayer(DEPTH_MULT * 32, DEPTH_MULT * 32)\n",
        "        self.conv3 = ConvLayer(DEPTH_MULT * 32, DEPTH_MULT * 32)\n",
        "        self.conv4 = ConvLayer(DEPTH_MULT * 32, DEPTH_MULT * 32)\n",
        "        \n",
        "        self.conv5 = ConvLayer(DEPTH_MULT * 32, DEPTH_MULT * 64)\n",
        "        self.conv6 = ConvLayer(DEPTH_MULT * 64, DEPTH_MULT * 64)\n",
        "        self.conv7 = ConvLayer(DEPTH_MULT * 64, DEPTH_MULT * 64)\n",
        "        self.conv8 = ConvLayer(DEPTH_MULT * 64, DEPTH_MULT * 64)\n",
        "        self.conv9 = ConvLayer(DEPTH_MULT * 64, DEPTH_MULT * 64)\n",
        "        self.conv10 = ConvLayer(DEPTH_MULT * 64, DEPTH_MULT * 64)\n",
        "        \n",
        "        self.mp = nn.MaxPool2d(kernel_size=2, stride=2)\n",
        "        \n",
        "        self.fc1 = FCLayer(DEPTH_MULT * 64 * 7 * 7, DEPTH_MULT * 512)\n",
        "        self.fc2 = FCLayer(DEPTH_MULT * 512, DEPTH_MULT * 512)\n",
        "        self.fc3 = FCLayer(DEPTH_MULT * 512, DEPTH_MULT * 512)\n",
        "        self.fc4 = FCLayer(DEPTH_MULT * 512, DEPTH_MULT * 512)\n",
        "        self.projection = nn.Linear(DEPTH_MULT * 512, 10)\n",
        "    \n",
        "    def forward(self, x):\n",
        "        if isinstance(x, list):\n",
        "            x, shuffle, lam = x\n",
        "        else:\n",
        "            shuffle = None\n",
        "            lam = None\n",
        "        \n",
        "        # Decide which layer to mixup\n",
        "        j = np.random.randint(15)\n",
        "        \n",
        "        x = mixup(x, shuffle, lam, 0, j)\n",
        "        x = self.conv1(x)\n",
        "        x = mixup(x, shuffle, lam, 1, j)\n",
        "        x = self.conv2(x)\n",
        "        x = mixup(x, shuffle, lam, 2, j)\n",
        "        x = self.conv3(x)\n",
        "        x = mixup(x, shuffle, lam, 3, j)\n",
        "        x = self.conv4(x)\n",
        "        x = self.mp(x)\n",
        "        \n",
        "        x = mixup(x, shuffle, lam, 4, j)\n",
        "        x = self.conv5(x)\n",
        "        x = mixup(x, shuffle, lam, 5, j)\n",
        "        x = self.conv6(x)\n",
        "        x = mixup(x, shuffle, lam, 6, j)\n",
        "        x = self.conv7(x)\n",
        "        x = mixup(x, shuffle, lam, 7, j)\n",
        "        x = self.conv8(x)\n",
        "        x = mixup(x, shuffle, lam, 8, j)\n",
        "        x = self.conv9(x)\n",
        "        x = mixup(x, shuffle, lam, 9, j)\n",
        "        x = self.conv10(x)\n",
        "        x = self.mp(x)\n",
        "        \n",
        "        x = x.view(x.size(0), -1)\n",
        "        x = mixup(x, shuffle, lam, 10, j)\n",
        "        x = self.fc1(x)\n",
        "        x = mixup(x, shuffle, lam, 11, j)\n",
        "        x = self.fc2(x)\n",
        "        x = mixup(x, shuffle, lam, 12, j)\n",
        "        x = self.fc3(x)\n",
        "        x = mixup(x, shuffle, lam, 13, j)\n",
        "        x = self.fc4(x)\n",
        "        x = mixup(x, shuffle, lam, 14, j)\n",
        "        x = self.projection(x)\n",
        "        \n",
        "        return x"
      ],
      "execution_count": 0,
      "outputs": []
    },
    {
      "cell_type": "code",
      "metadata": {
        "id": "OfMGpuf6D98h",
        "colab_type": "code",
        "colab": {}
      },
      "source": [
        "def criterion(input, target, size_average=True):\n",
        "    l = -(target * torch.log(F.softmax(input, dim=1) + 1e-10)).sum(1)\n",
        "    if size_average:\n",
        "        l = l.mean()\n",
        "    else:\n",
        "        l = l.sum()\n",
        "    return l"
      ],
      "execution_count": 0,
      "outputs": []
    },
    {
      "cell_type": "code",
      "metadata": {
        "id": "fh3-gDDED_DP",
        "colab_type": "code",
        "colab": {}
      },
      "source": [
        "model = Net(10)\n",
        "model = model.to(device)\n",
        "\n",
        "n_epochs = 100\n",
        "\n",
        "optimizer = optim.Adam(model.parameters(), lr=0.0001)\n",
        "exp_lr_scheduler = lr_scheduler.StepLR(optimizer, step_size=n_epochs // 4, gamma=0.1)"
      ],
      "execution_count": 0,
      "outputs": []
    },
    {
      "cell_type": "markdown",
      "metadata": {
        "id": "R4TrTJSI5wyF",
        "colab_type": "text"
      },
      "source": [
        "# 5.모델 훈련"
      ]
    },
    {
      "cell_type": "code",
      "metadata": {
        "id": "UT-mVjMaEADr",
        "colab_type": "code",
        "colab": {}
      },
      "source": [
        "def train(epoch, history=None):\n",
        "    model.train()\n",
        "\n",
        "    for batch_idx, (data, target) in enumerate(train_loader):\n",
        "        data = data.to(device)\n",
        "        target = target.to(device)\n",
        "        \n",
        "        # mixup\n",
        "        alpha = 2\n",
        "        lam = np.random.beta(alpha, alpha)\n",
        "        shuffle = torch.randperm(data.shape[0])\n",
        "        target = lam * target + (1 - lam) * target[shuffle]\n",
        "        \n",
        "        optimizer.zero_grad()\n",
        "        output = model([data, shuffle, lam])\n",
        "        loss = criterion(output, target)\n",
        "        if history is not None:\n",
        "            history.loc[epoch + batch_idx / len(train_loader), 'train_loss'] = loss.data.cpu().numpy()\n",
        "        \n",
        "        loss.backward()\n",
        "        optimizer.step()\n",
        "        \n",
        "        if (batch_idx + 1) % 100 == 0:\n",
        "            print('Train Epoch: {} [{}/{} ({:.0f}%)]\\tLR: {:.6f}\\tLoss: {:.6f}'.format(\n",
        "                epoch, (batch_idx + 1) * len(data), len(train_loader.dataset),\n",
        "                100. * (batch_idx + 1) / len(train_loader),\n",
        "                optimizer.state_dict()['param_groups'][0]['lr'],\n",
        "                loss.data))\n",
        "    exp_lr_scheduler.step()\n",
        "\n",
        "def evaluate(epoch, history=None):\n",
        "    model.eval()\n",
        "    loss = 0\n",
        "    correct = 0\n",
        "    \n",
        "    with torch.no_grad():\n",
        "        for data, target in dev_loader:\n",
        "            data = data.to(device)\n",
        "            target = target.to(device)\n",
        "\n",
        "            output = model(data)\n",
        "\n",
        "            loss += criterion(output, target, size_average=False).data\n",
        "\n",
        "            pred = output.data.max(1, keepdim=True)[1]\n",
        "            correct += pred.eq(target.max(1, keepdim=True)[1].data.view_as(pred)).cpu().sum().numpy()\n",
        "    \n",
        "    loss /= len(dev_loader.dataset)\n",
        "    accuracy = correct / len(dev_loader.dataset)\n",
        "    \n",
        "    if history is not None:\n",
        "        history.loc[epoch, 'dev_loss'] = loss.cpu().numpy()\n",
        "        history.loc[epoch, 'dev_accuracy'] = accuracy\n",
        "    \n",
        "    print('Dev loss: {:.4f}, Dev accuracy: {}/{} ({:.3f}%)\\n'.format(\n",
        "        loss, correct, len(dev_loader.dataset),\n",
        "        100. * accuracy))"
      ],
      "execution_count": 0,
      "outputs": []
    },
    {
      "cell_type": "code",
      "metadata": {
        "id": "udbQdw3hECUm",
        "colab_type": "code",
        "outputId": "e6f76800-92fc-408d-8d51-b42b71519807",
        "colab": {
          "base_uri": "https://localhost:8080/",
          "height": 1000
        }
      },
      "source": [
        "%%time\n",
        "import gc\n",
        "\n",
        "history = pd.DataFrame()\n",
        "\n",
        "for epoch in range(n_epochs):\n",
        "    torch.cuda.empty_cache()\n",
        "    gc.collect()\n",
        "    train(epoch, history)\n",
        "    evaluate(epoch, history)\n",
        "    #이미 높은 정확도를 보이고 있기때문에 EarlyStopping 해도 좋을 듯"
      ],
      "execution_count": 0,
      "outputs": [
        {
          "output_type": "stream",
          "text": [
            "Train Epoch: 0 [25600/41580 (61%)]\tLR: 0.000100\tLoss: 1.021838\n",
            "Dev loss: 0.1099, Dev accuracy: 416/420 (99.048%)\n",
            "\n",
            "Train Epoch: 1 [25600/41580 (61%)]\tLR: 0.000100\tLoss: 0.813835\n",
            "Dev loss: 0.1344, Dev accuracy: 419/420 (99.762%)\n",
            "\n",
            "Train Epoch: 2 [25600/41580 (61%)]\tLR: 0.000100\tLoss: 0.691444\n",
            "Dev loss: 0.1147, Dev accuracy: 416/420 (99.048%)\n",
            "\n",
            "Train Epoch: 3 [25600/41580 (61%)]\tLR: 0.000100\tLoss: 0.611507\n",
            "Dev loss: 0.1211, Dev accuracy: 417/420 (99.286%)\n",
            "\n",
            "Train Epoch: 4 [25600/41580 (61%)]\tLR: 0.000100\tLoss: 0.721414\n",
            "Dev loss: 0.0712, Dev accuracy: 420/420 (100.000%)\n",
            "\n",
            "Train Epoch: 5 [25600/41580 (61%)]\tLR: 0.000100\tLoss: 0.384039\n",
            "Dev loss: 0.0729, Dev accuracy: 418/420 (99.524%)\n",
            "\n",
            "Train Epoch: 6 [25600/41580 (61%)]\tLR: 0.000100\tLoss: 0.900925\n",
            "Dev loss: 0.0719, Dev accuracy: 419/420 (99.762%)\n",
            "\n",
            "Train Epoch: 7 [25600/41580 (61%)]\tLR: 0.000100\tLoss: 0.639206\n",
            "Dev loss: 0.0600, Dev accuracy: 419/420 (99.762%)\n",
            "\n",
            "Train Epoch: 8 [25600/41580 (61%)]\tLR: 0.000100\tLoss: 0.655744\n",
            "Dev loss: 0.0787, Dev accuracy: 418/420 (99.524%)\n",
            "\n",
            "Train Epoch: 9 [25600/41580 (61%)]\tLR: 0.000100\tLoss: 0.638043\n",
            "Dev loss: 0.0792, Dev accuracy: 419/420 (99.762%)\n",
            "\n",
            "Train Epoch: 10 [25600/41580 (61%)]\tLR: 0.000100\tLoss: 0.579519\n",
            "Dev loss: 0.0646, Dev accuracy: 418/420 (99.524%)\n",
            "\n",
            "Train Epoch: 11 [25600/41580 (61%)]\tLR: 0.000100\tLoss: 0.468557\n",
            "Dev loss: 0.0682, Dev accuracy: 419/420 (99.762%)\n",
            "\n",
            "Train Epoch: 12 [25600/41580 (61%)]\tLR: 0.000100\tLoss: 0.643769\n",
            "Dev loss: 0.0493, Dev accuracy: 418/420 (99.524%)\n",
            "\n",
            "Train Epoch: 13 [25600/41580 (61%)]\tLR: 0.000100\tLoss: 0.574202\n",
            "Dev loss: 0.0539, Dev accuracy: 418/420 (99.524%)\n",
            "\n",
            "Train Epoch: 14 [25600/41580 (61%)]\tLR: 0.000100\tLoss: 0.658280\n",
            "Dev loss: 0.0659, Dev accuracy: 417/420 (99.286%)\n",
            "\n",
            "Train Epoch: 15 [25600/41580 (61%)]\tLR: 0.000100\tLoss: 0.478199\n",
            "Dev loss: 0.0813, Dev accuracy: 418/420 (99.524%)\n",
            "\n",
            "Train Epoch: 16 [25600/41580 (61%)]\tLR: 0.000100\tLoss: 0.720078\n",
            "Dev loss: 0.0711, Dev accuracy: 418/420 (99.524%)\n",
            "\n",
            "Train Epoch: 17 [25600/41580 (61%)]\tLR: 0.000100\tLoss: 0.950047\n",
            "Dev loss: 0.0689, Dev accuracy: 418/420 (99.524%)\n",
            "\n",
            "Train Epoch: 18 [25600/41580 (61%)]\tLR: 0.000100\tLoss: 0.543526\n",
            "Dev loss: 0.0506, Dev accuracy: 417/420 (99.286%)\n",
            "\n",
            "Train Epoch: 19 [25600/41580 (61%)]\tLR: 0.000100\tLoss: 0.546754\n",
            "Dev loss: 0.0566, Dev accuracy: 417/420 (99.286%)\n",
            "\n",
            "Train Epoch: 20 [25600/41580 (61%)]\tLR: 0.000100\tLoss: 0.583502\n",
            "Dev loss: 0.0457, Dev accuracy: 419/420 (99.762%)\n",
            "\n",
            "Train Epoch: 21 [25600/41580 (61%)]\tLR: 0.000100\tLoss: 0.590696\n",
            "Dev loss: 0.0403, Dev accuracy: 419/420 (99.762%)\n",
            "\n",
            "Train Epoch: 22 [25600/41580 (61%)]\tLR: 0.000100\tLoss: 0.499778\n",
            "Dev loss: 0.0492, Dev accuracy: 418/420 (99.524%)\n",
            "\n",
            "Train Epoch: 23 [25600/41580 (61%)]\tLR: 0.000100\tLoss: 0.625026\n",
            "Dev loss: 0.0988, Dev accuracy: 418/420 (99.524%)\n",
            "\n",
            "Train Epoch: 24 [25600/41580 (61%)]\tLR: 0.000100\tLoss: 0.569994\n",
            "Dev loss: 0.0552, Dev accuracy: 419/420 (99.762%)\n",
            "\n",
            "Train Epoch: 25 [25600/41580 (61%)]\tLR: 0.000010\tLoss: 0.640723\n",
            "Dev loss: 0.0311, Dev accuracy: 418/420 (99.524%)\n",
            "\n",
            "Train Epoch: 26 [25600/41580 (61%)]\tLR: 0.000010\tLoss: 0.425440\n",
            "Dev loss: 0.0438, Dev accuracy: 418/420 (99.524%)\n",
            "\n",
            "Train Epoch: 27 [25600/41580 (61%)]\tLR: 0.000010\tLoss: 0.634802\n",
            "Dev loss: 0.0390, Dev accuracy: 418/420 (99.524%)\n",
            "\n",
            "Train Epoch: 28 [25600/41580 (61%)]\tLR: 0.000010\tLoss: 0.496772\n",
            "Dev loss: 0.0427, Dev accuracy: 419/420 (99.762%)\n",
            "\n",
            "Train Epoch: 29 [25600/41580 (61%)]\tLR: 0.000010\tLoss: 0.673567\n",
            "Dev loss: 0.0374, Dev accuracy: 418/420 (99.524%)\n",
            "\n",
            "Train Epoch: 30 [25600/41580 (61%)]\tLR: 0.000010\tLoss: 0.548118\n",
            "Dev loss: 0.0439, Dev accuracy: 419/420 (99.762%)\n",
            "\n",
            "Train Epoch: 31 [25600/41580 (61%)]\tLR: 0.000010\tLoss: 0.647226\n",
            "Dev loss: 0.0381, Dev accuracy: 419/420 (99.762%)\n",
            "\n",
            "Train Epoch: 32 [25600/41580 (61%)]\tLR: 0.000010\tLoss: 0.620449\n",
            "Dev loss: 0.0368, Dev accuracy: 419/420 (99.762%)\n",
            "\n",
            "Train Epoch: 33 [25600/41580 (61%)]\tLR: 0.000010\tLoss: 0.652556\n",
            "Dev loss: 0.0429, Dev accuracy: 419/420 (99.762%)\n",
            "\n",
            "Train Epoch: 34 [25600/41580 (61%)]\tLR: 0.000010\tLoss: 0.648158\n",
            "Dev loss: 0.0356, Dev accuracy: 419/420 (99.762%)\n",
            "\n",
            "Train Epoch: 35 [25600/41580 (61%)]\tLR: 0.000010\tLoss: 0.588523\n",
            "Dev loss: 0.0337, Dev accuracy: 418/420 (99.524%)\n",
            "\n",
            "Train Epoch: 36 [25600/41580 (61%)]\tLR: 0.000010\tLoss: 0.653528\n",
            "Dev loss: 0.0388, Dev accuracy: 419/420 (99.762%)\n",
            "\n",
            "Train Epoch: 37 [25600/41580 (61%)]\tLR: 0.000010\tLoss: 0.621687\n",
            "Dev loss: 0.0387, Dev accuracy: 419/420 (99.762%)\n",
            "\n",
            "Train Epoch: 38 [25600/41580 (61%)]\tLR: 0.000010\tLoss: 0.781208\n",
            "Dev loss: 0.0348, Dev accuracy: 419/420 (99.762%)\n",
            "\n",
            "Train Epoch: 39 [25600/41580 (61%)]\tLR: 0.000010\tLoss: 0.571978\n",
            "Dev loss: 0.0363, Dev accuracy: 419/420 (99.762%)\n",
            "\n",
            "Train Epoch: 40 [25600/41580 (61%)]\tLR: 0.000010\tLoss: 0.658363\n",
            "Dev loss: 0.0382, Dev accuracy: 419/420 (99.762%)\n",
            "\n",
            "Train Epoch: 41 [25600/41580 (61%)]\tLR: 0.000010\tLoss: 0.395222\n",
            "Dev loss: 0.0337, Dev accuracy: 419/420 (99.762%)\n",
            "\n",
            "Train Epoch: 42 [25600/41580 (61%)]\tLR: 0.000010\tLoss: 0.383706\n",
            "Dev loss: 0.0479, Dev accuracy: 418/420 (99.524%)\n",
            "\n",
            "Train Epoch: 43 [25600/41580 (61%)]\tLR: 0.000010\tLoss: 0.622156\n",
            "Dev loss: 0.0473, Dev accuracy: 418/420 (99.524%)\n",
            "\n",
            "Train Epoch: 44 [25600/41580 (61%)]\tLR: 0.000010\tLoss: 0.667140\n",
            "Dev loss: 0.0398, Dev accuracy: 419/420 (99.762%)\n",
            "\n",
            "Train Epoch: 45 [25600/41580 (61%)]\tLR: 0.000010\tLoss: 0.561900\n",
            "Dev loss: 0.0371, Dev accuracy: 419/420 (99.762%)\n",
            "\n",
            "Train Epoch: 46 [25600/41580 (61%)]\tLR: 0.000010\tLoss: 0.243738\n",
            "Dev loss: 0.0436, Dev accuracy: 418/420 (99.524%)\n",
            "\n",
            "Train Epoch: 47 [25600/41580 (61%)]\tLR: 0.000010\tLoss: 0.461719\n",
            "Dev loss: 0.0400, Dev accuracy: 419/420 (99.762%)\n",
            "\n",
            "Train Epoch: 48 [25600/41580 (61%)]\tLR: 0.000010\tLoss: 0.600437\n",
            "Dev loss: 0.0349, Dev accuracy: 419/420 (99.762%)\n",
            "\n",
            "Train Epoch: 49 [25600/41580 (61%)]\tLR: 0.000010\tLoss: 0.571216\n",
            "Dev loss: 0.0428, Dev accuracy: 419/420 (99.762%)\n",
            "\n",
            "Train Epoch: 50 [25600/41580 (61%)]\tLR: 0.000001\tLoss: 0.655558\n",
            "Dev loss: 0.0350, Dev accuracy: 419/420 (99.762%)\n",
            "\n",
            "Train Epoch: 51 [25600/41580 (61%)]\tLR: 0.000001\tLoss: 0.619675\n",
            "Dev loss: 0.0471, Dev accuracy: 419/420 (99.762%)\n",
            "\n",
            "Train Epoch: 52 [25600/41580 (61%)]\tLR: 0.000001\tLoss: 0.427025\n",
            "Dev loss: 0.0441, Dev accuracy: 419/420 (99.762%)\n",
            "\n",
            "Train Epoch: 53 [25600/41580 (61%)]\tLR: 0.000001\tLoss: 0.625682\n",
            "Dev loss: 0.0383, Dev accuracy: 419/420 (99.762%)\n",
            "\n",
            "Train Epoch: 54 [25600/41580 (61%)]\tLR: 0.000001\tLoss: 0.589247\n",
            "Dev loss: 0.0379, Dev accuracy: 419/420 (99.762%)\n",
            "\n",
            "Train Epoch: 55 [25600/41580 (61%)]\tLR: 0.000001\tLoss: 0.479040\n",
            "Dev loss: 0.0333, Dev accuracy: 419/420 (99.762%)\n",
            "\n",
            "Train Epoch: 56 [25600/41580 (61%)]\tLR: 0.000001\tLoss: 0.609528\n",
            "Dev loss: 0.0388, Dev accuracy: 419/420 (99.762%)\n",
            "\n",
            "Train Epoch: 57 [25600/41580 (61%)]\tLR: 0.000001\tLoss: 0.186089\n",
            "Dev loss: 0.0350, Dev accuracy: 419/420 (99.762%)\n",
            "\n",
            "Train Epoch: 58 [25600/41580 (61%)]\tLR: 0.000001\tLoss: 0.658882\n",
            "Dev loss: 0.0368, Dev accuracy: 419/420 (99.762%)\n",
            "\n",
            "Train Epoch: 59 [25600/41580 (61%)]\tLR: 0.000001\tLoss: 0.613059\n",
            "Dev loss: 0.0343, Dev accuracy: 419/420 (99.762%)\n",
            "\n",
            "Train Epoch: 60 [25600/41580 (61%)]\tLR: 0.000001\tLoss: 0.541516\n",
            "Dev loss: 0.0390, Dev accuracy: 419/420 (99.762%)\n",
            "\n",
            "Train Epoch: 61 [25600/41580 (61%)]\tLR: 0.000001\tLoss: 0.619850\n",
            "Dev loss: 0.0344, Dev accuracy: 419/420 (99.762%)\n",
            "\n",
            "Train Epoch: 62 [25600/41580 (61%)]\tLR: 0.000001\tLoss: 0.594599\n",
            "Dev loss: 0.0352, Dev accuracy: 419/420 (99.762%)\n",
            "\n",
            "Train Epoch: 63 [25600/41580 (61%)]\tLR: 0.000001\tLoss: 0.623573\n",
            "Dev loss: 0.0344, Dev accuracy: 419/420 (99.762%)\n",
            "\n",
            "Train Epoch: 64 [25600/41580 (61%)]\tLR: 0.000001\tLoss: 0.320872\n",
            "Dev loss: 0.0379, Dev accuracy: 419/420 (99.762%)\n",
            "\n",
            "Train Epoch: 65 [25600/41580 (61%)]\tLR: 0.000001\tLoss: 0.634984\n",
            "Dev loss: 0.0334, Dev accuracy: 419/420 (99.762%)\n",
            "\n",
            "Train Epoch: 66 [25600/41580 (61%)]\tLR: 0.000001\tLoss: 0.458917\n",
            "Dev loss: 0.0349, Dev accuracy: 419/420 (99.762%)\n",
            "\n",
            "Train Epoch: 67 [25600/41580 (61%)]\tLR: 0.000001\tLoss: 0.608051\n",
            "Dev loss: 0.0354, Dev accuracy: 419/420 (99.762%)\n",
            "\n",
            "Train Epoch: 68 [25600/41580 (61%)]\tLR: 0.000001\tLoss: 0.739585\n",
            "Dev loss: 0.0398, Dev accuracy: 419/420 (99.762%)\n",
            "\n",
            "Train Epoch: 69 [25600/41580 (61%)]\tLR: 0.000001\tLoss: 0.393449\n",
            "Dev loss: 0.0321, Dev accuracy: 419/420 (99.762%)\n",
            "\n",
            "Train Epoch: 70 [25600/41580 (61%)]\tLR: 0.000001\tLoss: 0.665298\n",
            "Dev loss: 0.0432, Dev accuracy: 419/420 (99.762%)\n",
            "\n",
            "Train Epoch: 71 [25600/41580 (61%)]\tLR: 0.000001\tLoss: 0.424112\n",
            "Dev loss: 0.0356, Dev accuracy: 419/420 (99.762%)\n",
            "\n",
            "Train Epoch: 72 [25600/41580 (61%)]\tLR: 0.000001\tLoss: 0.483833\n",
            "Dev loss: 0.0359, Dev accuracy: 419/420 (99.762%)\n",
            "\n",
            "Train Epoch: 73 [25600/41580 (61%)]\tLR: 0.000001\tLoss: 0.642284\n",
            "Dev loss: 0.0409, Dev accuracy: 419/420 (99.762%)\n",
            "\n",
            "Train Epoch: 74 [25600/41580 (61%)]\tLR: 0.000001\tLoss: 0.524682\n",
            "Dev loss: 0.0330, Dev accuracy: 419/420 (99.762%)\n",
            "\n",
            "Train Epoch: 75 [25600/41580 (61%)]\tLR: 0.000000\tLoss: 0.642408\n",
            "Dev loss: 0.0365, Dev accuracy: 418/420 (99.524%)\n",
            "\n",
            "Train Epoch: 76 [25600/41580 (61%)]\tLR: 0.000000\tLoss: 0.817751\n",
            "Dev loss: 0.0361, Dev accuracy: 419/420 (99.762%)\n",
            "\n",
            "Train Epoch: 77 [25600/41580 (61%)]\tLR: 0.000000\tLoss: 0.571057\n",
            "Dev loss: 0.0339, Dev accuracy: 419/420 (99.762%)\n",
            "\n",
            "Train Epoch: 78 [25600/41580 (61%)]\tLR: 0.000000\tLoss: 0.496010\n",
            "Dev loss: 0.0369, Dev accuracy: 419/420 (99.762%)\n",
            "\n",
            "Train Epoch: 79 [25600/41580 (61%)]\tLR: 0.000000\tLoss: 0.637652\n",
            "Dev loss: 0.0370, Dev accuracy: 419/420 (99.762%)\n",
            "\n",
            "Train Epoch: 80 [25600/41580 (61%)]\tLR: 0.000000\tLoss: 0.371472\n",
            "Dev loss: 0.0375, Dev accuracy: 419/420 (99.762%)\n",
            "\n",
            "Train Epoch: 81 [25600/41580 (61%)]\tLR: 0.000000\tLoss: 0.632419\n",
            "Dev loss: 0.0338, Dev accuracy: 419/420 (99.762%)\n",
            "\n",
            "Train Epoch: 82 [25600/41580 (61%)]\tLR: 0.000000\tLoss: 0.665854\n",
            "Dev loss: 0.0345, Dev accuracy: 419/420 (99.762%)\n",
            "\n",
            "Train Epoch: 83 [25600/41580 (61%)]\tLR: 0.000000\tLoss: 0.588508\n",
            "Dev loss: 0.0370, Dev accuracy: 419/420 (99.762%)\n",
            "\n",
            "Train Epoch: 84 [25600/41580 (61%)]\tLR: 0.000000\tLoss: 0.581868\n",
            "Dev loss: 0.0375, Dev accuracy: 419/420 (99.762%)\n",
            "\n",
            "Train Epoch: 85 [25600/41580 (61%)]\tLR: 0.000000\tLoss: 0.635964\n",
            "Dev loss: 0.0296, Dev accuracy: 419/420 (99.762%)\n",
            "\n",
            "Train Epoch: 86 [25600/41580 (61%)]\tLR: 0.000000\tLoss: 0.699944\n",
            "Dev loss: 0.0329, Dev accuracy: 419/420 (99.762%)\n",
            "\n",
            "Train Epoch: 87 [25600/41580 (61%)]\tLR: 0.000000\tLoss: 0.866631\n",
            "Dev loss: 0.0363, Dev accuracy: 419/420 (99.762%)\n",
            "\n",
            "Train Epoch: 88 [25600/41580 (61%)]\tLR: 0.000000\tLoss: 0.676538\n",
            "Dev loss: 0.0330, Dev accuracy: 419/420 (99.762%)\n",
            "\n",
            "Train Epoch: 89 [25600/41580 (61%)]\tLR: 0.000000\tLoss: 0.483626\n",
            "Dev loss: 0.0413, Dev accuracy: 419/420 (99.762%)\n",
            "\n",
            "Train Epoch: 90 [25600/41580 (61%)]\tLR: 0.000000\tLoss: 0.514636\n",
            "Dev loss: 0.0342, Dev accuracy: 419/420 (99.762%)\n",
            "\n",
            "Train Epoch: 91 [25600/41580 (61%)]\tLR: 0.000000\tLoss: 0.360000\n",
            "Dev loss: 0.0327, Dev accuracy: 419/420 (99.762%)\n",
            "\n",
            "Train Epoch: 92 [25600/41580 (61%)]\tLR: 0.000000\tLoss: 0.606525\n",
            "Dev loss: 0.0364, Dev accuracy: 419/420 (99.762%)\n",
            "\n",
            "Train Epoch: 93 [25600/41580 (61%)]\tLR: 0.000000\tLoss: 0.628101\n",
            "Dev loss: 0.0381, Dev accuracy: 419/420 (99.762%)\n",
            "\n",
            "Train Epoch: 94 [25600/41580 (61%)]\tLR: 0.000000\tLoss: 0.794253\n",
            "Dev loss: 0.0306, Dev accuracy: 418/420 (99.524%)\n",
            "\n",
            "Train Epoch: 95 [25600/41580 (61%)]\tLR: 0.000000\tLoss: 0.640584\n",
            "Dev loss: 0.0355, Dev accuracy: 419/420 (99.762%)\n",
            "\n",
            "Train Epoch: 96 [25600/41580 (61%)]\tLR: 0.000000\tLoss: 0.458734\n",
            "Dev loss: 0.0340, Dev accuracy: 419/420 (99.762%)\n",
            "\n",
            "Train Epoch: 97 [25600/41580 (61%)]\tLR: 0.000000\tLoss: 0.532387\n",
            "Dev loss: 0.0396, Dev accuracy: 419/420 (99.762%)\n",
            "\n",
            "Train Epoch: 98 [25600/41580 (61%)]\tLR: 0.000000\tLoss: 0.562182\n",
            "Dev loss: 0.0340, Dev accuracy: 419/420 (99.762%)\n",
            "\n",
            "Train Epoch: 99 [25600/41580 (61%)]\tLR: 0.000000\tLoss: 0.623679\n",
            "Dev loss: 0.0341, Dev accuracy: 419/420 (99.762%)\n",
            "\n",
            "CPU times: user 32min 18s, sys: 12min 2s, total: 44min 21s\n",
            "Wall time: 59min 47s\n"
          ],
          "name": "stdout"
        }
      ]
    },
    {
      "cell_type": "markdown",
      "metadata": {
        "id": "XOJ4JyDC6RYq",
        "colab_type": "text"
      },
      "source": [
        "# 그래프로 확인"
      ]
    },
    {
      "cell_type": "code",
      "metadata": {
        "id": "lxtOvq7uEDnN",
        "colab_type": "code",
        "outputId": "74d0263c-8ea3-4e07-d248-87fc6f09cfb2",
        "colab": {
          "base_uri": "https://localhost:8080/",
          "height": 265
        }
      },
      "source": [
        "history['train_loss'].plot();"
      ],
      "execution_count": 0,
      "outputs": [
        {
          "output_type": "display_data",
          "data": {
            "image/png": "[encoded data removed]",
            "text/plain": [
              "<Figure size 432x288 with 1 Axes>"
            ]
          },
          "metadata": {
            "tags": []
          }
        }
      ]
    },
    {
      "cell_type": "code",
      "metadata": {
        "id": "5qShh6_vEEmS",
        "colab_type": "code",
        "outputId": "49e54347-8ed1-4599-bd99-7de2ba2057f5",
        "colab": {
          "base_uri": "https://localhost:8080/",
          "height": 265
        }
      },
      "source": [
        "history.dropna()['dev_loss'].plot();"
      ],
      "execution_count": 0,
      "outputs": [
        {
          "output_type": "display_data",
          "data": {
            "image/png": "[encoded data removed]",
            "text/plain": [
              "<Figure size 432x288 with 1 Axes>"
            ]
          },
          "metadata": {
            "tags": []
          }
        }
      ]
    },
    {
      "cell_type": "code",
      "metadata": {
        "id": "OtQf64BDEFiX",
        "colab_type": "code",
        "outputId": "64234f4a-df31-4b38-e556-8172f3cbcca2",
        "colab": {
          "base_uri": "https://localhost:8080/",
          "height": 265
        }
      },
      "source": [
        "history.dropna()['dev_accuracy'].plot();"
      ],
      "execution_count": 0,
      "outputs": [
        {
          "output_type": "display_data",
          "data": {
            "image/png": "[encoded data removed]",
            "text/plain": [
              "<Figure size 432x288 with 1 Axes>"
            ]
          },
          "metadata": {
            "tags": []
          }
        }
      ]
    },
    {
      "cell_type": "code",
      "metadata": {
        "id": "FJH7JskcEGYv",
        "colab_type": "code",
        "outputId": "c78b5cd2-ed34-43d0-d9e9-c1b7c685abc5",
        "colab": {
          "base_uri": "https://localhost:8080/",
          "height": 70
        }
      },
      "source": [
        "print('max', history.dropna()['dev_accuracy'].max())\n",
        "print('max in last 5', history.dropna()['dev_accuracy'].iloc[-5:].max())\n",
        "print('avg in last 5', history.dropna()['dev_accuracy'].iloc[-5:].mean())"
      ],
      "execution_count": 0,
      "outputs": [
        {
          "output_type": "stream",
          "text": [
            "max 1.0\n",
            "max in last 5 0.9976190476190476\n",
            "avg in last 5 0.9976190476190476\n"
          ],
          "name": "stdout"
        }
      ]
    },
    {
      "cell_type": "markdown",
      "metadata": {
        "id": "i9Lgtvka6YRP",
        "colab_type": "text"
      },
      "source": [
        "# 6.예측 하기 "
      ]
    },
    {
      "cell_type": "code",
      "metadata": {
        "id": "s5BFVG2QEHxB",
        "colab_type": "code",
        "outputId": "d71fac22-f527-4834-fe20-5df92613d251",
        "colab": {
          "base_uri": "https://localhost:8080/",
          "height": 67,
          "referenced_widgets": [
            "5e9a6dffb4f24873a63fa616ccb24289",
            "1751592d2cf84caab50475a05c4665da",
            "e224567d28e540848411d0f57b0dddfa",
            "3bd2a4f0cc2a4112ad91fb35b80219ad",
            "cdc4c40085ac4ae193429b22209fdd49",
            "38ba947ed5dd4b33a92f044d0cb394a9",
            "a2dd0f12a4cd451a9dcdf50b410dd07a",
            "0d4de574f58847b6a585711b835dcbf7"
          ]
        }
      },
      "source": [
        "model.eval()\n",
        "predictions = []\n",
        "for data in tqdm(test_loader):\n",
        "    data = data.to(device)\n",
        "    output = model(data).max(dim=1)[1] # argmax\n",
        "    predictions += list(output.data.cpu().numpy())"
      ],
      "execution_count": 0,
      "outputs": [
        {
          "output_type": "display_data",
          "data": {
            "application/vnd.jupyter.widget-view+json": {
              "model_id": "5e9a6dffb4f24873a63fa616ccb24289",
              "version_minor": 0,
              "version_major": 2
            },
            "text/plain": [
              "HBox(children=(IntProgress(value=0, max=71), HTML(value='')))"
            ]
          },
          "metadata": {
            "tags": []
          }
        },
        {
          "output_type": "stream",
          "text": [
            "\n"
          ],
          "name": "stdout"
        }
      ]
    },
    {
      "cell_type": "code",
      "metadata": {
        "id": "rs0UakHHOBct",
        "colab_type": "code",
        "outputId": "bec0f078-f732-4dfe-af00-2722dc01ade3",
        "colab": {
          "base_uri": "https://localhost:8080/",
          "height": 194
        }
      },
      "source": [
        "sample_submission = pd.read_csv(\"sample_submission.csv\") #데이터 불러오기\n",
        "\n",
        "sample_submission['Category'] = predictions\n",
        "sample_submission.to_csv('torch_submission.csv', index=False)\n",
        "sample_submission.head()"
      ],
      "execution_count": 0,
      "outputs": [
        {
          "output_type": "execute_result",
          "data": {
            "text/html": [
              "<div>\n",
              "<style scoped>\n",
              "    .dataframe tbody tr th:only-of-type {\n",
              "        vertical-align: middle;\n",
              "    }\n",
              "\n",
              "    .dataframe tbody tr th {\n",
              "        vertical-align: top;\n",
              "    }\n",
              "\n",
              "    .dataframe thead th {\n",
              "        text-align: right;\n",
              "    }\n",
              "</style>\n",
              "<table border=\"1\" class=\"dataframe\">\n",
              "  <thead>\n",
              "    <tr style=\"text-align: right;\">\n",
              "      <th></th>\n",
              "      <th>Id</th>\n",
              "      <th>Category</th>\n",
              "    </tr>\n",
              "  </thead>\n",
              "  <tbody>\n",
              "    <tr>\n",
              "      <th>0</th>\n",
              "      <td>57808</td>\n",
              "      <td>8</td>\n",
              "    </tr>\n",
              "    <tr>\n",
              "      <th>1</th>\n",
              "      <td>4960</td>\n",
              "      <td>0</td>\n",
              "    </tr>\n",
              "    <tr>\n",
              "      <th>2</th>\n",
              "      <td>35755</td>\n",
              "      <td>5</td>\n",
              "    </tr>\n",
              "    <tr>\n",
              "      <th>3</th>\n",
              "      <td>15543</td>\n",
              "      <td>3</td>\n",
              "    </tr>\n",
              "    <tr>\n",
              "      <th>4</th>\n",
              "      <td>48968</td>\n",
              "      <td>8</td>\n",
              "    </tr>\n",
              "  </tbody>\n",
              "</table>\n",
              "</div>"
            ],
            "text/plain": [
              "      Id  Category\n",
              "0  57808         8\n",
              "1   4960         0\n",
              "2  35755         5\n",
              "3  15543         3\n",
              "4  48968         8"
            ]
          },
          "metadata": {
            "tags": []
          },
          "execution_count": 40
        }
      ]
    }
  ]
}