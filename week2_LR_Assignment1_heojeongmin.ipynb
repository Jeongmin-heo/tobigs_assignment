{
 "cells": [
  {
   "cell_type": "markdown",
   "metadata": {},
   "source": [
    "# Assignment1"
   ]
  },
  {
   "cell_type": "markdown",
   "metadata": {},
   "source": [
    "# 0. 데이터 불러오기"
   ]
  },
  {
   "cell_type": "code",
   "execution_count": 1,
   "metadata": {},
   "outputs": [],
   "source": [
    "import pandas as pd\n",
    "import numpy as np\n",
    "import seaborn as sns\n",
    "import matplotlib.pyplot as plt\n",
    "from IPython.core.display import display, HTML \n",
    "from IPython.core.interactiveshell import InteractiveShell\n",
    "from sklearn.model_selection import train_test_split\n",
    "from sklearn.linear_model import LogisticRegression\n",
    "from sklearn import datasets\n",
    "from sklearn.preprocessing import StandardScaler\n",
    "from sklearn.model_selection import KFold, StratifiedKFold\n",
    "from sklearn import metrics\n",
    "from sklearn.metrics import roc_curve, auc, accuracy_score\n",
    "from sklearn.metrics import confusion_matrix, classification_report\n",
    "import warnings\n",
    "warnings.filterwarnings(action='ignore')\n",
    "from sklearn.metrics import *\n",
    "\n",
    "df = pd.read_csv('sampled_data.csv',encoding='utf-8') \n"
   ]
  },
  {
   "cell_type": "markdown",
   "metadata": {},
   "source": [
    "EDA에 필요한 라이브러리를 불러오고 필요한 data를 불러왔습니다. "
   ]
  },
  {
   "cell_type": "code",
   "execution_count": 2,
   "metadata": {},
   "outputs": [
    {
     "data": {
      "text/html": [
       "<div>\n",
       "<style scoped>\n",
       "    .dataframe tbody tr th:only-of-type {\n",
       "        vertical-align: middle;\n",
       "    }\n",
       "\n",
       "    .dataframe tbody tr th {\n",
       "        vertical-align: top;\n",
       "    }\n",
       "\n",
       "    .dataframe thead th {\n",
       "        text-align: right;\n",
       "    }\n",
       "</style>\n",
       "<table border=\"1\" class=\"dataframe\">\n",
       "  <thead>\n",
       "    <tr style=\"text-align: right;\">\n",
       "      <th></th>\n",
       "      <th>Time</th>\n",
       "      <th>V1</th>\n",
       "      <th>V2</th>\n",
       "      <th>V3</th>\n",
       "      <th>V4</th>\n",
       "      <th>V5</th>\n",
       "      <th>V6</th>\n",
       "      <th>V7</th>\n",
       "      <th>V8</th>\n",
       "      <th>V9</th>\n",
       "      <th>...</th>\n",
       "      <th>V21</th>\n",
       "      <th>V22</th>\n",
       "      <th>V23</th>\n",
       "      <th>V24</th>\n",
       "      <th>V25</th>\n",
       "      <th>V26</th>\n",
       "      <th>V27</th>\n",
       "      <th>V28</th>\n",
       "      <th>Amount</th>\n",
       "      <th>Class</th>\n",
       "    </tr>\n",
       "  </thead>\n",
       "  <tbody>\n",
       "    <tr>\n",
       "      <td>0</td>\n",
       "      <td>136330</td>\n",
       "      <td>2.108286</td>\n",
       "      <td>-0.020359</td>\n",
       "      <td>-2.234273</td>\n",
       "      <td>-0.124080</td>\n",
       "      <td>0.559843</td>\n",
       "      <td>-1.315913</td>\n",
       "      <td>0.631887</td>\n",
       "      <td>-0.385490</td>\n",
       "      <td>0.150628</td>\n",
       "      <td>...</td>\n",
       "      <td>0.162940</td>\n",
       "      <td>0.519705</td>\n",
       "      <td>-0.091751</td>\n",
       "      <td>-0.379542</td>\n",
       "      <td>0.418822</td>\n",
       "      <td>0.248646</td>\n",
       "      <td>-0.098857</td>\n",
       "      <td>-0.094773</td>\n",
       "      <td>7.70</td>\n",
       "      <td>0</td>\n",
       "    </tr>\n",
       "    <tr>\n",
       "      <td>1</td>\n",
       "      <td>116819</td>\n",
       "      <td>2.080143</td>\n",
       "      <td>-0.075408</td>\n",
       "      <td>-1.359381</td>\n",
       "      <td>0.261263</td>\n",
       "      <td>0.232201</td>\n",
       "      <td>-0.797886</td>\n",
       "      <td>0.233487</td>\n",
       "      <td>-0.330165</td>\n",
       "      <td>0.493154</td>\n",
       "      <td>...</td>\n",
       "      <td>-0.317765</td>\n",
       "      <td>-0.784150</td>\n",
       "      <td>0.233078</td>\n",
       "      <td>-0.636937</td>\n",
       "      <td>-0.191137</td>\n",
       "      <td>0.234986</td>\n",
       "      <td>-0.070648</td>\n",
       "      <td>-0.062794</td>\n",
       "      <td>17.99</td>\n",
       "      <td>0</td>\n",
       "    </tr>\n",
       "    <tr>\n",
       "      <td>2</td>\n",
       "      <td>27917</td>\n",
       "      <td>1.152650</td>\n",
       "      <td>0.204938</td>\n",
       "      <td>0.441832</td>\n",
       "      <td>1.211595</td>\n",
       "      <td>-0.254895</td>\n",
       "      <td>-0.383380</td>\n",
       "      <td>-0.004286</td>\n",
       "      <td>-0.019590</td>\n",
       "      <td>0.085094</td>\n",
       "      <td>...</td>\n",
       "      <td>0.066674</td>\n",
       "      <td>0.209828</td>\n",
       "      <td>-0.054351</td>\n",
       "      <td>0.058103</td>\n",
       "      <td>0.515330</td>\n",
       "      <td>-0.299402</td>\n",
       "      <td>0.032551</td>\n",
       "      <td>0.022865</td>\n",
       "      <td>21.00</td>\n",
       "      <td>0</td>\n",
       "    </tr>\n",
       "    <tr>\n",
       "      <td>3</td>\n",
       "      <td>97443</td>\n",
       "      <td>-0.389692</td>\n",
       "      <td>0.410148</td>\n",
       "      <td>0.616187</td>\n",
       "      <td>-0.686644</td>\n",
       "      <td>1.040312</td>\n",
       "      <td>-0.322199</td>\n",
       "      <td>0.523625</td>\n",
       "      <td>-0.037453</td>\n",
       "      <td>1.319237</td>\n",
       "      <td>...</td>\n",
       "      <td>0.116692</td>\n",
       "      <td>0.685267</td>\n",
       "      <td>-0.182303</td>\n",
       "      <td>0.767857</td>\n",
       "      <td>-0.242738</td>\n",
       "      <td>0.009678</td>\n",
       "      <td>0.115370</td>\n",
       "      <td>0.176041</td>\n",
       "      <td>6.60</td>\n",
       "      <td>0</td>\n",
       "    </tr>\n",
       "    <tr>\n",
       "      <td>4</td>\n",
       "      <td>17920</td>\n",
       "      <td>-1.306986</td>\n",
       "      <td>0.183306</td>\n",
       "      <td>3.164803</td>\n",
       "      <td>0.810135</td>\n",
       "      <td>1.529576</td>\n",
       "      <td>2.388322</td>\n",
       "      <td>0.551279</td>\n",
       "      <td>-0.054401</td>\n",
       "      <td>1.675481</td>\n",
       "      <td>...</td>\n",
       "      <td>-0.203993</td>\n",
       "      <td>0.556523</td>\n",
       "      <td>0.146513</td>\n",
       "      <td>-1.128693</td>\n",
       "      <td>-0.633623</td>\n",
       "      <td>-0.454903</td>\n",
       "      <td>-0.826329</td>\n",
       "      <td>-0.826186</td>\n",
       "      <td>4.95</td>\n",
       "      <td>0</td>\n",
       "    </tr>\n",
       "  </tbody>\n",
       "</table>\n",
       "<p>5 rows × 31 columns</p>\n",
       "</div>"
      ],
      "text/plain": [
       "     Time        V1        V2        V3        V4        V5        V6  \\\n",
       "0  136330  2.108286 -0.020359 -2.234273 -0.124080  0.559843 -1.315913   \n",
       "1  116819  2.080143 -0.075408 -1.359381  0.261263  0.232201 -0.797886   \n",
       "2   27917  1.152650  0.204938  0.441832  1.211595 -0.254895 -0.383380   \n",
       "3   97443 -0.389692  0.410148  0.616187 -0.686644  1.040312 -0.322199   \n",
       "4   17920 -1.306986  0.183306  3.164803  0.810135  1.529576  2.388322   \n",
       "\n",
       "         V7        V8        V9  ...       V21       V22       V23       V24  \\\n",
       "0  0.631887 -0.385490  0.150628  ...  0.162940  0.519705 -0.091751 -0.379542   \n",
       "1  0.233487 -0.330165  0.493154  ... -0.317765 -0.784150  0.233078 -0.636937   \n",
       "2 -0.004286 -0.019590  0.085094  ...  0.066674  0.209828 -0.054351  0.058103   \n",
       "3  0.523625 -0.037453  1.319237  ...  0.116692  0.685267 -0.182303  0.767857   \n",
       "4  0.551279 -0.054401  1.675481  ... -0.203993  0.556523  0.146513 -1.128693   \n",
       "\n",
       "        V25       V26       V27       V28  Amount  Class  \n",
       "0  0.418822  0.248646 -0.098857 -0.094773    7.70      0  \n",
       "1 -0.191137  0.234986 -0.070648 -0.062794   17.99      0  \n",
       "2  0.515330 -0.299402  0.032551  0.022865   21.00      0  \n",
       "3 -0.242738  0.009678  0.115370  0.176041    6.60      0  \n",
       "4 -0.633623 -0.454903 -0.826329 -0.826186    4.95      0  \n",
       "\n",
       "[5 rows x 31 columns]"
      ]
     },
     "execution_count": 2,
     "metadata": {},
     "output_type": "execute_result"
    }
   ],
   "source": [
    "df.head() #먼저 데이터를 확인합니다 ."
   ]
  },
  {
   "cell_type": "markdown",
   "metadata": {},
   "source": [
    "각 변수가 의미하는 내용이 모두 다르게 나타났기 때문에 그 단위에 대해서도 모두 제각각인 분포를 보이고 있습니다.\n",
    "따라서 용이한 로지스틱회 회귀를 위하여 변수에 대해서 스케일링을 진행하였습니다. "
   ]
  },
  {
   "cell_type": "code",
   "execution_count": 3,
   "metadata": {},
   "outputs": [
    {
     "data": {
      "text/plain": [
       "array([[ 0.87599191,  1.10227326, -0.01383661, ..., -0.29889867,\n",
       "        -0.34162683, -0.04276894],\n",
       "       [ 0.46599202,  1.08762774, -0.04747727, ..., -0.19381068,\n",
       "        -0.29798293, -0.04276894],\n",
       "       [-1.4021752 ,  0.60496356,  0.12384231, ...,  0.08768119,\n",
       "        -0.28521635, -0.04276894],\n",
       "       ...,\n",
       "       [-0.42810237, -1.77186915, -0.42136644, ..., -0.90645255,\n",
       "         0.37580428, -0.04276894],\n",
       "       [ 0.90608364,  0.67055034, -1.06901447, ...,  0.00759972,\n",
       "         1.21623571, -0.04276894],\n",
       "       [-1.90993121,  0.72058018, -0.22056932, ...,  0.07781589,\n",
       "        -0.25934387, -0.04276894]])"
      ]
     },
     "execution_count": 3,
     "metadata": {},
     "output_type": "execute_result"
    }
   ],
   "source": [
    "scaler = StandardScaler() \n",
    "scaler.fit_transform(df)"
   ]
  },
  {
   "cell_type": "code",
   "execution_count": 4,
   "metadata": {},
   "outputs": [],
   "source": [
    "df_new = pd.DataFrame(scaler.fit_transform(df), columns = df.columns) \n",
    "#이렇게 스케일링한 데이터를 df_new라는 이름으로 새로운 변수로 지정해 주었습니다."
   ]
  },
  {
   "cell_type": "markdown",
   "metadata": {},
   "source": [
    "타겟변수인 Class까지 스케일링이 되었기 때문에 따로 인코딩을 위한 함수를 만들어 원래의 0과 1로 변환해주었습니다.\n",
    "스케일링 이후에도 분포는 변하지 않았기 때문에 크게 이상이 없다고 판단하였습니다. "
   ]
  },
  {
   "cell_type": "code",
   "execution_count": 5,
   "metadata": {},
   "outputs": [
    {
     "data": {
      "text/plain": [
       "-0.042769     28428\n",
       " 23.381452       52\n",
       "Name: Class, dtype: int64"
      ]
     },
     "execution_count": 5,
     "metadata": {},
     "output_type": "execute_result"
    }
   ],
   "source": [
    "df_new.Class.value_counts()"
   ]
  },
  {
   "cell_type": "code",
   "execution_count": 6,
   "metadata": {},
   "outputs": [],
   "source": [
    "def encoding (x):\n",
    "    if x >= 1:\n",
    "        return 1\n",
    "    else:\n",
    "        return 0\n",
    "df_new.Class = df_new.Class.apply(encoding)"
   ]
  },
  {
   "cell_type": "code",
   "execution_count": 7,
   "metadata": {},
   "outputs": [
    {
     "data": {
      "text/plain": [
       "0    28428\n",
       "1       52\n",
       "Name: Class, dtype: int64"
      ]
     },
     "execution_count": 7,
     "metadata": {},
     "output_type": "execute_result"
    }
   ],
   "source": [
    "df_new.Class.value_counts()"
   ]
  },
  {
   "cell_type": "markdown",
   "metadata": {},
   "source": [
    "Class를 따로 분리하는 작업을 진행하였습니다. "
   ]
  },
  {
   "cell_type": "code",
   "execution_count": 8,
   "metadata": {},
   "outputs": [],
   "source": [
    "Y= df_new.Class\n",
    "#Class를 따로 분리하여 Y라는 이름으로 지정하였습니다. "
   ]
  },
  {
   "cell_type": "code",
   "execution_count": 9,
   "metadata": {},
   "outputs": [],
   "source": [
    "X = df_new.drop('Class',axis=1)\n",
    "#df에서 Class를 제외하고 X라는 이름으로 지정하였습니다 ."
   ]
  },
  {
   "cell_type": "code",
   "execution_count": 10,
   "metadata": {},
   "outputs": [],
   "source": [
    "#위에서 지정한 X,Y를 train set과 train set 0.7 : 0.3 비율로 분리하였습니다. \n",
    "X_train, X_test, y_train, y_test = train_test_split(X, Y, test_size=0.3, random_state=0)"
   ]
  },
  {
   "cell_type": "markdown",
   "metadata": {},
   "source": [
    "# 1. 주어진 데이터(sampled_data.csv)에 대해 로지스틱 회귀모형(sklearn 패키지 사용 가능)을 적합해보고, Mean Accuracy 찍어보기\n",
    "로지스틱 회귀분석을 시행하고 모델의 정확도를 확인해 보도록 하겠습니다. "
   ]
  },
  {
   "cell_type": "code",
   "execution_count": 11,
   "metadata": {},
   "outputs": [],
   "source": [
    "logreg = LogisticRegression().fit(X_train, y_train) #logreg라는 이름으로 로지스틱회귀를 만들고 적합하였습니다. "
   ]
  },
  {
   "cell_type": "code",
   "execution_count": 12,
   "metadata": {},
   "outputs": [
    {
     "data": {
      "text/plain": [
       "array([0, 0, 0, ..., 0, 0, 0], dtype=int64)"
      ]
     },
     "execution_count": 12,
     "metadata": {},
     "output_type": "execute_result"
    }
   ],
   "source": [
    "y_pred = logreg.predict(X_test) # class에대해서 예측해 보도록하겠습니다. \n",
    "y_pred"
   ]
  },
  {
   "cell_type": "code",
   "execution_count": 13,
   "metadata": {},
   "outputs": [
    {
     "data": {
      "text/plain": [
       "array([[9.99789408e-01, 2.10591918e-04],\n",
       "       [9.99442572e-01, 5.57428081e-04],\n",
       "       [9.99991006e-01, 8.99353963e-06],\n",
       "       ...,\n",
       "       [9.99694202e-01, 3.05797894e-04],\n",
       "       [9.99731956e-01, 2.68043948e-04],\n",
       "       [9.98939604e-01, 1.06039627e-03]])"
      ]
     },
     "execution_count": 13,
     "metadata": {},
     "output_type": "execute_result"
    }
   ],
   "source": [
    "logreg.predict_proba(X_test)"
   ]
  },
  {
   "cell_type": "code",
   "execution_count": 14,
   "metadata": {},
   "outputs": [
    {
     "data": {
      "text/plain": [
       "0.9996488764044944"
      ]
     },
     "execution_count": 14,
     "metadata": {},
     "output_type": "execute_result"
    }
   ],
   "source": [
    "logreg.score(X_test, y_test) # mean accuracy를 출력했을때 매우 높게 나타나는 것을 확인 할 수 있습니다."
   ]
  },
  {
   "cell_type": "markdown",
   "metadata": {},
   "source": [
    "사기에 대한 데이터를 판단하고자 하였지만 사기인 경우(1에 대한 데이터)가 너무 적어 의미가 없다는 것으로 파악하였습니다. \n",
    "추가적으로 샘플링 작업(구글링을 통해 Smote이라는 방법을 통해 데이터를 늘려주는 방식이 있다는 것을 알게 되었습니다.)을 통해서 부분적으로 해결할 수 있을 것이라고 생각하였으나 능력부족으로 도입해보지는 못하였습니다. \n",
    "- Smote관련 링크: https://mkjjo.github.io/python/2019/01/04/smote_duplicate.html"
   ]
  },
  {
   "cell_type": "markdown",
   "metadata": {},
   "source": [
    "# 2. Confusion Matrix 찍어보기 → Mean Accuracy와 비교\n",
    "Counfusion Matrix에 진행하기 앞서, 우선 모델의 최적의 파라미터를 도출하고자 Grid Search를 진행해 보았습니다. \n",
    "c값을 1을 기준으로 패널티를 강하게 ~ 약하게 주어 확인해 보았습니다. \n",
    "패널티는 Ridge와 Lasso를 사용하였습니다. "
   ]
  },
  {
   "cell_type": "code",
   "execution_count": 15,
   "metadata": {},
   "outputs": [
    {
     "data": {
      "text/plain": [
       "0.9987359550561797"
      ]
     },
     "execution_count": 15,
     "metadata": {},
     "output_type": "execute_result"
    }
   ],
   "source": [
    "from sklearn.model_selection import GridSearchCV\n",
    "\n",
    "\n",
    "param_grid = {'C': [0.001, 0.01, 0.1, 1, 10, 100],\n",
    "              'penalty': ['l1', 'l2']} # 파라메터에 대한 후보를 만들었습니다. \n",
    "\n",
    "\n",
    "grid_search = GridSearchCV(LogisticRegression(), param_grid, cv=5) # 로지스틱회귀 그리드 서치를 진행하였습니다. \n",
    "\n",
    "\n",
    "X_train, X_test, y_train, y_test = train_test_split(X, Y, random_state=23)# 모델에 대한 최종 성능을 점검하였습니다.\n",
    "\n",
    "grid_search.fit(X_train, y_train) #적합시킨후에\n",
    "grid_search.score(X_test, y_test) #점수를 확인하였습니다. \n",
    "#Accuracy가 크게 차이나지 않는 것으로 나타났습니다. "
   ]
  },
  {
   "cell_type": "code",
   "execution_count": 16,
   "metadata": {},
   "outputs": [
    {
     "name": "stdout",
     "output_type": "stream",
     "text": [
      "[[7104    6]\n",
      " [   3    7]]\n",
      "              precision    recall  f1-score   support\n",
      "\n",
      "           0       1.00      1.00      1.00      7110\n",
      "           1       0.54      0.70      0.61        10\n",
      "\n",
      "    accuracy                           1.00      7120\n",
      "   macro avg       0.77      0.85      0.80      7120\n",
      "weighted avg       1.00      1.00      1.00      7120\n",
      "\n"
     ]
    }
   ],
   "source": [
    "print(confusion_matrix(grid_search.predict(X_test), y_test))\n",
    "print(classification_report(grid_search.predict(X_test), y_test))\n",
    "#f-1 score, matrix, #정확도, 재현율"
   ]
  },
  {
   "cell_type": "markdown",
   "metadata": {},
   "source": [
    "Confusion Matrix로 확인해본 결과\n",
    "- 1) 사기가 아닌데, 사기가 아니라고 판단한 경우 = 7104 건\n",
    "- 2) 사기가 아닌데, 사기라고 판단한 경우 = 6건\n",
    "- 3) 사기인데, 사기가 아니라고 판단한 경우 = 3건\n",
    "- 4) 사기인데, 사기라고 판단한 경우 = 7건으로 나타났습니다. \n",
    "\n",
    "- 5) Precision의 경우 0경우는 모두 맞췄고 1의 경우에는 0.54의 정밀도를 보였습니다. \n",
    "- 6) Recall의 경우는 0.7의 재현율을 보였습니다. \n",
    "- 7) 이를 통해 f1-score를 봤을때 0.61의 점수를 나타냈습니다. "
   ]
  },
  {
   "cell_type": "markdown",
   "metadata": {},
   "source": [
    "# 3. Logistic은 cut-off를 어떻게 설정하느냐에 따라 Classification의 성능이 달라짐. \n",
    "- 최적의 Cut-off를 ROC 커브를 사용해서 찾아보세요. "
   ]
  },
  {
   "cell_type": "code",
   "execution_count": 17,
   "metadata": {},
   "outputs": [],
   "source": [
    "predict_score = logreg.predict_proba(X_test)[:,1] #predict_proba를 통하여 Class가 1일 확률에 대해서 예측값을 확인해보도록 하겠습니다. "
   ]
  },
  {
   "cell_type": "code",
   "execution_count": 18,
   "metadata": {},
   "outputs": [],
   "source": [
    "fpr, tpr, thresholds = roc_curve(y_test, predict_score )\n",
    "# 순서대로 fpr, tpr, thresholds를 리턴함!\n",
    "# fpr = 1-specificity\n",
    "# tpr = sensitivity\n",
    "# thresholds = 해당 fpr, tpr을 리턴할 때의 thesholds(cut-off) 값!"
   ]
  },
  {
   "cell_type": "code",
   "execution_count": 19,
   "metadata": {},
   "outputs": [
    {
     "data": {
      "text/plain": [
       "Text(0, 0.5, 'Sensitivity')"
      ]
     },
     "execution_count": 19,
     "metadata": {},
     "output_type": "execute_result"
    },
    {
     "data": {
      "image/png": "[encoded data removed]",
      "text/plain": [
       "<Figure size 432x288 with 1 Axes>"
      ]
     },
     "metadata": {
      "needs_background": "light"
     },
     "output_type": "display_data"
    }
   ],
   "source": [
    "x = fpr\n",
    "y = tpr\n",
    "\n",
    "plt.plot(x,y)\n",
    "plt.xlabel('1-Specificity')\n",
    "plt.ylabel('Sensitivity')\n",
    "#ROC커브를 그렸을때 다음과 같은 분포를 보였습니다. "
   ]
  },
  {
   "cell_type": "code",
   "execution_count": 20,
   "metadata": {},
   "outputs": [],
   "source": [
    "import matplotlib.pyplot as plt\n",
    "%matplotlib inline"
   ]
  },
  {
   "cell_type": "code",
   "execution_count": 21,
   "metadata": {},
   "outputs": [
    {
     "data": {
      "text/plain": [
       "<sklearn.metrics._plot.roc_curve.RocCurveDisplay at 0x1f9bcdeb948>"
      ]
     },
     "execution_count": 21,
     "metadata": {},
     "output_type": "execute_result"
    },
    {
     "data": {
      "image/png": "[encoded data removed]",
      "text/plain": [
       "<Figure size 432x288 with 1 Axes>"
      ]
     },
     "metadata": {
      "needs_background": "light"
     },
     "output_type": "display_data"
    }
   ],
   "source": [
    "# sklearn 패키지를 활용하여 조금더 편하게 그릴수 있다는 것을 배웠습니다. \n",
    "\n",
    "plot_roc_curve(logreg, X_test, y_test, response_method = 'predict_proba') #method를 predict_proba로 하여 Roc_curve를 그렸습니다."
   ]
  },
  {
   "cell_type": "code",
   "execution_count": 22,
   "metadata": {},
   "outputs": [
    {
     "data": {
      "text/plain": [
       "[[0.0, 0.0, 1.9999993305286088],\n",
       " [0.0, 0.07692307692307693, 0.9999993305286089],\n",
       " [0.0, 0.23076923076923078, 0.9985317982931996],\n",
       " [0.0001407063458561981, 0.23076923076923078, 0.9871898509569165],\n",
       " [0.0001407063458561981, 0.46153846153846156, 0.7008586507269817],\n",
       " [0.0002814126917123962, 0.46153846153846156, 0.6545753487489591],\n",
       " [0.0002814126917123962, 0.5384615384615384, 0.5328227592313302],\n",
       " [0.00042211903756859433, 0.5384615384615384, 0.5053098029459365],\n",
       " [0.00042211903756859433, 0.6153846153846154, 0.3025078783013691],\n",
       " [0.0011256507668495849, 0.6153846153846154, 0.064299343630467],\n",
       " [0.0011256507668495849, 0.6923076923076923, 0.04950021934493352],\n",
       " [0.0029548332629801602, 0.6923076923076923, 0.026596206406282272],\n",
       " [0.0029548332629801602, 0.7692307692307693, 0.02590589104088542],\n",
       " [0.012804277472914028, 0.7692307692307693, 0.007648674636246081],\n",
       " [0.012804277472914028, 0.8461538461538461, 0.007599416113117819],\n",
       " [0.015055579006613199, 0.8461538461538461, 0.006266230710796006],\n",
       " [0.015055579006613199, 0.9230769230769231, 0.006254851169759504],\n",
       " [0.4447727592514422, 0.9230769230769231, 0.00016117344155553015],\n",
       " [0.44505417194315466, 0.9230769230769231, 0.00016100511602700282],\n",
       " [0.5784437878148304, 0.9230769230769231, 9.324306900692608e-05],\n",
       " [0.5787252005065429, 0.9230769230769231, 9.320405533016951e-05],\n",
       " [0.8861685662023358, 0.9230769230769231, 8.674748348239886e-06],\n",
       " [0.8861685662023358, 1.0, 8.666087505769318e-06],\n",
       " [1.0, 1.0, 9.332772580062987e-17]]"
      ]
     },
     "execution_count": 22,
     "metadata": {},
     "output_type": "execute_result"
    }
   ],
   "source": [
    "res = [[fpr_i, tpr_i, thres_i] for fpr_i, tpr_i, thres_i in zip(fpr, tpr, thresholds)]\n",
    "res\n",
    "# 1-specificity, specificity,thresholds에 대한 정보를 얻을 수 있었습니다. "
   ]
  },
  {
   "cell_type": "markdown",
   "metadata": {},
   "source": [
    "cutoff의 지점을 찾기위해 res가 최대가 되는 지점을 출력해보았습니다. \n",
    "그 지점이 0.006254851169759504으로 나타나서 decisions이라는 이름으로 다시한번 시행하였습니다 ."
   ]
  },
  {
   "cell_type": "code",
   "execution_count": 23,
   "metadata": {},
   "outputs": [
    {
     "data": {
      "text/plain": [
       "[0.9080213440703099, 0.006254851169759504]"
      ]
     },
     "execution_count": 23,
     "metadata": {},
     "output_type": "execute_result"
    }
   ],
   "source": [
    "res = {thrs_i: abs(fpr_i - tpr_i) for fpr_i, tpr_i, thrs_i in zip(fpr,tpr,thresholds)}\n",
    "res = [[abs(fpr_i - tpr_i), thres_i] for fpr_i, tpr_i, thres_i in zip(fpr, tpr, thresholds)]\n",
    "max(res)"
   ]
  },
  {
   "cell_type": "code",
   "execution_count": 24,
   "metadata": {},
   "outputs": [
    {
     "data": {
      "text/plain": [
       "array([[1, 0],\n",
       "       [1, 0],\n",
       "       [1, 0],\n",
       "       ...,\n",
       "       [1, 0],\n",
       "       [1, 0],\n",
       "       [1, 0]])"
      ]
     },
     "execution_count": 24,
     "metadata": {},
     "output_type": "execute_result"
    }
   ],
   "source": [
    "decisions = (logreg.predict_proba(X_test) >= 0.006254851169759504).astype(int)\n",
    "decisions"
   ]
  }
 ],
 "metadata": {
  "kernelspec": {
   "display_name": "Python 3",
   "language": "python",
   "name": "python3"
  },
  "language_info": {
   "codemirror_mode": {
    "name": "ipython",
    "version": 3
   },
   "file_extension": ".py",
   "mimetype": "text/x-python",
   "name": "python",
   "nbconvert_exporter": "python",
   "pygments_lexer": "ipython3",
   "version": "3.7.4"
  }
 },
 "nbformat": 4,
 "nbformat_minor": 4
}
