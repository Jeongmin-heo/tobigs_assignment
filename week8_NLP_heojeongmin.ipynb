{
  "nbformat": 4,
  "nbformat_minor": 0,
  "metadata": {
    "colab": {
      "name": "week8_NLP_heojeongmin.ipynb",
      "provenance": [],
      "collapsed_sections": [],
      "include_colab_link": true
    },
    "kernelspec": {
      "name": "python3",
      "display_name": "Python 3"
    },
    "accelerator": "GPU"
  },
  "cells": [
    {
      "cell_type": "markdown",
      "metadata": {
        "id": "view-in-github",
        "colab_type": "text"
      },
      "source": [
        "<a href=\"https://colab.research.google.com/github/Jeongmin-heo/tobigs_assignment/blob/master/week8_NLP_heojeongmin.ipynb\" target=\"_parent\"><img src=\"https://colab.research.google.com/assets/colab-badge.svg\" alt=\"Open In Colab\"/></a>"
      ]
    },
    {
      "cell_type": "markdown",
      "metadata": {
        "id": "VQscRXZD9ujN",
        "colab_type": "text"
      },
      "source": [
        "# 1. Data Collection\n",
        "\n",
        "- 자기소개서를 쓰다보면 어떤 내용을 써야할지 자주 막막하였습니다. 이러한 고민으로부터 시작하여 기업의 합격자소서 속에서 핵심 키워드를 얻을 수 있다면 키워드를 기반으로 살을 붙히는 것은 자신있기 때문에 자기소개서를 쓸 때 도움이 될 것이라고 생각하였습니다. \n",
        "\n",
        "- 이번과제에서는 SK하이닉스의 \"합격\" 자기소개서 약 200개를 크롤링하고 이러한 자료를 가지고 분석을 진행해보도록 하겠습니다. \n",
        "\n",
        "- 특정 직무에 대해서 합격자소서에 자주 나오는 키워드를 작성하는 것이 도움이 될 것이라고 가정하고 분석을 진행하겠습니다. \n",
        "\n",
        "- 사람인 홈페이지에서 제공하는 자기소개서 데이터를 활용하기 위하여 합격 자소서 내용을 크롤링 하였습니다. \n",
        "\n",
        "- 자기소개서의 내용을 직무별/질문별로 크롤링하여 데이터를 확인해보도록 하겠습니다.\n",
        "\n",
        "- colab에서 셀레니움을 진행하는 법을 찾지못하여 jupyter로 진행하였습니다. "
      ]
    },
    {
      "cell_type": "code",
      "metadata": {
        "id": "sDPLn86v-Qjk",
        "colab_type": "code",
        "colab": {}
      },
      "source": [
        "#셀레니움을 사용하기 위한 정보를 다운로드 받습니다. \n",
        "from selenium import webdriver\n",
        "from selenium.webdriver.common.by import By\n",
        "from selenium.webdriver.support import expected_conditions as ec\n",
        "from selenium.webdriver.support.wait import WebDriverWait as Wait\n",
        "import pandas as pd\n",
        "import numpy as np\n",
        "import re\n",
        "import time \n",
        "from time import sleep\n",
        "\n",
        "import requests\n",
        "from bs4 import BeautifulSoup\n",
        "import re\n",
        "import pandas as pd\n",
        "\n",
        "import string\n",
        "import random\n",
        "\n",
        "from selenium import webdriver\n",
        "from selenium.webdriver.common.keys import Keys\n",
        "from selenium import webdriver\n",
        "from selenium.webdriver.common.keys import Keys"
      ],
      "execution_count": 0,
      "outputs": []
    },
    {
      "cell_type": "code",
      "metadata": {
        "id": "1g56EKHe-Qre",
        "colab_type": "code",
        "colab": {}
      },
      "source": [
        "driver = webdriver.Chrome(\"./chromedriver.exe\") #웹드라이브 실행\n",
        "driver.get(\"http://www.saramin.co.kr/zf_user/public-recruit/coverletter-list?pass_status=y&apply_dept=&coverletter_item=&company_nm=SK%ED%95%98%EC%9D%B4%EB%8B%89%EC%8A%A4#listTop\") #주소 get\n",
        "answer=[]\n",
        "#인재상을 알아보자"
      ],
      "execution_count": 0,
      "outputs": []
    },
    {
      "cell_type": "code",
      "metadata": {
        "id": "Q3eJJtED-Qua",
        "colab_type": "code",
        "colab": {}
      },
      "source": [
        "#빠른 크롤링 진행을 위하여 try를 과도하게 사용하였습니다.....\n",
        "for i in range(0,7):\n",
        "    try:\n",
        "        sleep(1)\n",
        "        driver.find_element_by_xpath('//*[@id=\"listArea\"]/div/a['+str(i)+']').click()\n",
        "\n",
        "        try:\n",
        "            for j in range(1,21):\n",
        "                try:\n",
        "                    sleep(1)\n",
        "                    target=driver.find_element_by_xpath('//*[@id=\"listArea\"]/table/tbody/tr['+str(j)+']/td[2]/h2/a') #게시물 입장\n",
        "                    target.send_keys(Keys.CONTROL + \"\\n\") # window 새로운 탭 열기\n",
        "                    driver.switch_to_window(driver.window_handles[1]) #새탭으로 이동\n",
        "                    try:\n",
        "                        sleep(1)\n",
        "                        # 1번 내용 긁기\n",
        "                        k = driver.find_element_by_xpath('//*[@id=\"content\"]/div[2]/div[2]/div[2]/div[2]').text\n",
        "                        text = k[:k.index(\"글자수\")]\n",
        "                        answer.append(text)\n",
        "                        \n",
        "                        #2번 내용 긁기\n",
        "                        driver.find_element_by_xpath('//*[@id=\"content\"]/div[2]/div[2]/div[2]/div[3]/button').click() #2번질문\n",
        "                        k = driver.find_element_by_xpath('//*[@id=\"content\"]/div[2]/div[2]/div[2]/div[4]').text\n",
        "                        text = k[:k.index(\"글자수\")]\n",
        "                        answer.append(text)\n",
        "                        \n",
        "                        #3번\n",
        "                        driver.find_element_by_xpath('//*[@id=\"content\"]/div[2]/div[2]/div[2]/div[5]/button').click() #3번질문\n",
        "                        k = driver.find_element_by_xpath('//*[@id=\"content\"]/div[2]/div[2]/div[2]/div[6]').text\n",
        "                        text = k[:k.index(\"글자수\")]\n",
        "                        answer.append(text)\n",
        "                                   \n",
        "                        #4번\n",
        "                        driver.find_element_by_xpath('//*[@id=\"content\"]/div[2]/div[2]/div[2]/div[7]/button').click() #4번질문 \n",
        "                        k = driver.find_element_by_xpath('//*[@id=\"content\"]/div[2]/div[2]/div[2]/div[8]').text\n",
        "                        text = k[:k.index(\"글자수\")]\n",
        "                        answer.append(text)\n",
        "\n",
        "                        \n",
        "                    except:\n",
        "                        pass\n",
        "                    \n",
        "                    driver.close()\n",
        "                    driver.switch_to_window(driver.window_handles[0]) #원래탭으로 이동\n",
        "\n",
        "                except:\n",
        "                    pass\n",
        "        except:\n",
        "            pass\n",
        "    except:\n",
        "        pass"
      ],
      "execution_count": 0,
      "outputs": []
    },
    {
      "cell_type": "code",
      "metadata": {
        "id": "-C9138OQ-Qwu",
        "colab_type": "code",
        "colab": {}
      },
      "source": [
        "#csv로 저장\n",
        "answer_df = pd.DataFrame(answer)\n",
        "answer_df.to_csv(\"합격자소서.csv\", index=False, encoding=\"utf-8-sig\")"
      ],
      "execution_count": 0,
      "outputs": []
    },
    {
      "cell_type": "markdown",
      "metadata": {
        "id": "NNNtOkLg-2-Z",
        "colab_type": "text"
      },
      "source": [
        "# 2.Tokenizing\n",
        "\n",
        "## 2.1 데이터 전처리\n",
        "- 빠른 크롤링을 위하여 자기소개서의 모든 내용을 긁다보니 부득이하게 질문과, 불필요한 내용들이 같이 긁혀왔습니다. \n",
        "\n",
        "- 이를 처리하는 작업을 먼저 진행하도록 하겠습니다.\n",
        "\n",
        "- 현재 데이터프레임 1행에는 한명의 모든 자기소개서 내용이 들어있기 때문에 이를 문장단위로 잘라내도록 하겠습니다. \n",
        "\n",
        "- 문장을 나누는 기준은 마침표로하고 추가적으로 특수문자역시 처리하도록 하겠습니다.(강의자료를 활용하였습니다.)\n",
        "\n",
        "- 여기부터는 colab으로 진행하겠습니다."
      ]
    },
    {
      "cell_type": "code",
      "metadata": {
        "id": "hsqoZGTAD-YQ",
        "colab_type": "code",
        "outputId": "f12e7b5c-421d-4e80-8de8-5bbc8ea1ef39",
        "colab": {
          "base_uri": "https://localhost:8080/",
          "height": 34
        }
      },
      "source": [
        "cd /content/drive/My Drive/colab_workspace"
      ],
      "execution_count": 0,
      "outputs": [
        {
          "output_type": "stream",
          "text": [
            "/content/drive/My Drive/colab_workspace\n"
          ],
          "name": "stdout"
        }
      ]
    },
    {
      "cell_type": "code",
      "metadata": {
        "id": "Hz-L4LWSEdgH",
        "colab_type": "code",
        "outputId": "cf9460ac-1f2d-49f8-b275-1a070b5c34e2",
        "colab": {
          "base_uri": "https://localhost:8080/",
          "height": 69
        }
      },
      "source": [
        "ls"
      ],
      "execution_count": 0,
      "outputs": [
        {
          "output_type": "stream",
          "text": [
            " Alexnet2.h5          합격자소서.csv             \u001b[0m\u001b[01;34mkhaiii\u001b[0m/      \u001b[01;34mtest_1\u001b[0m/\n",
            " \u001b[01;34mbuild\u001b[0m/               dog.png                    morphs.csv   \u001b[01;34mtrain\u001b[0m/\n",
            " colab_khaiii.ipynb  '합격자소서 크롤링.ipynb'   \u001b[01;34mtest\u001b[0m/        \u001b[01;34mtrain_1\u001b[0m/\n"
          ],
          "name": "stdout"
        }
      ]
    },
    {
      "cell_type": "code",
      "metadata": {
        "id": "KGWqMaW5G7lr",
        "colab_type": "code",
        "outputId": "94cedcd0-25b5-4025-c754-219b7ed1d608",
        "colab": {
          "base_uri": "https://localhost:8080/",
          "height": 298
        }
      },
      "source": [
        "import numpy as np\n",
        "import pandas as pd\n",
        "!pip install KoNLPy\n",
        "from konlpy.tag import *\n",
        "from gensim.models import Word2Vec, fasttext\n",
        "twitter = Okt()  #twitter class 객체당!\n",
        "komoran = Komoran()\n",
        "kkma = Kkma()\n",
        "data = pd.read_csv('합격자소서.csv')"
      ],
      "execution_count": 0,
      "outputs": [
        {
          "output_type": "stream",
          "text": [
            "Requirement already satisfied: KoNLPy in /usr/local/lib/python3.6/dist-packages (0.5.2)\n",
            "Requirement already satisfied: numpy>=1.6 in /usr/local/lib/python3.6/dist-packages (from KoNLPy) (1.18.2)\n",
            "Requirement already satisfied: beautifulsoup4==4.6.0 in /usr/local/lib/python3.6/dist-packages (from KoNLPy) (4.6.0)\n",
            "Requirement already satisfied: colorama in /usr/local/lib/python3.6/dist-packages (from KoNLPy) (0.4.3)\n",
            "Requirement already satisfied: JPype1>=0.7.0 in /usr/local/lib/python3.6/dist-packages (from KoNLPy) (0.7.2)\n",
            "Requirement already satisfied: tweepy>=3.7.0 in /usr/local/lib/python3.6/dist-packages (from KoNLPy) (3.8.0)\n",
            "Requirement already satisfied: lxml>=4.1.0 in /usr/local/lib/python3.6/dist-packages (from KoNLPy) (4.2.6)\n",
            "Requirement already satisfied: requests-oauthlib>=0.7.0 in /usr/local/lib/python3.6/dist-packages (from tweepy>=3.7.0->KoNLPy) (1.3.0)\n",
            "Requirement already satisfied: PySocks>=1.5.7 in /usr/local/lib/python3.6/dist-packages (from tweepy>=3.7.0->KoNLPy) (1.7.1)\n",
            "Requirement already satisfied: six>=1.10.0 in /usr/local/lib/python3.6/dist-packages (from tweepy>=3.7.0->KoNLPy) (1.12.0)\n",
            "Requirement already satisfied: requests>=2.11.1 in /usr/local/lib/python3.6/dist-packages (from tweepy>=3.7.0->KoNLPy) (2.21.0)\n",
            "Requirement already satisfied: oauthlib>=3.0.0 in /usr/local/lib/python3.6/dist-packages (from requests-oauthlib>=0.7.0->tweepy>=3.7.0->KoNLPy) (3.1.0)\n",
            "Requirement already satisfied: idna<2.9,>=2.5 in /usr/local/lib/python3.6/dist-packages (from requests>=2.11.1->tweepy>=3.7.0->KoNLPy) (2.8)\n",
            "Requirement already satisfied: certifi>=2017.4.17 in /usr/local/lib/python3.6/dist-packages (from requests>=2.11.1->tweepy>=3.7.0->KoNLPy) (2019.11.28)\n",
            "Requirement already satisfied: chardet<3.1.0,>=3.0.2 in /usr/local/lib/python3.6/dist-packages (from requests>=2.11.1->tweepy>=3.7.0->KoNLPy) (3.0.4)\n",
            "Requirement already satisfied: urllib3<1.25,>=1.21.1 in /usr/local/lib/python3.6/dist-packages (from requests>=2.11.1->tweepy>=3.7.0->KoNLPy) (1.24.3)\n"
          ],
          "name": "stdout"
        }
      ]
    },
    {
      "cell_type": "code",
      "metadata": {
        "id": "TVZq86Ti-Q58",
        "colab_type": "code",
        "outputId": "e55d000c-711e-482c-a37f-65a57f7c15a1",
        "colab": {
          "base_uri": "https://localhost:8080/",
          "height": 124
        }
      },
      "source": [
        "data_list = data['0'].tolist()\n",
        "data_list[0:5]\n",
        "# 모든 경우를 살펴본 결과 앞에서 질문, 답변순서로 나타나는 것을 알수있었습니다. 따라서 질문을 삭제하고 \\n 와 .단위로 잘라 문장단위로 리스트를 재구성하도록 하겠습니다."
      ],
      "execution_count": 0,
      "outputs": [
        {
          "output_type": "execute_result",
          "data": {
            "text/plain": [
              "['1. 자발적 V(Voluntarily)으로 최고 수준의 목표를 세우고 끈질기게 성취한 경험에 대해 서술해 주십시오\\n[함께하는 학생회]\\n2016년도 학생회장을 하며 외친 구호는 ‘어깨동무’였습니다. 여러 명이 함께하는 어깨동무가 ‘학우들과 함께하는 학생회를 만들자는 목표’를 잘 나타낸다고 생각했기 때문입니다. 높은 남학우의 비율, 1000명이 넘는 인원으로 인한 저조한 참석률을 획기적으로 높이긴 어렵다고 생각했지만, 과의 발전을 위해 학생회 구성원들과 함께 목표를 이루기 위해 노력했습니다.\\n\\n[참여를 위한 3가지 아이디어]\\n기계공학과 학술제에서 학우들의 참여율을 높이기 위해, 주 1회이었던 회의를 2회로 늘리고 많은 생각들을 공유하며 3가지 아이디어를 실천했습니다.\\n1. 학술제 홍보를 위해 따라 부르기 쉬운 홍보 곡을 만들어 부르기 및 홍보 포스터 부착\\n2. 학술제에 관한 익명 투표 및 자유게시판을 통한 학우들과 소통\\n3. 학우들의 요구에 맞게 학술제를 보완하기\\n\\n[성공적인 소통, 부족했던 예산]\\n위의 3가지 아이디어로 학우들의 의견을 수렴할 수 있었고, 그 중에 제일 많았던 의견 두 가지는 대학원에 대한 정보를 알고 싶다는 것과 다양한 회사의 인적성 모의고사 실행이었습니다. 대학원 정보에 대한 요구는 모든 연구실과 교수실을 방문하고 학우들의 요구를 어필해서 기계공학과 전 연구실에 대한 설명회를 개최할 수 있었지만, 기존 2가지 종류였던 인적성 모의고사를 4가지로 늘리는 과정에서 예산이 부족하다는 문제가 발생했습니다. 문제를 해결하기 위해 동일한 조건에서 최저 비용이드는 업체들을 조사하고, 기획안과 지원금 요청서를 제출하며 학과사무실과 학과장님으로부터 지원금을 받아 예산의 2배가 넘는 비용을 해결할 수 있었습니다.\\n\\n[130%의 참여율]\\n학우들과 함께하는 학생회라는 목표를 달성하기 위해 학생회 구성원들과 노력하고, 예상하지 못했던 예산 문제를 해결하면서 개선된 학술제를 기획했습니다. 그 결과 예년에 비해 참여율이 30%이상 증가된 학술제를 진행할 수 있었습니다. 또한 지금까지도 학우들과 함께하는 학생회를 만들기 위해 학생회의 일원으로 활동 하고 있습니다.\\n',\n",
              " '2. 새로운 것을 접목하거나 남다른 아이디어를 통해 문제를 개선했던 경험에 대해 서술해 주십시오.\\n[정형화된 프로젝트]\\n자유주제로 3D 제품을 설계하는 과정에서 단순히 ‘엔진’을 그리는 대신 ‘신재생에너지’을 접목한 새로운 방식의 엔진을 사용할 수 있는 제품을 제작했습니다. 저희 팀은 프로젝트를 시작하기 전 과거 프로젝트 진행된 경과를 조사했고, 이를 통해 두 가지 사실을 알 수 있었습니다.\\n1. 3학년의 기계공학과 학생들이 차량 내부의 엔진에 대해 처음 배우며 엔진하면 생각나는 자동차에 주제가 치우쳐 있다.\\n2. 차량의 외형을 멋지게 만드는데 설계 시간을 많이 쏟음으로써 제품 외형에만 관심이 있다.\\n이러한 원인으로 대부분의 팀이 비슷한 주제와 외형을 누가 더 화려하고 어려운 걸 구현해 낼 수 있는지를 비교하는 프로젝트가 되었습니다.\\n\\n[생각의 전환을 통해 얻은 돌파구]\\n신재생에너지를 통해 구현할 수 있는 제품은 없을까라는 고민을 했지만, 경제성이 뛰어나고 구현 가능한 만족스러운 모델을 얻을 수 없었습니다. 하지만 하나의 에너지를 사용하는 엔진에서 벗어나 화석연료와 태양열을 같이 사용하는 엔진을 써보자는 생각의 전환으로 주제선정에 탄력이 붙었습니다.\\n\\n[다양한 시도를 통한 아이디어]\\n태양열이 효율을 잘 낼 수 있는 곳을 고민하던 중 바다 한가운데에서 작업을 하는 시추선을 생각했습니다. 또한 지구엔 원유 자원이 남아있지만 시추선을 보내는 비용이 더 높아 자원이 남아 있는 곳이 많음을 자료조사로 알았습니다. 이를 융합해 태양열 전지판을 배 표면에 부착하고 자원들을 캐기 위해 이동하는 드릴쉽을 생각하게 되었습니다. 태양열을 이용해 엔진을 구동하는데 필요한 동력 제공, 생활전력으로 사용하는 드릴쉽은 주제에서 참신함과 실제 경제성을 고려한 디자인으로서 차별성을 가질 수 있었습니다.\\n이 프로젝트를 통해 문제해결을 위해선 새로운 시각에서의 아이디어는 원인 분석과 실생활에서 실현가능한 것이 어떤 것일지 고민하는 것이 혁신적인 아이디어의 원천이 될 수 있다는 것을 알았습니다. 이는 좋은 성과로 이어져 전산제도 과목의 성적도 A+를 받을 수 있었습니다.\\n',\n",
              " '1. 자발적으로 최고 수준의 목표를 세우고 끈질기게 성취한 경험에 대해 서술해 주십시오. (본인이 설정한 목표/ 목표의 수립 과정/ 처음에 생각했던 목표 달성 가능성/ 수행 과정에서 부딪힌 장애물 및 그 때의 감정(생각)/ 목표 달성을 위한 구체적 노력/ 실제 결과/ 경험의 진실성을 증명할 수 있는 근거가 잘 드러나도록 기술)\\n[다양한 분야를 융합할 수 있는 융합인]\\n저는 ICT·IoT 공모전뿐만 아니라 ‘일본 기타큐슈 공업대학 캡스톤 디자인 교류프로그램’, ‘2015 ACEE 국제학술대회’ 등 여러 해외 교류프로그램을 통해서 사업화하기 위한 여러 프로젝트를 진행했고, 프로그램을 진행할 때마다 다양한 분야를 융합할 수 있는 융합인이 되기 위해 노력했습니다. 대표적으로 드론을 직접 제작한 경험이 있습니다.\\n[전파 공학도가 쏘아 올린 드론]\\n저는 대학교 4학년 때 부산광역시에서 주관하는 드론 사업화를 위한 ‘2016 드론 챌린지 코리아’ 공모전에 작품을 출품하기 위해서 ‘비콘 콜드 체인 시스템을 위한 스마트 드론’ 프로젝트를 수행했던 경험이 있습니다. 하지만 드론에 대한 경험과 사전지식이 없었고, 드론을 직접 제작 및 설계하면서 비콘 콜드 체인 시스템 구축뿐만 아니라 저의 전공과 무관한 기계적인 요소를 다뤄야 했기 때문에 전공을 넘나드는 지식이 필요했습니다.\\n드론에 대한 지식을 쌓기 위해서 드론 관련 자료를 찾아보기도 하고, 부족한 기술적인 부분을 보완하기 위해서 드론 전문업체 ‘신동 디지텍’과의 협력을 통해 기술적인 부분을 보완할 수 있었습니다. 또한, 시제품화 하기 위해서 약 6개월간 ‘KAIST 아이디어 팩토리 ‘등과 같은 시제품 교육 프로그램, AUTOCAD 자격증과 CATIA 설계 교육을 수료했기 때문에, 프로젝트를 마무리할 수 있었습니다.\\n그 결과로 ‘일본 기타큐슈 공업 대학 캡스톤 디자인‘, ‘2017 드론쇼 코리아’ 선도 대학관 작품 출품, ‘2016 드론 챌린지 코리아’ 동상 수상 및 이와 관련된 3개의 특허를 출원 및 신청했습니다. 또한, 저는 중국 칭화대학교 인턴십 프로그램에 융성과제로 선정되어 중국에서 1개월간 인턴십을 수행하였습니다.\\n저의 이러한 경험을 통해 보여 준 끈질긴 노력 정신을 바탕으로 SK 하이닉스가 IDM 회사로써 DRAM, NAND, SSD 등 반도체 세계 시장 점유율 1위가 될 수 있도록 함께 나아가는 신입 사원이 되겠습니다.\\n',\n",
              " '2. 새로운 것을 접목하거나 남다른 아이디어를 통해 문제를 개선했던 경험에 대해 서술해 주십시오. (기존 방식과 본인이 시도한 방식의 차이/ 새로운 시도를 하게 된 계기/ 새로운 시도를 했을 때의 주변 반응/ 새로운 시도를 위해 감수해야 했던 점/ 구체적인 실행 과정 및 결과/ 경험의 진실성을 증명할 수 있는 근거가 잘 드러나도록 기술)\\n[환경 캠페인 ‘2015 그린 리더스 클럽’ 실패하다.]\\n학교 교내 대외 활동 중 3개월간 학교에서 교육부에서 주관하는 환경 캠페인 ‘2015 그린 리더스 클럽’ 일원으로 참여한 경험이 있습니다. 저희 팀은 폐지문제와 공공의 이익을 추구하는 것을 목표로 선정하였습니다. 저희 팀은 기존의 팀들처럼 기존의 방식 그대로 캠페인을 알리기 위해서 전단지 배포, SNS와 같은 홍보 마케팅에만 집중했기 때문에, 캠페인 기간만 진행되고 지속적인 캠페인으로 이어지지 못했습니다.\\n[7전 8기 도전정신으로 ‘2016 그린 리더스 클럽’을 도전하다.]\\n하지만, 저는 7전 8기 도전정신으로, 다시 팀원들을 설득해서 ‘2016 그린 리더스 클럽’을 신청하게 되었습니다. 팀장을 맡게 된 저는 작년과 같이 캠페인 기간만 운영되는 문제를 반복하지 않기 위해서, 저는 상대방의 요구 파악을 하기 위해서 교내 설문조사를 했습니다. 문제점을 분석해본 결과 홍보 마케팅에 집중한 나머지 자발적인 참여의식과 캠페인 체계화 부족문제를 가지고 있었습니다.\\n[상대방의 정확한 요구 파악을 통해 지속적인 캠페인을 이루다.]\\n이 문제를 해결하기 위해 학교 근처 고물상 ‘동삼 자원’ 과 주기적으로 2주에 한 번씩 폐지를 수거 및 폐지로 생기는 수입금 중 50%를 소외계층에게 기부하는 협약을 맺었습니다. 그 결과로 3주간 62,600원을 기부함과 동시에 자발적인 참여도를 높일 수 있었습니다.\\n또한, 학생 총회에 안건 제시 및 선정을 통해 학과 집행부 학생들이 2주일에 한 번씩 학과사무실 앞에 비치된 폐지함을 ‘동삼 자원’이 수거 할 수 있도록 지정된 위치에 옮기는 역할을 배분을 통해 캠페인을 체계화할 수 있었고, 지속적인 캠페인을 이어나갈 수 있었습니다.\\n이러한 정확한 요구 파악을 통한 문제 해결능력은 ‘2016 그린리더스’ 환경 캠페인뿐만 아니라 다양한 프로젝트를 진행하는데 초석이 되었습니다. 또한, 이러한 문제해결 능력은 SK하이닉스에서도 가장 큰 역량으로 작용할 것으로 생각합니다.\\n',\n",
              " '1. 자발적으로 최고 수준의 목표를 세우고 끈질기게 성취한 경험에 대해 서술해 주십시오.\\n[칠전팔기] - 일곱 번 넘어져도 여덟 번째 일어난다.\\n\\n한국전력 군포전력지사에서 3개월 동안 목표 달성을 위한 집중력으로 송주법 협약을 맺는 데 기여했던 경험이 있습니다.\\n\\n송주법이란 송전탑 주변 지역에 거주하는 세대에 전기 요금을 감면해주고 공동사업을 진행할 수 있도록 금전적인 지원을 하는 법률입니다. 당시 송주법이 시행되는 초기 단계였기 때문에 본사에서 내려온 지침은 없었고, 하루빨리 송주법을 시행하려는 회사와 주민들의 갈등은 나날이 커졌습니다. 이러한 가운데 저는 갈등을 해결하고자 원인분석을 했고, 협약을 진행하는 데 있어 가장 큰 걸림돌은 주민들의 인식 부족이라는 결론을 내렸습니다. 그 이유는 송주법이 주민들에게 큰 혜택을 주는 법률임에도 불구하고 이 사실을 모르는 주민들이 대다수였기 때문입니다. 따라서 주민들의 인식을 개선하기 위해 적극적으로 뛰어다녔습니다.\\n\\n먼저 사람들에게 송주법을 알리기 위하여 우편물로 홍보하고, 각 지역 주민센터를 대관하여 설명회도 개최했습니다. 홍보 초기에는 사람들의 관심을 얻지 못해 좌절했지만, 여러 번 주민들을 찾아 나서는 노력으로 주민들의 인식을 개선해 나갔습니다. 주민대표 한 사람 한 사람을 직접 찾아 송주법에 대해 설명하며 주민들의 의견을 수렴하고 설득하기 시작했습니다. 또한, 협약을 맺을 때까지 도장과 협약서를 직접 들고 나섰습니다. 이러한 노력 덕분에 송주법 시행 이래 ‘최초 공동지원사업 진행’이라는 성과를 얻게 되었습니다.\\n\\n저는 도전과 피드백을 반복하다 보면 목표를 이룰 수 있다는 확신이 있습니다. 이러한 확신이 있기 때문에 양산기술 직무에서 직면하게 될 수많은 문제들을 해결해낼 자신이 있습니다. 최고의 성능을 가지면서도 공정, 설계 과정에서도 높은 효율을 가질 수 있는 소자를 만들어내겠습니다.\\n']"
            ]
          },
          "metadata": {
            "tags": []
          },
          "execution_count": 14
        }
      ]
    },
    {
      "cell_type": "code",
      "metadata": {
        "id": "YSjvzuWKHV_t",
        "colab_type": "code",
        "colab": {}
      },
      "source": [
        "kk_k=[]\n",
        "word_text=[]\n",
        "for j in range(len(data_list)):\n",
        "  kk=data_list[j].split('\\n')\n",
        "  kk=kk[1:]\n",
        "  for i in range(len(kk)):\n",
        "    word_text=kk[i].split('.')\n",
        "    kk_k.append([[i] for i in word_text if len(i) >= 1])"
      ],
      "execution_count": 0,
      "outputs": []
    },
    {
      "cell_type": "code",
      "metadata": {
        "id": "i6V2QSWdj49r",
        "colab_type": "code",
        "outputId": "2ecbfd77-794e-43cb-d3dd-1ce7773fd3dd",
        "colab": {
          "base_uri": "https://localhost:8080/",
          "height": 34
        }
      },
      "source": [
        "from itertools import chain\n",
        "text_corpus=[[i] for i in list(chain(*list((chain(*kk_k)))))]\n",
        "text_corpus[1] #한문장 단위로 리스트가 완성된 것을 확인할 수 있습니다"
      ],
      "execution_count": 0,
      "outputs": [
        {
          "output_type": "execute_result",
          "data": {
            "text/plain": [
              "['2016년도 학생회장을 하며 외친 구호는 ‘어깨동무’였습니다']"
            ]
          },
          "metadata": {
            "tags": []
          },
          "execution_count": 16
        }
      ]
    },
    {
      "cell_type": "markdown",
      "metadata": {
        "id": "TB30CG47_aQV",
        "colab_type": "text"
      },
      "source": [
        "# 2. Tokenizing\n",
        "\n",
        "## 2.2 Khaiii \n",
        "\n",
        "- Khaiii는 \"Kakao Hangul Analyzer III\"의 첫 글자들만 모아 만든 이름으로 카카오에서 개발한 세 번째 형태소분석기입니다. 두 번째 버전의 형태소분석기 이름인 dha2 (Daumkakao Hangul Analyzer 2)를 계승한 이름이기도 합니다.\n",
        "\n",
        "- 이를 활용하여 형태소를 기준으로 나누어 보도록 하겠습니다. \n",
        "\n",
        "- 형태소는 언어학에서 일정한 의미가 있는 가장 작은 말의 단위로 발화체 내에서 따로 떼어낼 수 있는 것을 말합니다. 즉, 더 분석하면 뜻이 없어지는 말의 단위입니다. \n",
        "\n",
        "- 형태소분석기는 단어를 보고 형태소 단위로 분리해내는 소프트웨어를 말합니다. 이러한 형태소분석은 자연어 처리의 가장 기초적인 절차로 이후 구문 분석이나 의미 분석으로 나아가기 위해 가장 먼저 이루어져야 하는 과정으로 볼 수 있습니다. (한국어 위키피디아에서 인용)"
      ]
    },
    {
      "cell_type": "code",
      "metadata": {
        "id": "MpZFBus7HGWD",
        "colab_type": "code",
        "outputId": "78bb3d8b-844f-4d72-f888-f7b7498b47cd",
        "colab": {
          "base_uri": "https://localhost:8080/",
          "height": 34
        }
      },
      "source": [
        "cd /content"
      ],
      "execution_count": 0,
      "outputs": [
        {
          "output_type": "stream",
          "text": [
            "/content\n"
          ],
          "name": "stdout"
        }
      ]
    },
    {
      "cell_type": "code",
      "metadata": {
        "id": "VwEe2aoDtCVJ",
        "colab_type": "code",
        "outputId": "bad5890f-cb2a-4949-b272-096f7bb07ed0",
        "colab": {
          "base_uri": "https://localhost:8080/",
          "height": 34
        }
      },
      "source": [
        "!git clone https://github.com/kakao/khaiii.git #여기서부터는 Khaiii 설치 과정입니다. "
      ],
      "execution_count": 0,
      "outputs": [
        {
          "output_type": "stream",
          "text": [
            "fatal: could not create work tree dir 'khaiii': Operation not supported\n"
          ],
          "name": "stdout"
        }
      ]
    },
    {
      "cell_type": "code",
      "metadata": {
        "id": "fuJU3203tRqc",
        "colab_type": "code",
        "outputId": "04938461-4d95-4531-c022-57efed386b1e",
        "colab": {
          "base_uri": "https://localhost:8080/",
          "height": 34
        }
      },
      "source": [
        "!pip install cmake"
      ],
      "execution_count": 0,
      "outputs": [
        {
          "output_type": "stream",
          "text": [
            "Requirement already satisfied: cmake in /usr/local/lib/python3.6/dist-packages (3.12.0)\n"
          ],
          "name": "stdout"
        }
      ]
    },
    {
      "cell_type": "code",
      "metadata": {
        "id": "VIKoAiZOtmMm",
        "colab_type": "code",
        "colab": {}
      },
      "source": [
        "!mkdir build"
      ],
      "execution_count": 0,
      "outputs": []
    },
    {
      "cell_type": "code",
      "metadata": {
        "id": "Rn4DyQ-Mt9l_",
        "colab_type": "code",
        "outputId": "b08d4dd9-6121-481f-aef7-7952cde2e417",
        "colab": {
          "base_uri": "https://localhost:8080/",
          "height": 792
        }
      },
      "source": [
        "!cd build && cmake /content/khaiii #이부분에서 굉~~~장히 오래걸리는 것을 알 수 있습니다. "
      ],
      "execution_count": 0,
      "outputs": [
        {
          "output_type": "stream",
          "text": [
            "-- The C compiler identification is GNU 7.5.0\n",
            "-- The CXX compiler identification is GNU 7.5.0\n",
            "-- Check for working C compiler: /usr/bin/cc\n",
            "-- Check for working C compiler: /usr/bin/cc -- works\n",
            "-- Detecting C compiler ABI info\n",
            "-- Detecting C compiler ABI info - done\n",
            "-- Detecting C compile features\n",
            "-- Detecting C compile features - done\n",
            "-- Check for working CXX compiler: /usr/bin/c++\n",
            "-- Check for working CXX compiler: /usr/bin/c++ -- works\n",
            "-- Detecting CXX compiler ABI info\n",
            "-- Detecting CXX compiler ABI info - done\n",
            "-- Detecting CXX compile features\n",
            "-- Detecting CXX compile features - done\n",
            "-- Performing Test fma_compiles\n",
            "-- Performing Test fma_compiles - Success\n",
            "-- Performing Test fma_runs\n",
            "-- Performing Test fma_runs - Success\n",
            "-- [khaiii] fused multiply add option enabled\n",
            "-- [hunter] Calculating Toolchain-SHA1\n",
            "-- [hunter] Calculating Config-SHA1\n",
            "-- [hunter] HUNTER_ROOT: /root/.hunter\n",
            "-- [hunter] [ Hunter-ID: 70287b1 | Toolchain-ID: 02ccb06 | Config-ID: dffbc08 ]\n",
            "-- [hunter] BOOST_ROOT: /root/.hunter/_Base/70287b1/02ccb06/dffbc08/Install (ver.: 1.68.0-p1)\n",
            "-- Boost version: 1.68.0\n",
            "-- [hunter] CXXOPTS_ROOT: /root/.hunter/_Base/70287b1/02ccb06/dffbc08/Install (ver.: 2.1.1-pre)\n",
            "-- [hunter] EIGEN_ROOT: /root/.hunter/_Base/70287b1/02ccb06/dffbc08/Install (ver.: 3.3.5)\n",
            "-- [hunter] FMT_ROOT: /root/.hunter/_Base/70287b1/02ccb06/dffbc08/Install (ver.: 4.1.0)\n",
            "-- [hunter] GTEST_ROOT: /root/.hunter/_Base/70287b1/02ccb06/dffbc08/Install (ver.: 1.8.0-hunter-p11)\n",
            "-- [hunter] NLOHMANN_JSON_ROOT: /root/.hunter/_Base/70287b1/02ccb06/dffbc08/Install (ver.: 3.3.0)\n",
            "-- Found nlohmann_json: /root/.hunter/_Base/70287b1/02ccb06/dffbc08/Install/lib/cmake/nlohmann_json/nlohmann_jsonConfig.cmake (found version \"3.3.0\") \n",
            "-- [hunter] SPDLOG_ROOT: /root/.hunter/_Base/70287b1/02ccb06/dffbc08/Install (ver.: 0.16.3-p1)\n",
            "-- Looking for pthread.h\n",
            "-- Looking for pthread.h - found\n",
            "-- Looking for pthread_create\n",
            "-- Looking for pthread_create - not found\n",
            "-- Looking for pthread_create in pthreads\n",
            "-- Looking for pthread_create in pthreads - not found\n",
            "-- Looking for pthread_create in pthread\n",
            "-- Looking for pthread_create in pthread - found\n",
            "-- Found Threads: TRUE  \n",
            "-- Configuring done\n",
            "-- Generating done\n",
            "-- Build files have been written to: /content/build\n"
          ],
          "name": "stdout"
        }
      ]
    },
    {
      "cell_type": "code",
      "metadata": {
        "id": "aw2wcGmiuBbb",
        "colab_type": "code",
        "outputId": "4074fb90-506d-444e-8fa5-c708e2248201",
        "colab": {
          "base_uri": "https://localhost:8080/",
          "height": 616
        }
      },
      "source": [
        "!cd /content/build/ && make all #이부분도...."
      ],
      "execution_count": 0,
      "outputs": [
        {
          "output_type": "stream",
          "text": [
            "\u001b[35m\u001b[1mScanning dependencies of target obj_khaiii\u001b[0m\n",
            "[  3%] \u001b[32mBuilding CXX object CMakeFiles/obj_khaiii.dir/src/main/cpp/khaiii/Config.cpp.o\u001b[0m\n",
            "[  7%] \u001b[32mBuilding CXX object CMakeFiles/obj_khaiii.dir/src/main/cpp/khaiii/Embed.cpp.o\u001b[0m\n",
            "[ 11%] \u001b[32mBuilding CXX object CMakeFiles/obj_khaiii.dir/src/main/cpp/khaiii/ErrPatch.cpp.o\u001b[0m\n",
            "[ 15%] \u001b[32mBuilding CXX object CMakeFiles/obj_khaiii.dir/src/main/cpp/khaiii/KhaiiiImpl.cpp.o\u001b[0m\n",
            "[ 19%] \u001b[32mBuilding CXX object CMakeFiles/obj_khaiii.dir/src/main/cpp/khaiii/Morph.cpp.o\u001b[0m\n",
            "[ 23%] \u001b[32mBuilding CXX object CMakeFiles/obj_khaiii.dir/src/main/cpp/khaiii/Preanal.cpp.o\u001b[0m\n",
            "[ 26%] \u001b[32mBuilding CXX object CMakeFiles/obj_khaiii.dir/src/main/cpp/khaiii/Resource.cpp.o\u001b[0m\n",
            "[ 30%] \u001b[32mBuilding CXX object CMakeFiles/obj_khaiii.dir/src/main/cpp/khaiii/Restore.cpp.o\u001b[0m\n",
            "[ 34%] \u001b[32mBuilding CXX object CMakeFiles/obj_khaiii.dir/src/main/cpp/khaiii/Sentence.cpp.o\u001b[0m\n",
            "[ 38%] \u001b[32mBuilding CXX object CMakeFiles/obj_khaiii.dir/src/main/cpp/khaiii/Tagger.cpp.o\u001b[0m\n",
            "[ 42%] \u001b[32mBuilding CXX object CMakeFiles/obj_khaiii.dir/src/main/cpp/khaiii/Trie.cpp.o\u001b[0m\n",
            "[ 46%] \u001b[32mBuilding CXX object CMakeFiles/obj_khaiii.dir/src/main/cpp/khaiii/Word.cpp.o\u001b[0m\n",
            "[ 50%] \u001b[32mBuilding CXX object CMakeFiles/obj_khaiii.dir/src/main/cpp/khaiii/khaiii_api.cpp.o\u001b[0m\n",
            "[ 53%] \u001b[32mBuilding CXX object CMakeFiles/obj_khaiii.dir/src/main/cpp/khaiii/khaiii_dev.cpp.o\u001b[0m\n",
            "[ 57%] \u001b[32mBuilding CXX object CMakeFiles/obj_khaiii.dir/src/main/cpp/khaiii/nn/Conv1d.cpp.o\u001b[0m\n",
            "[ 61%] \u001b[32mBuilding CXX object CMakeFiles/obj_khaiii.dir/src/main/cpp/khaiii/nn/Linear.cpp.o\u001b[0m\n",
            "[ 65%] \u001b[32mBuilding CXX object CMakeFiles/obj_khaiii.dir/src/main/cpp/khaiii/nn/tensor.cpp.o\u001b[0m\n",
            "[ 65%] Built target obj_khaiii\n",
            "\u001b[35m\u001b[1mScanning dependencies of target khaiii\u001b[0m\n",
            "[ 69%] \u001b[32m\u001b[1mLinking CXX shared library lib/libkhaiii.so\u001b[0m\n",
            "[ 69%] Built target khaiii\n",
            "\u001b[35m\u001b[1mScanning dependencies of target bin_khaiii\u001b[0m\n",
            "[ 73%] \u001b[32mBuilding CXX object CMakeFiles/bin_khaiii.dir/src/main/cpp/main.cpp.o\u001b[0m\n",
            "[ 76%] \u001b[32m\u001b[1mLinking CXX executable bin/khaiii\u001b[0m\n",
            "[ 76%] Built target bin_khaiii\n",
            "\u001b[35m\u001b[1mScanning dependencies of target test_khaiii\u001b[0m\n",
            "[ 80%] \u001b[32mBuilding CXX object CMakeFiles/test_khaiii.dir/src/test/cpp/test_main.cpp.o\u001b[0m\n",
            "[ 84%] \u001b[32mBuilding CXX object CMakeFiles/test_khaiii.dir/src/test/cpp/khaiii/ErrPatchTest.cpp.o\u001b[0m\n",
            "[ 88%] \u001b[32mBuilding CXX object CMakeFiles/test_khaiii.dir/src/test/cpp/khaiii/KhaiiiApiTest.cpp.o\u001b[0m\n",
            "[ 92%] \u001b[32mBuilding CXX object CMakeFiles/test_khaiii.dir/src/test/cpp/khaiii/KhaiiiDevTest.cpp.o\u001b[0m\n",
            "[ 96%] \u001b[32mBuilding CXX object CMakeFiles/test_khaiii.dir/src/test/cpp/khaiii/PreanalTest.cpp.o\u001b[0m\n",
            "[100%] \u001b[32m\u001b[1mLinking CXX executable test/khaiii\u001b[0m\n",
            "[100%] Built target test_khaiii\n"
          ],
          "name": "stdout"
        }
      ]
    },
    {
      "cell_type": "code",
      "metadata": {
        "id": "8o2bXlAywUeS",
        "colab_type": "code",
        "outputId": "6f302600-1f18-46d3-bdac-d2042bcb6988",
        "colab": {
          "base_uri": "https://localhost:8080/",
          "height": 616
        }
      },
      "source": [
        "!cd /content/build/ && make resource"
      ],
      "execution_count": 0,
      "outputs": [
        {
          "output_type": "stream",
          "text": [
            "\u001b[35m\u001b[1mScanning dependencies of target resource\u001b[0m\n",
            "INFO:root:config: {\n",
            "    \"cutoff\": 1,\n",
            "    \"embed_dim\": 35,\n",
            "    \"hidden_dim\": 320,\n",
            "    \"model_id\": \"munjong.cut1.win4.sdo0.1.emb35.lr0.001.lrd0.9.bs500\",\n",
            "    \"rsc_src\": \"../rsc/src\",\n",
            "    \"window\": 4\n",
            "}\n",
            "INFO:root:vocab.in: 5621 entries, 0 cutoff\n",
            "INFO:root:vocab.out: 500 entries, 0 cutoff\n",
            "INFO:root:restore.dic: 4303 entries\n",
            "INFO:root:preanal.auto\n",
            "INFO:root:preanal.manual\n",
            "INFO:root:trie saved: /content/build/share/khaiii/preanal.tri\n",
            "INFO:root:total nodes: 120812\n",
            "INFO:root:expected size: 1932992\n",
            "INFO:root:value saved: /content/build/share/khaiii/preanal.val\n",
            "INFO:root:total entries: 83373\n",
            "INFO:root:expected size: 593730\n",
            "INFO:root:restore.key: 17212\n",
            "INFO:root:restore.val: 68848\n",
            "INFO:root:restore.one: 503\n",
            "INFO:root:base.errpatch.manual\n",
            "INFO:root:base.errpatch.auto\n",
            "INFO:root:trie saved: /content/build/share/khaiii/errpatch.tri\n",
            "INFO:root:total nodes: 2067\n",
            "INFO:root:expected size: 33072\n",
            "INFO:root:length saved: /content/build/share/khaiii/errpatch.len\n",
            "INFO:root:expected size: 551\n",
            "INFO:root:value saved: /content/build/share/khaiii/errpatch.val\n",
            "INFO:root:total entries: 550\n",
            "INFO:root:expected size: 7632\n",
            "Built target resource\n"
          ],
          "name": "stdout"
        }
      ]
    },
    {
      "cell_type": "code",
      "metadata": {
        "id": "YCNnf9JwyQCj",
        "colab_type": "code",
        "outputId": "41996359-6e76-4f61-c2d3-fb89527afaa9",
        "colab": {
          "base_uri": "https://localhost:8080/",
          "height": 563
        }
      },
      "source": [
        "!cd /content/build && make install"
      ],
      "execution_count": 0,
      "outputs": [
        {
          "output_type": "stream",
          "text": [
            "[ 65%] Built target obj_khaiii\n",
            "[ 69%] Built target khaiii\n",
            "[ 76%] Built target bin_khaiii\n",
            "[100%] Built target test_khaiii\n",
            "\u001b[36mInstall the project...\u001b[0m\n",
            "-- Install configuration: \"\"\n",
            "-- Installing: /usr/local/include/khaiii\n",
            "-- Installing: /usr/local/include/khaiii/khaiii_api.h\n",
            "-- Installing: /usr/local/include/khaiii/khaiii_dev.h\n",
            "-- Installing: /usr/local/include/khaiii/KhaiiiApi.hpp\n",
            "-- Installing: /usr/local/share/khaiii\n",
            "-- Installing: /usr/local/share/khaiii/restore.val\n",
            "-- Installing: /usr/local/share/khaiii/conv.5.fil\n",
            "-- Installing: /usr/local/share/khaiii/conv.3.fil\n",
            "-- Installing: /usr/local/share/khaiii/restore.key\n",
            "-- Installing: /usr/local/share/khaiii/preanal.tri\n",
            "-- Installing: /usr/local/share/khaiii/conv.4.fil\n",
            "-- Installing: /usr/local/share/khaiii/restore.one\n",
            "-- Installing: /usr/local/share/khaiii/errpatch.tri\n",
            "-- Installing: /usr/local/share/khaiii/errpatch.val\n",
            "-- Installing: /usr/local/share/khaiii/cnv2hdn.lin\n",
            "-- Installing: /usr/local/share/khaiii/hdn2tag.lin\n",
            "-- Installing: /usr/local/share/khaiii/config.json\n",
            "-- Installing: /usr/local/share/khaiii/preanal.val\n",
            "-- Installing: /usr/local/share/khaiii/embed.bin\n",
            "-- Installing: /usr/local/share/khaiii/conv.2.fil\n",
            "-- Installing: /usr/local/share/khaiii/errpatch.len\n",
            "-- Installing: /usr/local/lib/libkhaiii.so.0.4\n",
            "-- Installing: /usr/local/lib/libkhaiii.so.0\n",
            "-- Installing: /usr/local/lib/libkhaiii.so\n",
            "-- Installing: /usr/local/bin/khaiii\n"
          ],
          "name": "stdout"
        }
      ]
    },
    {
      "cell_type": "code",
      "metadata": {
        "id": "2H7sjEV1yZiS",
        "colab_type": "code",
        "outputId": "91ceba04-abc8-4bc7-8ce3-fed69c5feb22",
        "colab": {
          "base_uri": "https://localhost:8080/",
          "height": 157
        }
      },
      "source": [
        "!cd /content/build && make package_python"
      ],
      "execution_count": 0,
      "outputs": [
        {
          "output_type": "stream",
          "text": [
            "\u001b[35m\u001b[1mScanning dependencies of target package_python\u001b[0m\n",
            "\u001b[36mRun CPack packaging tool for source...\u001b[0m\n",
            "CPack: Create package using ZIP\n",
            "CPack: Install projects\n",
            "CPack: - Install directory: /content/khaiii\n",
            "CPack: Create package\n",
            "CPack: - package: /content/build/khaiii-0.4.zip generated.\n",
            "Built target package_python\n"
          ],
          "name": "stdout"
        }
      ]
    },
    {
      "cell_type": "code",
      "metadata": {
        "id": "k0mV-MNTypHU",
        "colab_type": "code",
        "outputId": "04c3876d-be13-4f61-9dcb-c45eeff9b34a",
        "colab": {
          "base_uri": "https://localhost:8080/",
          "height": 301
        }
      },
      "source": [
        "!pip install /content/build/package_python"
      ],
      "execution_count": 0,
      "outputs": [
        {
          "output_type": "stream",
          "text": [
            "Processing ./build/package_python\n",
            "Building wheels for collected packages: khaiii\n",
            "  Building wheel for khaiii (setup.py) ... \u001b[?25l\u001b[?25hdone\n",
            "  Created wheel for khaiii: filename=khaiii-0.4-cp36-none-any.whl size=22882693 sha256=12feeb5b2ff88233089e712922348710cd66a843b1f39bed00847b81e54eb3e0\n",
            "  Stored in directory: /tmp/pip-ephem-wheel-cache-40_4_5sn/wheels/6b/4d/23/84c4acc3ef5226ca75c4e3ad84c39a0654d11c3a9c1941193f\n",
            "Successfully built khaiii\n",
            "Installing collected packages: khaiii\n",
            "  Found existing installation: khaiii 0.4\n",
            "    Uninstalling khaiii-0.4:\n",
            "      Successfully uninstalled khaiii-0.4\n",
            "Successfully installed khaiii-0.4\n"
          ],
          "name": "stdout"
        },
        {
          "output_type": "display_data",
          "data": {
            "application/vnd.colab-display-data+json": {
              "pip_warning": {
                "packages": [
                  "khaiii"
                ]
              }
            }
          },
          "metadata": {
            "tags": []
          }
        }
      ]
    },
    {
      "cell_type": "code",
      "metadata": {
        "id": "AsFeTiD0yxSE",
        "colab_type": "code",
        "outputId": "83f821a9-5a8f-48af-b1f9-46a993a59e49",
        "colab": {
          "base_uri": "https://localhost:8080/",
          "height": 51
        }
      },
      "source": [
        "from khaiii import KhaiiiApi\n",
        "api = KhaiiiApi()\n",
        "for word in api.analyze(\"안녕, 세상.\"):\n",
        "    print(word)\n",
        "#test 결과 잘 작동하는 것을 알 수 있습니다. "
      ],
      "execution_count": 0,
      "outputs": [
        {
          "output_type": "stream",
          "text": [
            "안녕,\t안녕/IC + ,/SP\n",
            "세상.\t세상/NNG + ./SF\n"
          ],
          "name": "stdout"
        }
      ]
    },
    {
      "cell_type": "markdown",
      "metadata": {
        "id": "jMzKDjL3VMk3",
        "colab_type": "text"
      },
      "source": [
        "- Khaiii를 활용하여 제가 가지고 있는 문장 데이터를 토큰화하는 작업을 진행하였습니다. \n",
        "- 반복문을 통하여 이중 리스트에서 리스트 한개씩 꺼내서 작업을 진행하였습니다. 결과적으로 토큰화된 한문장으로 변환할 수 있었습니다.  "
      ]
    },
    {
      "cell_type": "code",
      "metadata": {
        "id": "v6TSYKetwH1W",
        "colab_type": "code",
        "colab": {}
      },
      "source": [
        "text_sentence=[]\n",
        "\n",
        "for i in range(len(text_corpus)):\n",
        "  morphs = []\n",
        "  for word in api.analyze(text_corpus[i][0]):\n",
        "    for morph in word.morphs:\n",
        "      morphs.append((morph.lex,morph.tag))\n",
        "  text_sentence.append(morphs)"
      ],
      "execution_count": 0,
      "outputs": []
    },
    {
      "cell_type": "code",
      "metadata": {
        "id": "nLpnIlBRwH8_",
        "colab_type": "code",
        "outputId": "38eee161-1dba-4a2c-b9eb-104b5629b3d0",
        "colab": {
          "base_uri": "https://localhost:8080/",
          "height": 987
        }
      },
      "source": [
        "text_sentence[3] #문장단위로 잘 분류하는 것을 알수 있습니다. "
      ],
      "execution_count": 0,
      "outputs": [
        {
          "output_type": "execute_result",
          "data": {
            "text/plain": [
              "[('높', 'VA'),\n",
              " ('은', 'ETM'),\n",
              " ('남학', 'NNG'),\n",
              " ('우', 'NNP'),\n",
              " ('의', 'JKG'),\n",
              " ('비율', 'NNG'),\n",
              " (',', 'SP'),\n",
              " ('1000', 'SN'),\n",
              " ('명', 'NNB'),\n",
              " ('이', 'JKS'),\n",
              " ('넘', 'VV'),\n",
              " ('는', 'ETM'),\n",
              " ('인원', 'NNG'),\n",
              " ('으로', 'JKB'),\n",
              " ('인하', 'VV'),\n",
              " ('ㄴ', 'ETM'),\n",
              " ('저조', 'NNG'),\n",
              " ('하', 'XSA'),\n",
              " ('ㄴ', 'ETM'),\n",
              " ('참석', 'NNG'),\n",
              " ('률', 'XSN'),\n",
              " ('을', 'JKO'),\n",
              " ('획기적', 'NNG'),\n",
              " ('으로', 'JKB'),\n",
              " ('높이', 'VV'),\n",
              " ('기', 'ETN'),\n",
              " ('ㄴ', 'JX'),\n",
              " ('어렵', 'VA'),\n",
              " ('다고', 'EC'),\n",
              " ('생각', 'NNG'),\n",
              " ('하', 'XSV'),\n",
              " ('였', 'EP'),\n",
              " ('지만', 'EC'),\n",
              " (',', 'SP'),\n",
              " ('과', 'NNG'),\n",
              " ('의', 'JKG'),\n",
              " ('발전', 'NNG'),\n",
              " ('을', 'JKO'),\n",
              " ('위하', 'VV'),\n",
              " ('여', 'EC'),\n",
              " ('학생회', 'NNG'),\n",
              " ('구성원', 'NNG'),\n",
              " ('들', 'XSN'),\n",
              " ('과', 'JKB'),\n",
              " ('함께', 'MAG'),\n",
              " ('목표', 'NNG'),\n",
              " ('를', 'JKO'),\n",
              " ('이루', 'VV'),\n",
              " ('기', 'ETN'),\n",
              " ('위하', 'VV'),\n",
              " ('여', 'EC'),\n",
              " ('노력', 'NNG'),\n",
              " ('하', 'XSV'),\n",
              " ('였', 'EP'),\n",
              " ('습니다', 'EC')]"
            ]
          },
          "metadata": {
            "tags": []
          },
          "execution_count": 18
        }
      ]
    },
    {
      "cell_type": "markdown",
      "metadata": {
        "id": "vxsxZYHS7JGD",
        "colab_type": "text"
      },
      "source": [
        "위에서 언급한 것 처럼 합격 자소서의 키워드를 추출하는 것이기 때문에 명사 품사만 따로 추출하여 진행해보도록하겠습니다. "
      ]
    },
    {
      "cell_type": "code",
      "metadata": {
        "id": "VtqKz-V-jC45",
        "colab_type": "code",
        "colab": {}
      },
      "source": [
        "text_sentence=[]\n",
        "\n",
        "for i in range(len(text_corpus)):\n",
        "  morphs = []\n",
        "  for word in api.analyze(text_corpus[i][0]):\n",
        "    for morph in word.morphs:\n",
        "      #체언\tNNG\t일반 명사\t의존 형태\tEP\t선어말 어미\n",
        "      #체언\tNNP\t고유 명사\t의존 형태\tEF\t종결 어미\n",
        "      #체언\tNNB\t의존 명사\t의존 형태\tEC\t연결 어미\n",
        "      if morph.tag==\"NNG\" or morph.tag==\"NNP\" or morph.tag==\"NNB\":\n",
        "        morphs.append((morph.lex)) #morph.tag\n",
        "  text_sentence.append(morphs)"
      ],
      "execution_count": 0,
      "outputs": []
    },
    {
      "cell_type": "code",
      "metadata": {
        "id": "rIKbRFePeZGE",
        "colab_type": "code",
        "outputId": "2a9d895d-17ed-4ef2-e42c-eaafc6783bf3",
        "colab": {
          "base_uri": "https://localhost:8080/",
          "height": 281
        }
      },
      "source": [
        "text_sentence[3] #명사에 대해서만 잘 처리되는 것을 확인할 수 있었습니다. "
      ],
      "execution_count": 0,
      "outputs": [
        {
          "output_type": "execute_result",
          "data": {
            "text/plain": [
              "['남학',\n",
              " '우',\n",
              " '비율',\n",
              " '명',\n",
              " '인원',\n",
              " '저조',\n",
              " '참석',\n",
              " '획기적',\n",
              " '생각',\n",
              " '과',\n",
              " '발전',\n",
              " '학생회',\n",
              " '구성원',\n",
              " '목표',\n",
              " '노력']"
            ]
          },
          "metadata": {
            "tags": []
          },
          "execution_count": 20
        }
      ]
    },
    {
      "cell_type": "code",
      "metadata": {
        "id": "8sKJvbKxsXvr",
        "colab_type": "code",
        "colab": {}
      },
      "source": [
        "text_sentence_df = pd.DataFrame(text_sentence)\n",
        "text_sentence_df.to_csv(\"text_sentence.csv\", index=False, encoding=\"utf-8-sig\") #혹시모르니깐 저장...\n",
        "text_sentence_df = pd.read_csv('text_sentence.csv')"
      ],
      "execution_count": 0,
      "outputs": []
    },
    {
      "cell_type": "markdown",
      "metadata": {
        "id": "3BSfoTdFiTr4",
        "colab_type": "text"
      },
      "source": [
        "#3. Embedding\n",
        "## 3.1 word2vec\n",
        "\n",
        "이제 word2vec을 진행해보도록 하겠습니다. \n",
        "적용시킬 모델 코드 의미는 다음과 같습니다. \n",
        "- 포스태깅된 컨텐츠를 100차원의 벡터로 바꾼다.\n",
        "- 주변 단어(window)는 앞뒤로 세개까지 보되, 코퍼스 내 출현 빈도가 3번 미만인 단어는 분석에서 제외. \n",
        "- CPU는 쿼드코어를 쓰고 100번 반복 학습.\n",
        "- 분석방법론은 CBOW와 Skip-Gram 선택.\n",
        "(sg ->0 이면 CBOW, 1이면 skip-gram)\n",
        "\n",
        "## 3.1.1 Skip Gram Model"
      ]
    },
    {
      "cell_type": "code",
      "metadata": {
        "id": "Sz2bY1rviU-g",
        "colab_type": "code",
        "colab": {}
      },
      "source": [
        "# Word2Vec embedding_skipgram_model\n",
        "from gensim.models import Word2Vec\n",
        "embedding_skipgram_model = Word2Vec(text_sentence, size=100, window = 3, min_count=3, workers=4, iter=100, sg=1)"
      ],
      "execution_count": 0,
      "outputs": []
    },
    {
      "cell_type": "markdown",
      "metadata": {
        "id": "tPNlUb5CFfnj",
        "colab_type": "text"
      },
      "source": [
        "## 3.1.2 CBOW Model"
      ]
    },
    {
      "cell_type": "code",
      "metadata": {
        "id": "olRrQSKu8zTi",
        "colab_type": "code",
        "colab": {}
      },
      "source": [
        "# Word2Vec embedding\n",
        "embedding_cbow_model = Word2Vec(text_sentence, size=100, window = 3, min_count=3, workers=4, iter=100, sg=0)"
      ],
      "execution_count": 0,
      "outputs": []
    },
    {
      "cell_type": "markdown",
      "metadata": {
        "id": "aPvV2tXS51b0",
        "colab_type": "text"
      },
      "source": [
        "#4. Insight 도출\n",
        "## 4.1 Similarity\n"
      ]
    },
    {
      "cell_type": "markdown",
      "metadata": {
        "id": "bpGyJf0kJ8bQ",
        "colab_type": "text"
      },
      "source": [
        "## CBOW"
      ]
    },
    {
      "cell_type": "code",
      "metadata": {
        "id": "rJ1r43IE7qe6",
        "colab_type": "code",
        "colab": {}
      },
      "source": [
        "print(embedding_cbow_model.most_similar(positive=[\"분석\"], topn=5))"
      ],
      "execution_count": 0,
      "outputs": []
    },
    {
      "cell_type": "markdown",
      "metadata": {
        "id": "79XUvUblE6YK",
        "colab_type": "text"
      },
      "source": [
        "- 먼저 CBOW 모델에 대하여 코사인 유사도를 확인했을때는 위와 같은 단어들이 도출되었습니다.\n",
        "- Skip Gram 과 다르게 '보완','최적화','원인','주행' 등의 결과가 도출되는 것을 확인할 수 있었습니다. "
      ]
    },
    {
      "cell_type": "markdown",
      "metadata": {
        "id": "X7eGiLJs8ba6",
        "colab_type": "text"
      },
      "source": [
        "## Skip Gram\n",
        "- 이번에는 Skip-Gram 모델에 대해서 코사인 유사도를 확인했을때 위와 같은 결과가 출력되었습니다. \n",
        "- 개인적으로 '원인', '한계점', '노이즈', '샘플'과 같이 분석과 관련있는 단어들이 잘 추출된 것 같습니다."
      ]
    },
    {
      "cell_type": "code",
      "metadata": {
        "id": "X6zCcUbviVxE",
        "colab_type": "code",
        "outputId": "10bdb8e7-b16b-433d-fb88-1c3b40069c41",
        "colab": {
          "base_uri": "https://localhost:8080/",
          "height": 104
        }
      },
      "source": [
        "print(embedding_skipgram_model.most_similar(positive=[\"분석\"], topn=5))"
      ],
      "execution_count": 0,
      "outputs": [
        {
          "output_type": "stream",
          "text": [
            "[('원인', 0.5581157207489014), ('노이즈', 0.49877238273620605), ('샘플', 0.4963524341583252), ('근본', 0.48160848021507263), ('신호', 0.4694744944572449)]\n"
          ],
          "name": "stdout"
        },
        {
          "output_type": "stream",
          "text": [
            "/usr/local/lib/python3.6/dist-packages/ipykernel_launcher.py:1: DeprecationWarning: Call to deprecated `most_similar` (Method will be removed in 4.0.0, use self.wv.most_similar() instead).\n",
            "  \"\"\"Entry point for launching an IPython kernel.\n",
            "/usr/local/lib/python3.6/dist-packages/gensim/matutils.py:737: FutureWarning: Conversion of the second argument of issubdtype from `int` to `np.signedinteger` is deprecated. In future, it will be treated as `np.int64 == np.dtype(int).type`.\n",
            "  if np.issubdtype(vec.dtype, np.int):\n"
          ],
          "name": "stderr"
        }
      ]
    },
    {
      "cell_type": "code",
      "metadata": {
        "id": "EmfIjKl_FnVg",
        "colab_type": "code",
        "outputId": "64fb4b40-7243-4442-9d4f-1b02cd018a56",
        "colab": {
          "base_uri": "https://localhost:8080/",
          "height": 104
        }
      },
      "source": [
        "print(embedding_skipgram_model.most_similar(positive=[\"원인\"], topn=5))"
      ],
      "execution_count": 0,
      "outputs": [
        {
          "output_type": "stream",
          "text": [
            "[('근본', 0.6164393424987793), ('공정상', 0.5778871774673462), ('느낌', 0.5662639141082764), ('분석', 0.5581156015396118), ('양주', 0.552888035774231)]\n"
          ],
          "name": "stdout"
        },
        {
          "output_type": "stream",
          "text": [
            "/usr/local/lib/python3.6/dist-packages/ipykernel_launcher.py:1: DeprecationWarning: Call to deprecated `most_similar` (Method will be removed in 4.0.0, use self.wv.most_similar() instead).\n",
            "  \"\"\"Entry point for launching an IPython kernel.\n",
            "/usr/local/lib/python3.6/dist-packages/gensim/matutils.py:737: FutureWarning: Conversion of the second argument of issubdtype from `int` to `np.signedinteger` is deprecated. In future, it will be treated as `np.int64 == np.dtype(int).type`.\n",
            "  if np.issubdtype(vec.dtype, np.int):\n"
          ],
          "name": "stderr"
        }
      ]
    },
    {
      "cell_type": "markdown",
      "metadata": {
        "id": "FsqMhGCOKAss",
        "colab_type": "text"
      },
      "source": [
        "- 분석에서 가장 가까운 \"원인\"이라는 단어를가지고 다시 유사도를 확인해 봤을때 근본, 공정상, 느낌 등  상태와 관련된 단어가 출력되는 것을 알 수 있었습니다. \n",
        "\n",
        "### 이를 통해 가상으로 자소서를 적고자 할때 그 방향을 요약해보면\n",
        "\n",
        " Q. 프로젝트를 성공적으로 진행한 경험을 작성해주세요\n",
        "\n",
        " A. 분석프로젝트를 진행 -> 분석자체의 과정 설명(분석 주제를 선택한 원인(이유), 샘플, 노이즈, 신호 등 분석과 관련된 설명) -> 원인과 연결시켜서 결론을 작성(근본적인 문제해결, 공정문제 해결, 어떤 느낌을 받았는지 ) 하는 방식으로 작성할 수 있을 것입니다. \n"
      ]
    },
    {
      "cell_type": "code",
      "metadata": {
        "id": "4yOx5gej58bh",
        "colab_type": "code",
        "outputId": "2cde8761-1176-4fb7-8629-e3644dbd9e91",
        "colab": {
          "base_uri": "https://localhost:8080/",
          "height": 124
        }
      },
      "source": [
        "print(embedding_skipgram_model.most_similar(positive=[\"마케팅\"], topn=20))"
      ],
      "execution_count": 0,
      "outputs": [
        {
          "output_type": "stream",
          "text": [
            "[('전략', 0.7013311386108398), ('캠페인', 0.6227498054504395), ('집중', 0.5796229839324951), ('포터즈', 0.564922034740448), ('모듈의', 0.5460696220397949), ('자발', 0.5369883179664612), ('고등학생', 0.5321604013442993), ('프레', 0.5166022777557373), ('나머지', 0.5155303478240967), ('매장', 0.5152865648269653), ('서', 0.5143176913261414), ('젠테이션', 0.5127866268157959), ('홍보', 0.5095006227493286), ('인적', 0.5050219297409058), ('문자', 0.5026392936706543), ('창업', 0.5009638071060181), ('절약', 0.49959731101989746), ('학술제', 0.4965096116065979), ('숙제', 0.4891660213470459), ('아시안', 0.4866098165512085)]\n"
          ],
          "name": "stdout"
        },
        {
          "output_type": "stream",
          "text": [
            "/usr/local/lib/python3.6/dist-packages/ipykernel_launcher.py:1: DeprecationWarning: Call to deprecated `most_similar` (Method will be removed in 4.0.0, use self.wv.most_similar() instead).\n",
            "  \"\"\"Entry point for launching an IPython kernel.\n",
            "/usr/local/lib/python3.6/dist-packages/gensim/matutils.py:737: FutureWarning: Conversion of the second argument of issubdtype from `int` to `np.signedinteger` is deprecated. In future, it will be treated as `np.int64 == np.dtype(int).type`.\n",
            "  if np.issubdtype(vec.dtype, np.int):\n"
          ],
          "name": "stderr"
        }
      ]
    },
    {
      "cell_type": "markdown",
      "metadata": {
        "id": "QahZs2EBEzh1",
        "colab_type": "text"
      },
      "source": [
        "- 직무와 관련하여 '마케팅'을 넣어봤을때 위와같은 결과가 도출되었습니다. \n",
        "\n",
        "- ('전략', 0.7013311386108398)\n",
        "- ('캠페인', 0.6227498054504395)\n",
        "- ('집중', 0.5796229839324951)\n",
        "- ('포터즈', 0.564922034740448)\n",
        "- ('모듈의', 0.5460696220397949)\n",
        "- ('자발', 0.5369883179664612)\n",
        "- ('고등학생', 0.5321604013442993)\n",
        "- ('프레', 0.5166022777557373) #아래의 젠테이션과 분리되었음\n",
        "- ('나머지', 0.5155303478240967)\n",
        "- ('매장', 0.5152865648269653)\n",
        "- ('서', 0.5143176913261414)\n",
        "- ('젠테이션', 0.5127866268157959) #위에 프레와 분리되어 출력-> 오히려 프레젠테이션이 잘뽑힌다는 것을 반증?\n",
        "- ('홍보', 0.5095006227493286)\n",
        "- ('인적', 0.5050219297409058)\n",
        "- ('문자', 0.5026392936706543)\n",
        "- ('창업', 0.5009638071060181)\n",
        "- ('절약', 0.49959731101989746)\n",
        "- ('학술제', 0.4965096116065979)\n",
        "- ('숙제', 0.4891660213470459)\n",
        "- ('아시안', 0.4866098165512085)\n",
        "\n",
        "## 4.2 WordCloud 그려보기\n",
        "- 마케팅에서 나오는 결과를 토대로 마케팅 직무와 관련된 키워드를 워드클라우드를 그려보도록 하겠습니다. "
      ]
    },
    {
      "cell_type": "code",
      "metadata": {
        "id": "-HKP3Out9A6v",
        "colab_type": "code",
        "outputId": "cecc4ee0-6bec-42d5-88ec-88f38ad2b99c",
        "colab": {
          "base_uri": "https://localhost:8080/",
          "height": 87
        }
      },
      "source": [
        "marketing =embedding_skipgram_model.most_similar(positive=[\"마케팅\"], topn=30)\n",
        "marketing_list = []\n",
        "for i in range(len(marketing)):\n",
        "  marketing_list.append(marketing[i]) #튜플을 리스트로\n",
        "marketing_dict=dict(marketing_list)"
      ],
      "execution_count": 0,
      "outputs": [
        {
          "output_type": "stream",
          "text": [
            "/usr/local/lib/python3.6/dist-packages/ipykernel_launcher.py:1: DeprecationWarning: Call to deprecated `most_similar` (Method will be removed in 4.0.0, use self.wv.most_similar() instead).\n",
            "  \"\"\"Entry point for launching an IPython kernel.\n",
            "/usr/local/lib/python3.6/dist-packages/gensim/matutils.py:737: FutureWarning: Conversion of the second argument of issubdtype from `int` to `np.signedinteger` is deprecated. In future, it will be treated as `np.int64 == np.dtype(int).type`.\n",
            "  if np.issubdtype(vec.dtype, np.int):\n"
          ],
          "name": "stderr"
        }
      ]
    },
    {
      "cell_type": "code",
      "metadata": {
        "id": "FLD0uNSHPLXe",
        "colab_type": "code",
        "colab": {}
      },
      "source": [
        "from wordcloud import WordCloud\n",
        "import matplotlib.pyplot as plt \n",
        "import nltk \n",
        "from nltk.corpus import stopwords\n",
        "\n",
        "%matplotlib inline \n",
        "import matplotlib \n",
        "from IPython.display import set_matplotlib_formats \n",
        "matplotlib.rc('font',family = 'Malgun Gothic') \n",
        "set_matplotlib_formats('retina') \n",
        "matplotlib.rc('axes',unicode_minus = False)"
      ],
      "execution_count": 0,
      "outputs": []
    },
    {
      "cell_type": "code",
      "metadata": {
        "id": "pXFDkOcXRRlZ",
        "colab_type": "code",
        "outputId": "c6f29db0-9863-4cfb-f5a5-ab9dfe047ffe",
        "colab": {
          "base_uri": "https://localhost:8080/",
          "height": 248
        }
      },
      "source": [
        "wordcloud = WordCloud(font_path = 'malgun.ttf', background_color='white',colormap = \"Accent_r\", width=1500, height=1000).generate_from_frequencies(marketing_dict)\n",
        "plt.imshow(wordcloud)\n",
        "plt.axis('off') \n",
        "plt.show()\n"
      ],
      "execution_count": 0,
      "outputs": [
        {
          "output_type": "display_data",
          "data": {
            "image/png": "[encoded data removed]",
            "text/plain": [
              "<Figure size 432x288 with 1 Axes>"
            ]
          },
          "metadata": {
            "tags": [],
            "image/png": {
              "width": 340,
              "height": 231
            }
          }
        }
      ]
    },
    {
      "cell_type": "markdown",
      "metadata": {
        "id": "5gDywa2_UQoV",
        "colab_type": "text"
      },
      "source": [
        "다음과 같이 마케팅에 대한 WordCloud를 통하여 좀 더 직관적으로 마케팅 관련 키워드를 확인할 수 있었습니다. \n",
        "\n",
        "결과적으로 서론에서 목표로 했던 마케팅 직무를 쓸때 추천하는 키워드는 집중, 전략, 캠페인, 프레젠테이션 등의 소스를 얻을 수 있었습니다. \n",
        "\n",
        "- 이러한 분석 결과는 나중에 실제로 자기소개서를 작성할 때 도움이 될 것이라고 생각합니다.\n",
        "\n",
        "- 개인적으로 추가적인 공부를 통해서 문장단위의 소스를 얻는 방법을 공부하고 싶습니다. "
      ]
    },
    {
      "cell_type": "code",
      "metadata": {
        "id": "iTP9yld2WQzJ",
        "colab_type": "code",
        "colab": {}
      },
      "source": [
        ""
      ],
      "execution_count": 0,
      "outputs": []
    }
  ]
}