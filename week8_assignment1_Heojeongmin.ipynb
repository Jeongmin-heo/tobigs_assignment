{
  "nbformat": 4,
  "nbformat_minor": 0,
  "metadata": {
    "kernelspec": {
      "display_name": "Python 3",
      "language": "python",
      "name": "python3"
    },
    "language_info": {
      "codemirror_mode": {
        "name": "ipython",
        "version": 3
      },
      "file_extension": ".py",
      "mimetype": "text/x-python",
      "name": "python",
      "nbconvert_exporter": "python",
      "pygments_lexer": "ipython3",
      "version": "3.7.4"
    },
    "colab": {
      "name": "week8_assignment1_Heojeongmin.ipynb",
      "provenance": [],
      "include_colab_link": true
    }
  },
  "cells": [
    {
      "cell_type": "markdown",
      "metadata": {
        "id": "view-in-github",
        "colab_type": "text"
      },
      "source": [
        "<a href=\"https://colab.research.google.com/github/Jeongmin-heo/tobigs_assignment/blob/master/week8_assignment1_Heojeongmin.ipynb\" target=\"_parent\"><img src=\"https://colab.research.google.com/assets/colab-badge.svg\" alt=\"Open In Colab\"/></a>"
      ]
    },
    {
      "cell_type": "markdown",
      "metadata": {
        "id": "Otz8CNdlXewg",
        "colab_type": "text"
      },
      "source": [
        "# AlexNet\n",
        "\n",
        "- [paper](http://www.cs.toronto.edu/~fritz/absps/imagenet.pdf)\n",
        "\n",
        "- [imagenet data(2012)](http://image-net.org/challenges/LSVRC/2012/index#task)\n",
        "\n",
        "- [code](https://pytorch.org/docs/0.4.0/_modules/torchvision/models/alexnet.html)\n",
        "\n",
        "- Model architecture\n",
        "![model_architecture](https://cv-tricks.com/wp-content/uploads/2017/03/xalexnet_small-1.png.pagespeed.ic.u_mv-jhXMI.webp)"
      ]
    },
    {
      "cell_type": "markdown",
      "metadata": {
        "id": "xQEJ-TLgXewk",
        "colab_type": "text"
      },
      "source": [
        "### Naive Version\n",
        "CONV_1 - POOL_1 - CONV_2 - POOL_2 - CONV_3 - CONV_4 - CONV_5 - POOL_3 - FC1 - FC2 - FC3 (->SOFTMAX)"
      ]
    },
    {
      "cell_type": "markdown",
      "metadata": {
        "id": "-2-HlDDeXewl",
        "colab_type": "text"
      },
      "source": [
        "### detailed\n",
        "CONV_1(ReLU) - POOL_1 - CONV_2(ReLU) - POOL_2 - CONV_3(ReLU) - CONV_4(ReLU) - CONV_5(ReLU) - POOL_3 -(Flatten) FC1(ReLU) - FC2(ReLU) - FC3(->SOFTMAX)"
      ]
    },
    {
      "cell_type": "markdown",
      "metadata": {
        "id": "zpuAdmIqXewn",
        "colab_type": "text"
      },
      "source": [
        "# Q.1 fill in the '????' & 'TODO'"
      ]
    },
    {
      "cell_type": "markdown",
      "metadata": {
        "id": "LmdjyRJFXewo",
        "colab_type": "text"
      },
      "source": [
        "### Layer 1 is a Convolution Layer_1\n",
        "\n",
        "- **Input Image size**     224 x 224 x 3 -> 227 x 227 x 3\n",
        "\n",
        "- **Number of filters**   96\n",
        "\n",
        "- **Filter size** 11 x 11 x 3\n",
        "\n",
        "- **Stride** 4\n",
        "\n",
        "- **Layer 1 Output**  55 x 55 x 96 (because of stride 4)\n",
        "\n",
        "\n"
      ]
    },
    {
      "cell_type": "code",
      "metadata": {
        "id": "_3GaJatCXewp",
        "colab_type": "code",
        "colab": {},
        "outputId": "b9c9f362-728e-4e74-a147-d9d45a245d33"
      },
      "source": [
        "(227-11)/4 + 1 #pooling"
      ],
      "execution_count": 0,
      "outputs": [
        {
          "output_type": "execute_result",
          "data": {
            "text/plain": [
              "55.0"
            ]
          },
          "metadata": {
            "tags": []
          },
          "execution_count": 45
        }
      ]
    },
    {
      "cell_type": "code",
      "metadata": {
        "id": "_LffcIqVXeww",
        "colab_type": "code",
        "colab": {},
        "outputId": "fc81b288-2c01-4ed3-a79e-07cca2382784"
      },
      "source": [
        "## TODO ##\n",
        "\n",
        "######################################################\n",
        "#  Calculate the number of parameters in this layer  #\n",
        "######################################################\n",
        "\n",
        "Conv_1 = (11*11*3) * 96 + 96 #parameters 계산\n",
        "Conv_1 #last 96 for Bias"
      ],
      "execution_count": 0,
      "outputs": [
        {
          "output_type": "execute_result",
          "data": {
            "text/plain": [
              "34944"
            ]
          },
          "metadata": {
            "tags": []
          },
          "execution_count": 46
        }
      ]
    },
    {
      "cell_type": "markdown",
      "metadata": {
        "id": "IqRsO6K1Xew1",
        "colab_type": "text"
      },
      "source": [
        "### Layer 2 is a Max Pooling_1 Followed by Convolution_1\n",
        "\n",
        "- **Input**  55 x 55 x 96\n",
        "\n",
        "- **Max pooling**  \n",
        "\n",
        "- **Pooling size**(overlapping) 3 x 3\n",
        "\n",
        "- **Stride** 2\n",
        "\n",
        "- **Layer 2 Output** 27 x 27 x 96\n"
      ]
    },
    {
      "cell_type": "code",
      "metadata": {
        "id": "cxTE8f_GXew2",
        "colab_type": "code",
        "colab": {},
        "outputId": "e2adf551-f986-420e-b01f-79937b1d134e"
      },
      "source": [
        "(55-3)/2 + 1"
      ],
      "execution_count": 0,
      "outputs": [
        {
          "output_type": "execute_result",
          "data": {
            "text/plain": [
              "27.0"
            ]
          },
          "metadata": {
            "tags": []
          },
          "execution_count": 47
        }
      ]
    },
    {
      "cell_type": "code",
      "metadata": {
        "id": "-QFmi_kDXew7",
        "colab_type": "code",
        "colab": {}
      },
      "source": [
        "## TODO \n",
        "\n",
        "######################################################\n",
        "#  Calculate the number of parameters in this layer  #\n",
        "######################################################\n",
        "\n",
        "Max_pool_1 = 0"
      ],
      "execution_count": 0,
      "outputs": []
    },
    {
      "cell_type": "markdown",
      "metadata": {
        "id": "6whEQaZsXexB",
        "colab_type": "text"
      },
      "source": [
        "### Layer 3 is a a Convolution Layer_2\n",
        "\n",
        "- **Input**  27 x 27 x 96\n",
        "\n",
        "- **Number of filters**  256\n",
        "\n",
        "- **Filter size**  5 x 5 x 96 \n",
        "\n",
        "- **Stride** 1\n",
        "\n",
        "- **padding** 2\n",
        "\n",
        "- **Layer 3 Output** 27 x 27 x 256\n"
      ]
    },
    {
      "cell_type": "code",
      "metadata": {
        "id": "bhyfoUivXexC",
        "colab_type": "code",
        "colab": {},
        "outputId": "1f6ac70f-bd42-4e30-80a6-352d2a1235e7"
      },
      "source": [
        "(27+2*2-5)/1 + 1 #pooling"
      ],
      "execution_count": 0,
      "outputs": [
        {
          "output_type": "execute_result",
          "data": {
            "text/plain": [
              "27.0"
            ]
          },
          "metadata": {
            "tags": []
          },
          "execution_count": 49
        }
      ]
    },
    {
      "cell_type": "code",
      "metadata": {
        "id": "sFbJ2YbbXexH",
        "colab_type": "code",
        "colab": {},
        "outputId": "8adad77b-8825-4445-b5e6-d6f91a4408d1"
      },
      "source": [
        "## TODO \n",
        "\n",
        "######################################################\n",
        "#  Calculate the number of parameters in this layer  #\n",
        "######################################################\n",
        "\n",
        "Conv_2 = (5 * 5 * 96) * 256 + 256\n",
        "Conv_2"
      ],
      "execution_count": 0,
      "outputs": [
        {
          "output_type": "execute_result",
          "data": {
            "text/plain": [
              "614656"
            ]
          },
          "metadata": {
            "tags": []
          },
          "execution_count": 50
        }
      ]
    },
    {
      "cell_type": "markdown",
      "metadata": {
        "id": "PTlVgxCVXexO",
        "colab_type": "text"
      },
      "source": [
        "### Layer 4 is a Max Pooling_2 Followed by Convolution_2\n",
        "\n",
        "- **Input**  27 x 27 x 256\n",
        "\n",
        "- **Max pooling**  \n",
        "\n",
        "- **Pooling size**(overlapping) 3 x 3\n",
        "\n",
        "- **Stride** 2\n",
        "\n",
        "- **Layer 4 Output** 13 x 13 x256"
      ]
    },
    {
      "cell_type": "code",
      "metadata": {
        "id": "uIdn4ro8XexP",
        "colab_type": "code",
        "colab": {},
        "outputId": "aaa7a6eb-3dbb-4f81-90a0-b48bcd8bec39"
      },
      "source": [
        "(27-3)/2 + 1"
      ],
      "execution_count": 0,
      "outputs": [
        {
          "output_type": "execute_result",
          "data": {
            "text/plain": [
              "13.0"
            ]
          },
          "metadata": {
            "tags": []
          },
          "execution_count": 51
        }
      ]
    },
    {
      "cell_type": "code",
      "metadata": {
        "id": "NlyXReecXexT",
        "colab_type": "code",
        "colab": {}
      },
      "source": [
        "## TODO \n",
        "\n",
        "######################################################\n",
        "#  Calculate the number of parameters in this layer  #\n",
        "######################################################\n",
        "\n",
        "Max_pool_2 = 0"
      ],
      "execution_count": 0,
      "outputs": []
    },
    {
      "cell_type": "markdown",
      "metadata": {
        "id": "Pj4EFL85XexX",
        "colab_type": "text"
      },
      "source": [
        "### Layer 5 is a a Convolution Layer_3\n",
        "\n",
        "- **Input**  13 x 13 x 256\n",
        "\n",
        "- **Number of filters**  384\n",
        "\n",
        "- **Filter size**  3 x 3 x 256\n",
        "\n",
        "- **Stride** 1\n",
        "\n",
        "- **padding** 1\n",
        "\n",
        "- **Layer 5 Output** 13 x 13 x 384\n"
      ]
    },
    {
      "cell_type": "code",
      "metadata": {
        "id": "K0mUXr04XexY",
        "colab_type": "code",
        "colab": {},
        "outputId": "50ad8b95-3dc6-4694-d13d-c0e7dccbe9f4"
      },
      "source": [
        "(13+2-3)/1 + 1 #pooling"
      ],
      "execution_count": 0,
      "outputs": [
        {
          "output_type": "execute_result",
          "data": {
            "text/plain": [
              "13.0"
            ]
          },
          "metadata": {
            "tags": []
          },
          "execution_count": 53
        }
      ]
    },
    {
      "cell_type": "code",
      "metadata": {
        "id": "6QFVIjIiXexb",
        "colab_type": "code",
        "colab": {},
        "outputId": "a4f2dbe4-3588-41e4-e490-9ee779f588d2"
      },
      "source": [
        "## TODO \n",
        "\n",
        "######################################################\n",
        "#  Calculate the number of parameters in this layer  #\n",
        "######################################################\n",
        "Conv_3 = (3*3*256)*384 +384\n",
        "Conv_3"
      ],
      "execution_count": 0,
      "outputs": [
        {
          "output_type": "execute_result",
          "data": {
            "text/plain": [
              "885120"
            ]
          },
          "metadata": {
            "tags": []
          },
          "execution_count": 54
        }
      ]
    },
    {
      "cell_type": "markdown",
      "metadata": {
        "id": "WgIlKF1pXexe",
        "colab_type": "text"
      },
      "source": [
        "### Layer 6 is  a Convolution Layer_4\n",
        "\n",
        "- **Input**  13 x 13 x 384\n",
        "\n",
        "- **Number of filters**  384\n",
        "\n",
        "- **Filter size**  3 x 3 x 384\n",
        "\n",
        "- **Stride** 1\n",
        "\n",
        "- **padding** 1\n",
        "\n",
        "- **Layer 6 Output** 13 x 13 x 384"
      ]
    },
    {
      "cell_type": "code",
      "metadata": {
        "id": "0gO3hnotXexf",
        "colab_type": "code",
        "colab": {},
        "outputId": "970bcd08-0919-4545-d084-cb23cdbf35f1"
      },
      "source": [
        "(13+2-3)/1+1"
      ],
      "execution_count": 0,
      "outputs": [
        {
          "output_type": "execute_result",
          "data": {
            "text/plain": [
              "13.0"
            ]
          },
          "metadata": {
            "tags": []
          },
          "execution_count": 55
        }
      ]
    },
    {
      "cell_type": "code",
      "metadata": {
        "id": "5Hbr7BetXexj",
        "colab_type": "code",
        "colab": {}
      },
      "source": [
        "## TODO \n",
        "\n",
        "######################################################\n",
        "#  Calculate the number of parameters in this layer  #\n",
        "######################################################\n",
        "Conv_4 = (3*3*384)*384+384"
      ],
      "execution_count": 0,
      "outputs": []
    },
    {
      "cell_type": "markdown",
      "metadata": {
        "id": "yVp3jgxTXexo",
        "colab_type": "text"
      },
      "source": [
        "### Layer 7 is a Convolution Layer_5\n",
        "\n",
        "- **Input**  13 x 13 x 384\n",
        "\n",
        "- **Number of filters**  256\n",
        "\n",
        "- **Filter size**  3 x 3 x 256\n",
        "\n",
        "- **Stride** 1\n",
        "\n",
        "- **padding** 1\n",
        "\n",
        "- **Layer 7 Output** 13 x 13 x 256"
      ]
    },
    {
      "cell_type": "code",
      "metadata": {
        "id": "Dd-fSCCdXexq",
        "colab_type": "code",
        "colab": {},
        "outputId": "78581b7d-23eb-4835-da22-6464bfd11a21"
      },
      "source": [
        "(13+2-3)/1+1"
      ],
      "execution_count": 0,
      "outputs": [
        {
          "output_type": "execute_result",
          "data": {
            "text/plain": [
              "13.0"
            ]
          },
          "metadata": {
            "tags": []
          },
          "execution_count": 57
        }
      ]
    },
    {
      "cell_type": "code",
      "metadata": {
        "id": "DdZSRRSgXexu",
        "colab_type": "code",
        "colab": {}
      },
      "source": [
        "## TODO \n",
        "\n",
        "######################################################\n",
        "#  Calculate the number of parameters in this layer  #\n",
        "######################################################\n",
        "Conv_5 = (3*3*384)*384+384"
      ],
      "execution_count": 0,
      "outputs": []
    },
    {
      "cell_type": "markdown",
      "metadata": {
        "id": "11vp5ZQTXexy",
        "colab_type": "text"
      },
      "source": [
        "### Layer 8 is a Max Pooling_3 Followed by Convolution_5\n",
        "\n",
        "- **Input**  13 x 13 x 256\n",
        "\n",
        "- **Max pooling**  \n",
        "\n",
        "- **Pooling size**(overlapping) 3 x 3\n",
        "\n",
        "- **Stride** 2\n",
        "\n",
        "- **Layer 8 Output** 6 x 6 x 256"
      ]
    },
    {
      "cell_type": "code",
      "metadata": {
        "id": "3Jvs-UfoXexz",
        "colab_type": "code",
        "colab": {},
        "outputId": "5f5833a6-f731-4f9f-f330-c5486a461c09"
      },
      "source": [
        "(13-3)/2 + 1"
      ],
      "execution_count": 0,
      "outputs": [
        {
          "output_type": "execute_result",
          "data": {
            "text/plain": [
              "6.0"
            ]
          },
          "metadata": {
            "tags": []
          },
          "execution_count": 59
        }
      ]
    },
    {
      "cell_type": "code",
      "metadata": {
        "id": "sqEVki78Xex2",
        "colab_type": "code",
        "colab": {}
      },
      "source": [
        "## TODO \n",
        "\n",
        "######################################################\n",
        "#  Calculate the number of parameters in this layer  #\n",
        "######################################################\n",
        "\n",
        "Max_pool_3 = 0"
      ],
      "execution_count": 0,
      "outputs": []
    },
    {
      "cell_type": "markdown",
      "metadata": {
        "id": "mrBA4FjUXex5",
        "colab_type": "text"
      },
      "source": [
        "### Layer 9 is a Fully_Connected layer_1\n",
        "\n",
        "- **input** 6 x 6 x 256\n",
        "\n",
        "- **flatten** 4096\n",
        "\n",
        "- **output size** (N,flatten) x (flatten,4096)\n",
        "\n",
        "- **N** Number of input data"
      ]
    },
    {
      "cell_type": "code",
      "metadata": {
        "id": "IpyqsBdYXex7",
        "colab_type": "code",
        "colab": {}
      },
      "source": [
        "## TODO \n",
        "\n",
        "######################################################\n",
        "#  Calculate the number of parameters in this layer  #\n",
        "######################################################\n",
        "FC1 = (6*6*256)*4096 +4096"
      ],
      "execution_count": 0,
      "outputs": []
    },
    {
      "cell_type": "markdown",
      "metadata": {
        "id": "JuOUPtEeXex_",
        "colab_type": "text"
      },
      "source": [
        "### Layer 10 is a Fully_Connected layer_2\n",
        "\n",
        "- **input** (N,4096)\n",
        "\n",
        "- **output size** (N,4096) x (4096,4096)\n",
        "\n",
        "- **N** Number of input data"
      ]
    },
    {
      "cell_type": "code",
      "metadata": {
        "id": "vb1DjP4xXex_",
        "colab_type": "code",
        "colab": {}
      },
      "source": [
        "## TODO \n",
        "\n",
        "######################################################\n",
        "#  Calculate the number of parameters in this layer  #\n",
        "######################################################\n",
        "\n",
        "FC2 = (4096)*4096+4096"
      ],
      "execution_count": 0,
      "outputs": []
    },
    {
      "cell_type": "markdown",
      "metadata": {
        "id": "T3PJM5w6XeyE",
        "colab_type": "text"
      },
      "source": [
        "### Layer 11 is a Fully_Connected layer_3\n",
        "\n",
        "- **input** (N,4096)\n",
        "\n",
        "- **output size** (N,4096) x (4096,Num_classes)\n",
        "\n",
        "- **N** Number of input data\n",
        "\n",
        "- **Num_classes** Number of labels"
      ]
    },
    {
      "cell_type": "code",
      "metadata": {
        "id": "QjmaOzNBXeyF",
        "colab_type": "code",
        "colab": {},
        "outputId": "e5ad5ebb-870b-4393-8ded-7b6ed7a44268"
      },
      "source": [
        "## TODO \n",
        "\n",
        "######################################################\n",
        "#  Calculate the number of parameters in this layer  #\n",
        "######################################################\n",
        "Num_classes = 1000\n",
        "FC3 = (4096)* + Num_classes\n",
        "FC3"
      ],
      "execution_count": 0,
      "outputs": [
        {
          "output_type": "execute_result",
          "data": {
            "text/plain": [
              "4096000"
            ]
          },
          "metadata": {
            "tags": []
          },
          "execution_count": 63
        }
      ]
    }
  ]
}