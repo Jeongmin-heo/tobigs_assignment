{
  "nbformat": 4,
  "nbformat_minor": 0,
  "metadata": {
    "kernelspec": {
      "name": "python3",
      "display_name": "Python 3"
    },
    "language_info": {
      "codemirror_mode": {
        "name": "ipython",
        "version": 3
      },
      "file_extension": ".py",
      "mimetype": "text/x-python",
      "name": "python",
      "nbconvert_exporter": "python",
      "pygments_lexer": "ipython3",
      "version": "3.7.4"
    },
    "colab": {
      "name": "week8_assignment2_heojeongmin.ipynb",
      "provenance": [],
      "include_colab_link": true
    },
    "accelerator": "GPU"
  },
  "cells": [
    {
      "cell_type": "markdown",
      "metadata": {
        "id": "view-in-github",
        "colab_type": "text"
      },
      "source": [
        "<a href=\"https://colab.research.google.com/github/Jeongmin-heo/tobigs_assignment/blob/master/week8_assignment2_heojeongmin.ipynb\" target=\"_parent\"><img src=\"https://colab.research.google.com/assets/colab-badge.svg\" alt=\"Open In Colab\"/></a>"
      ]
    },
    {
      "cell_type": "code",
      "metadata": {
        "id": "AGwUCBfrKpX-",
        "colab_type": "code",
        "colab": {
          "base_uri": "https://localhost:8080/",
          "height": 124
        },
        "outputId": "31fc82bf-7106-4937-f5cd-35a5bfdab4ae"
      },
      "source": [
        "from google.colab import drive\n",
        "drive.mount('/content/drive')"
      ],
      "execution_count": 11,
      "outputs": [
        {
          "output_type": "stream",
          "text": [
            "Go to this URL in a browser: https://accounts.google.com/o/oauth2/auth?client_id=947318989803-6bn6qk8qdgf4n4g3pfee6491hc0brc4i.apps.googleusercontent.com&redirect_uri=urn%3aietf%3awg%3aoauth%3a2.0%3aoob&response_type=code&scope=email%20https%3a%2f%2fwww.googleapis.com%2fauth%2fdocs.test%20https%3a%2f%2fwww.googleapis.com%2fauth%2fdrive%20https%3a%2f%2fwww.googleapis.com%2fauth%2fdrive.photos.readonly%20https%3a%2f%2fwww.googleapis.com%2fauth%2fpeopleapi.readonly\n",
            "\n",
            "Enter your authorization code:\n",
            "··········\n",
            "Mounted at /content/drive\n"
          ],
          "name": "stdout"
        }
      ]
    },
    {
      "cell_type": "code",
      "metadata": {
        "id": "n0Ly9iOHKKgg",
        "colab_type": "code",
        "colab": {
          "base_uri": "https://localhost:8080/",
          "height": 34
        },
        "outputId": "424bd7f5-ff29-40f5-e847-3946173a79ba"
      },
      "source": [
        "ls"
      ],
      "execution_count": 12,
      "outputs": [
        {
          "output_type": "stream",
          "text": [
            "\u001b[0m\u001b[01;34mdrive\u001b[0m/  \u001b[01;34msample_data\u001b[0m/\n"
          ],
          "name": "stdout"
        }
      ]
    },
    {
      "cell_type": "code",
      "metadata": {
        "id": "V0-IpfLLKMU4",
        "colab_type": "code",
        "colab": {
          "base_uri": "https://localhost:8080/",
          "height": 34
        },
        "outputId": "1d815801-4f32-4db8-d19f-11163f8629f6"
      },
      "source": [
        "cd /content/drive/My Drive/colab_workspace"
      ],
      "execution_count": 13,
      "outputs": [
        {
          "output_type": "stream",
          "text": [
            "/content/drive/My Drive/colab_workspace\n"
          ],
          "name": "stdout"
        }
      ]
    },
    {
      "cell_type": "code",
      "metadata": {
        "id": "DYokiGP_XnTu",
        "colab_type": "code",
        "colab": {}
      },
      "source": [
        "import numpy as np\n",
        "from keras.models import Sequential\n",
        "from keras.layers import Dense\n",
        "from keras.layers import Flatten\n",
        "from keras.layers import Dropout\n",
        "from keras.layers import BatchNormalization\n",
        "from keras.layers import Activation\n",
        "from keras.layers.convolutional import Conv2D\n",
        "from keras.layers.convolutional import MaxPooling2D\n",
        "from keras.layers.convolutional import ZeroPadding2D\n",
        "from keras.optimizers import SGD\n",
        "from keras.utils import np_utils\n",
        "from keras.preprocessing.image import ImageDataGenerator\n",
        "from keras.models import load_model\n",
        "import matplotlib.pyplot as plt"
      ],
      "execution_count": 0,
      "outputs": []
    },
    {
      "cell_type": "code",
      "metadata": {
        "id": "0BzGa4jKXnT4",
        "colab_type": "code",
        "outputId": "1ed872eb-19ac-4178-df03-375738195ece",
        "colab": {
          "base_uri": "https://localhost:8080/",
          "height": 51
        }
      },
      "source": [
        "#데이터셋 설정\n",
        "train_datagen = ImageDataGenerator(rescale=1./255,width_shift_range=0.2,height_shift_range =0.2,\n",
        "zoom_range=0.2, horizontal_flip =True, vertical_flip = True)\n",
        "\n",
        "train_generator = train_datagen.flow_from_directory(\n",
        "'train',\n",
        "target_size=(224, 224),\n",
        "batch_size=128,\n",
        "class_mode='binary')\n",
        "\n",
        "test_datagen = ImageDataGenerator(rescale=1./255,width_shift_range=0.2,height_shift_range =0.2,\n",
        "zoom_range=0.2, horizontal_flip =True, vertical_flip = True)\n",
        "\n",
        "test_generator = train_datagen.flow_from_directory(\n",
        "'test',\n",
        "target_size=(224, 224),\n",
        "batch_size=128,\n",
        "class_mode='binary')"
      ],
      "execution_count": 15,
      "outputs": [
        {
          "output_type": "stream",
          "text": [
            "Found 1002 images belonging to 2 classes.\n",
            "Found 340 images belonging to 2 classes.\n"
          ],
          "name": "stdout"
        }
      ]
    },
    {
      "cell_type": "code",
      "metadata": {
        "id": "fR59wfUxXnT9",
        "colab_type": "code",
        "outputId": "ee00c014-a6c7-4676-d8dd-6d3a065231f0",
        "colab": {
          "base_uri": "https://localhost:8080/",
          "height": 1000
        }
      },
      "source": [
        "#알렉스넷 모델 생성\n",
        "model = Sequential()\n",
        "\n",
        "#Alexnet - 계층 1 : 11x11 필터를 96개를 사용, strides = 4, 활화화함수 = relu,\n",
        "# 입력 데이터 크기 224x224 , 3x3 크기의 풀리계층 사용\n",
        "\n",
        "model.add(Conv2D(96, (11,11), strides=4, input_shape=(224,224,3), activation='relu'))\n",
        "model.add(MaxPooling2D(pool_size=(3,3),strides=2))\n",
        "model.add(BatchNormalization())\n",
        "\n",
        "#Alexnet - 계층 2 : 5X5 필터를 256개 사용 , strides = 1, 활화화함수 = relu, 3x3 크기의 풀리계층 사용\n",
        "model.add(ZeroPadding2D(2))\n",
        "model.add(Conv2D(256,(5,5), strides=1, activation='relu'))\n",
        "\n",
        "model.add(MaxPooling2D(pool_size=(3,3),strides=2))\n",
        "model.add(BatchNormalization())\n",
        "\n",
        "#Alexnet - 계층 3 : 3x3 필터를 384개 사용, strides =1 , 활성화함수 = relu\n",
        "model.add(ZeroPadding2D(1))\n",
        "model.add(Conv2D(384,(3,3), strides=1, activation='relu'))\n",
        "\n",
        "\n",
        "#Alexnet - 계층 4 : 3x3 필터를 384개 사용, strides =1 , 활성화함수 = relu\n",
        "model.add(ZeroPadding2D(1))\n",
        "model.add(Conv2D(384,(3,3), strides=1, activation='relu'))\n",
        "\n",
        "\n",
        "#Alexnet - 계층 5 : 3x3 필터를 256개 사용, strides =1 , 활성화함수 = relu, 3x3 크기의 풀리계층 사용\n",
        "model.add(ZeroPadding2D(1))\n",
        "model.add(Conv2D(256,(3,3), strides=1, activation='relu'))\n",
        "model.add(MaxPooling2D(pool_size=(3,3), strides=2))\n",
        "\n",
        "#계산을 위해서 1차원 배열로 전환\n",
        "model.add(Flatten())\n",
        "\n",
        "#Alexnet - 계층 6 : 4096개의 출력뉴런, 활성화함수 = relu\n",
        "model.add(Dense(4096, activation='relu'))\n",
        "model.add(Dropout(0.5))\n",
        "\n",
        "#Alexnet - 계층 7 : 4096게의 출력뉴런, 활성화함수 = relu\n",
        "model.add(Dense(4096, activation='relu'))\n",
        "model.add(Dropout(0.5))\n",
        "\n",
        "#Alexnet - 계층 8 : 1개의 출력뉴런, 활성화함수 = sigmoid\n",
        "model.add(Dense(1, activation='sigmoid'))\n",
        "\n",
        "#학습과정 설정 - 손실함수는 크로스엔트로피, 가중치 검색은 아담\n",
        "sgd = SGD(lr=0.01,decay=5e-4, momentum=0.9)\n",
        "model.compile(loss='binary_crossentropy', optimizer='sgd',metrics=['accuracy'])\n",
        "\n",
        "model.summary() #Summary를 통해 확인"
      ],
      "execution_count": 16,
      "outputs": [
        {
          "output_type": "stream",
          "text": [
            "WARNING:tensorflow:From /usr/local/lib/python3.6/dist-packages/keras/backend/tensorflow_backend.py:66: The name tf.get_default_graph is deprecated. Please use tf.compat.v1.get_default_graph instead.\n",
            "\n",
            "WARNING:tensorflow:From /usr/local/lib/python3.6/dist-packages/keras/backend/tensorflow_backend.py:541: The name tf.placeholder is deprecated. Please use tf.compat.v1.placeholder instead.\n",
            "\n",
            "WARNING:tensorflow:From /usr/local/lib/python3.6/dist-packages/keras/backend/tensorflow_backend.py:4432: The name tf.random_uniform is deprecated. Please use tf.random.uniform instead.\n",
            "\n",
            "WARNING:tensorflow:From /usr/local/lib/python3.6/dist-packages/keras/backend/tensorflow_backend.py:4267: The name tf.nn.max_pool is deprecated. Please use tf.nn.max_pool2d instead.\n",
            "\n",
            "WARNING:tensorflow:From /usr/local/lib/python3.6/dist-packages/keras/backend/tensorflow_backend.py:190: The name tf.get_default_session is deprecated. Please use tf.compat.v1.get_default_session instead.\n",
            "\n",
            "WARNING:tensorflow:From /usr/local/lib/python3.6/dist-packages/keras/backend/tensorflow_backend.py:197: The name tf.ConfigProto is deprecated. Please use tf.compat.v1.ConfigProto instead.\n",
            "\n",
            "WARNING:tensorflow:From /usr/local/lib/python3.6/dist-packages/keras/backend/tensorflow_backend.py:203: The name tf.Session is deprecated. Please use tf.compat.v1.Session instead.\n",
            "\n",
            "WARNING:tensorflow:From /usr/local/lib/python3.6/dist-packages/keras/backend/tensorflow_backend.py:207: The name tf.global_variables is deprecated. Please use tf.compat.v1.global_variables instead.\n",
            "\n",
            "WARNING:tensorflow:From /usr/local/lib/python3.6/dist-packages/keras/backend/tensorflow_backend.py:216: The name tf.is_variable_initialized is deprecated. Please use tf.compat.v1.is_variable_initialized instead.\n",
            "\n",
            "WARNING:tensorflow:From /usr/local/lib/python3.6/dist-packages/keras/backend/tensorflow_backend.py:223: The name tf.variables_initializer is deprecated. Please use tf.compat.v1.variables_initializer instead.\n",
            "\n",
            "WARNING:tensorflow:From /usr/local/lib/python3.6/dist-packages/keras/backend/tensorflow_backend.py:2041: The name tf.nn.fused_batch_norm is deprecated. Please use tf.compat.v1.nn.fused_batch_norm instead.\n",
            "\n",
            "WARNING:tensorflow:From /usr/local/lib/python3.6/dist-packages/keras/backend/tensorflow_backend.py:148: The name tf.placeholder_with_default is deprecated. Please use tf.compat.v1.placeholder_with_default instead.\n",
            "\n",
            "WARNING:tensorflow:From /usr/local/lib/python3.6/dist-packages/keras/backend/tensorflow_backend.py:3733: calling dropout (from tensorflow.python.ops.nn_ops) with keep_prob is deprecated and will be removed in a future version.\n",
            "Instructions for updating:\n",
            "Please use `rate` instead of `keep_prob`. Rate should be set to `rate = 1 - keep_prob`.\n",
            "WARNING:tensorflow:From /usr/local/lib/python3.6/dist-packages/keras/optimizers.py:793: The name tf.train.Optimizer is deprecated. Please use tf.compat.v1.train.Optimizer instead.\n",
            "\n",
            "WARNING:tensorflow:From /usr/local/lib/python3.6/dist-packages/keras/backend/tensorflow_backend.py:3657: The name tf.log is deprecated. Please use tf.math.log instead.\n",
            "\n",
            "WARNING:tensorflow:From /tensorflow-1.15.0/python3.6/tensorflow_core/python/ops/nn_impl.py:183: where (from tensorflow.python.ops.array_ops) is deprecated and will be removed in a future version.\n",
            "Instructions for updating:\n",
            "Use tf.where in 2.0, which has the same broadcast rule as np.where\n",
            "Model: \"sequential_1\"\n",
            "_________________________________________________________________\n",
            "Layer (type)                 Output Shape              Param #   \n",
            "=================================================================\n",
            "conv2d_1 (Conv2D)            (None, 54, 54, 96)        34944     \n",
            "_________________________________________________________________\n",
            "max_pooling2d_1 (MaxPooling2 (None, 26, 26, 96)        0         \n",
            "_________________________________________________________________\n",
            "batch_normalization_1 (Batch (None, 26, 26, 96)        384       \n",
            "_________________________________________________________________\n",
            "zero_padding2d_1 (ZeroPaddin (None, 30, 30, 96)        0         \n",
            "_________________________________________________________________\n",
            "conv2d_2 (Conv2D)            (None, 26, 26, 256)       614656    \n",
            "_________________________________________________________________\n",
            "max_pooling2d_2 (MaxPooling2 (None, 12, 12, 256)       0         \n",
            "_________________________________________________________________\n",
            "batch_normalization_2 (Batch (None, 12, 12, 256)       1024      \n",
            "_________________________________________________________________\n",
            "zero_padding2d_2 (ZeroPaddin (None, 14, 14, 256)       0         \n",
            "_________________________________________________________________\n",
            "conv2d_3 (Conv2D)            (None, 12, 12, 384)       885120    \n",
            "_________________________________________________________________\n",
            "zero_padding2d_3 (ZeroPaddin (None, 14, 14, 384)       0         \n",
            "_________________________________________________________________\n",
            "conv2d_4 (Conv2D)            (None, 12, 12, 384)       1327488   \n",
            "_________________________________________________________________\n",
            "zero_padding2d_4 (ZeroPaddin (None, 14, 14, 384)       0         \n",
            "_________________________________________________________________\n",
            "conv2d_5 (Conv2D)            (None, 12, 12, 256)       884992    \n",
            "_________________________________________________________________\n",
            "max_pooling2d_3 (MaxPooling2 (None, 5, 5, 256)         0         \n",
            "_________________________________________________________________\n",
            "flatten_1 (Flatten)          (None, 6400)              0         \n",
            "_________________________________________________________________\n",
            "dense_1 (Dense)              (None, 4096)              26218496  \n",
            "_________________________________________________________________\n",
            "dropout_1 (Dropout)          (None, 4096)              0         \n",
            "_________________________________________________________________\n",
            "dense_2 (Dense)              (None, 4096)              16781312  \n",
            "_________________________________________________________________\n",
            "dropout_2 (Dropout)          (None, 4096)              0         \n",
            "_________________________________________________________________\n",
            "dense_3 (Dense)              (None, 1)                 4097      \n",
            "=================================================================\n",
            "Total params: 46,752,513\n",
            "Trainable params: 46,751,809\n",
            "Non-trainable params: 704\n",
            "_________________________________________________________________\n"
          ],
          "name": "stdout"
        }
      ]
    },
    {
      "cell_type": "code",
      "metadata": {
        "id": "M3_ivcvtXnUC",
        "colab_type": "code",
        "outputId": "b3b51325-d556-443c-86c8-c8446608a584",
        "colab": {
          "base_uri": "https://localhost:8080/",
          "height": 722
        }
      },
      "source": [
        "#Alexnet - 학습하기\n",
        "hist = model.fit_generator(train_generator, steps_per_epoch=100, epochs=20,validation_steps=10)#validation_data=val_generator, validation_steps=1)"
      ],
      "execution_count": 23,
      "outputs": [
        {
          "output_type": "stream",
          "text": [
            "Epoch 1/20\n",
            "100/100 [==============================] - 192s 2s/step - loss: 0.5467 - acc: 0.7186\n",
            "Epoch 2/20\n",
            "100/100 [==============================] - 188s 2s/step - loss: 0.5251 - acc: 0.7400\n",
            "Epoch 3/20\n",
            "100/100 [==============================] - 188s 2s/step - loss: 0.5071 - acc: 0.7519\n",
            "Epoch 4/20\n",
            "100/100 [==============================] - 188s 2s/step - loss: 0.4915 - acc: 0.7616\n",
            "Epoch 5/20\n",
            "100/100 [==============================] - 186s 2s/step - loss: 0.4787 - acc: 0.7726\n",
            "Epoch 6/20\n",
            "100/100 [==============================] - 186s 2s/step - loss: 0.4663 - acc: 0.7768\n",
            "Epoch 7/20\n",
            "100/100 [==============================] - 188s 2s/step - loss: 0.4496 - acc: 0.7896\n",
            "Epoch 8/20\n",
            "100/100 [==============================] - 191s 2s/step - loss: 0.4449 - acc: 0.7928\n",
            "Epoch 9/20\n",
            "100/100 [==============================] - 191s 2s/step - loss: 0.4143 - acc: 0.8133\n",
            "Epoch 10/20\n",
            "100/100 [==============================] - 192s 2s/step - loss: 0.4095 - acc: 0.8122\n",
            "Epoch 11/20\n",
            "100/100 [==============================] - 191s 2s/step - loss: 0.3971 - acc: 0.8223\n",
            "Epoch 12/20\n",
            "100/100 [==============================] - 191s 2s/step - loss: 0.3816 - acc: 0.8330\n",
            "Epoch 13/20\n",
            "100/100 [==============================] - 192s 2s/step - loss: 0.3824 - acc: 0.8288\n",
            "Epoch 14/20\n",
            "100/100 [==============================] - 189s 2s/step - loss: 0.3608 - acc: 0.8455\n",
            "Epoch 15/20\n",
            "100/100 [==============================] - 190s 2s/step - loss: 0.3608 - acc: 0.8465\n",
            "Epoch 16/20\n",
            "100/100 [==============================] - 191s 2s/step - loss: 0.3203 - acc: 0.8612\n",
            "Epoch 17/20\n",
            "100/100 [==============================] - 189s 2s/step - loss: 0.3309 - acc: 0.8586\n",
            "Epoch 18/20\n",
            "100/100 [==============================] - 189s 2s/step - loss: 0.3152 - acc: 0.8659\n",
            "Epoch 19/20\n",
            "100/100 [==============================] - 191s 2s/step - loss: 0.2935 - acc: 0.8756\n",
            "Epoch 20/20\n",
            "100/100 [==============================] - 187s 2s/step - loss: 0.2904 - acc: 0.8753\n"
          ],
          "name": "stdout"
        }
      ]
    },
    {
      "cell_type": "code",
      "metadata": {
        "id": "b5b0aogiKYNm",
        "colab_type": "code",
        "colab": {
          "base_uri": "https://localhost:8080/",
          "height": 278
        },
        "outputId": "44e1acbd-05d5-46df-868e-c2767253ac38"
      },
      "source": [
        "#Alexnet - 그래프 그리기\n",
        "fig, loss_ax = plt.subplots()\n",
        "\n",
        "acc_ax = loss_ax.twinx()\n",
        "\n",
        "loss_ax.plot(hist.history['loss'],'y',label='train loss')\n",
        "\n",
        "acc_ax.plot(hist.history['acc'],'b',label='train acc')\n",
        "\n",
        "loss_ax.set_xlabel('epoch')\n",
        "loss_ax.set_ylabel('loss')\n",
        "acc_ax.set_ylabel('accuracy')\n",
        "\n",
        "loss_ax.legend(loc='upper left')\n",
        "loss_ax.legend(loc='lower left')\n",
        "\n",
        "plt.show()"
      ],
      "execution_count": 27,
      "outputs": [
        {
          "output_type": "display_data",
          "data": {
            "image/png": "[encoded data removed]",
            "text/plain": [
              "<Figure size 432x288 with 2 Axes>"
            ]
          },
          "metadata": {
            "tags": []
          }
        }
      ]
    },
    {
      "cell_type": "code",
      "metadata": {
        "id": "0pQwmfWpKvY4",
        "colab_type": "code",
        "colab": {
          "base_uri": "https://localhost:8080/",
          "height": 51
        },
        "outputId": "fbd0a0f0-03b4-487b-acbb-a5822242cd64"
      },
      "source": [
        "#모델 평가하기\n",
        "print(\"-------------Evaluate-----------------\")\n",
        "scores = model.evaluate_generator(test_generator,steps=1)\n",
        "print(\"%s : %.2f%%\" %(model.metrics_names[1],scores[1]*100))\n"
      ],
      "execution_count": 25,
      "outputs": [
        {
          "output_type": "stream",
          "text": [
            "-------------Evaluate-----------------\n",
            "acc : 75.00%\n"
          ],
          "name": "stdout"
        }
      ]
    },
    {
      "cell_type": "code",
      "metadata": {
        "id": "3gnEvBQAK0sf",
        "colab_type": "code",
        "colab": {}
      },
      "source": [
        ""
      ],
      "execution_count": 0,
      "outputs": []
    }
  ]
}