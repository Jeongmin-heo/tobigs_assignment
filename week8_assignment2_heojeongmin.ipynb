{
  "nbformat": 4,
  "nbformat_minor": 0,
  "metadata": {
    "kernelspec": {
      "display_name": "Python 3",
      "language": "python",
      "name": "python3"
    },
    "language_info": {
      "codemirror_mode": {
        "name": "ipython",
        "version": 3
      },
      "file_extension": ".py",
      "mimetype": "text/x-python",
      "name": "python",
      "nbconvert_exporter": "python",
      "pygments_lexer": "ipython3",
      "version": "3.7.4"
    },
    "colab": {
      "name": "week8_assignment2_heojeongmin.ipynb",
      "provenance": [],
      "include_colab_link": true
    }
  },
  "cells": [
    {
      "cell_type": "markdown",
      "metadata": {
        "id": "view-in-github",
        "colab_type": "text"
      },
      "source": [
        "<a href=\"https://colab.research.google.com/github/Jeongmin-heo/tobigs_assignment/blob/master/week8_assignment2_heojeongmin.ipynb\" target=\"_parent\"><img src=\"https://colab.research.google.com/assets/colab-badge.svg\" alt=\"Open In Colab\"/></a>"
      ]
    },
    {
      "cell_type": "code",
      "metadata": {
        "id": "DYokiGP_XnTu",
        "colab_type": "code",
        "colab": {},
        "outputId": "9d5691b5-5afa-49cf-ab4e-871d7c984b4c"
      },
      "source": [
        "import numpy as np\n",
        "from keras.models import Sequential\n",
        "from keras.layers import Dense\n",
        "from keras.layers import Flatten\n",
        "from keras.layers import Dropout\n",
        "from keras.layers import BatchNormalization\n",
        "from keras.layers import Activation\n",
        "from keras.layers.convolutional import Conv2D\n",
        "from keras.layers.convolutional import MaxPooling2D\n",
        "from keras.layers.convolutional import ZeroPadding2D\n",
        "from keras.optimizers import SGD\n",
        "from keras.utils import np_utils\n",
        "from keras.preprocessing.image import ImageDataGenerator\n",
        "from keras.models import load_model\n",
        "import matplotlib.pyplot as plt"
      ],
      "execution_count": 0,
      "outputs": [
        {
          "output_type": "stream",
          "text": [
            "Using TensorFlow backend.\n"
          ],
          "name": "stderr"
        }
      ]
    },
    {
      "cell_type": "code",
      "metadata": {
        "id": "0BzGa4jKXnT4",
        "colab_type": "code",
        "colab": {},
        "outputId": "e618ff66-f254-42b0-bc46-cbe77c610991"
      },
      "source": [
        "#데이터셋 설정\n",
        "train_datagen = ImageDataGenerator(rescale=1./255,width_shift_range=0.2,height_shift_range =0.2,\n",
        "zoom_range=0.2, horizontal_flip =True, vertical_flip = True)\n",
        "\n",
        "train_generator = train_datagen.flow_from_directory(\n",
        "'train',\n",
        "target_size=(224, 224),\n",
        "batch_size=128,\n",
        "class_mode='binary')\n",
        "\n",
        "test_datagen = ImageDataGenerator(rescale=1./255,width_shift_range=0.2,height_shift_range =0.2,\n",
        "zoom_range=0.2, horizontal_flip =True, vertical_flip = True)\n",
        "\n",
        "test_generator = train_datagen.flow_from_directory(\n",
        "'test',\n",
        "target_size=(224, 224),\n",
        "batch_size=128,\n",
        "class_mode='binary')"
      ],
      "execution_count": 0,
      "outputs": [
        {
          "output_type": "stream",
          "text": [
            "Found 0 images belonging to 0 classes.\n",
            "Found 0 images belonging to 0 classes.\n"
          ],
          "name": "stdout"
        }
      ]
    },
    {
      "cell_type": "code",
      "metadata": {
        "id": "fR59wfUxXnT9",
        "colab_type": "code",
        "colab": {},
        "outputId": "5b7f50c5-6580-441d-fd86-dd6e7fc9e3dd"
      },
      "source": [
        "#알렉스넷 모델 생성\n",
        "model = Sequential()\n",
        "\n",
        "#Alexnet - 계층 1 : 11x11 필터를 96개를 사용, strides = 4, 활화화함수 = relu,\n",
        "# 입력 데이터 크기 224x224 , 3x3 크기의 풀리계층 사용\n",
        "\n",
        "model.add(Conv2D(96, (11,11), strides=4, input_shape=(224,224,3), activation='relu'))\n",
        "model.add(MaxPooling2D(pool_size=(3,3),strides=2))\n",
        "model.add(BatchNormalization())\n",
        "\n",
        "#Alexnet - 계층 2 : 5X5 필터를 256개 사용 , strides = 1, 활화화함수 = relu, 3x3 크기의 풀리계층 사용\n",
        "model.add(ZeroPadding2D(2))\n",
        "model.add(Conv2D(256,(5,5), strides=1, activation='relu'))\n",
        "\n",
        "model.add(MaxPooling2D(pool_size=(3,3),strides=2))\n",
        "model.add(BatchNormalization())\n",
        "\n",
        "#Alexnet - 계층 3 : 3x3 필터를 384개 사용, strides =1 , 활성화함수 = relu\n",
        "model.add(ZeroPadding2D(1))\n",
        "model.add(Conv2D(384,(3,3), strides=1, activation='relu'))\n",
        "\n",
        "\n",
        "#Alexnet - 계층 4 : 3x3 필터를 384개 사용, strides =1 , 활성화함수 = relu\n",
        "model.add(ZeroPadding2D(1))\n",
        "model.add(Conv2D(384,(3,3), strides=1, activation='relu'))\n",
        "\n",
        "\n",
        "#Alexnet - 계층 5 : 3x3 필터를 256개 사용, strides =1 , 활성화함수 = relu, 3x3 크기의 풀리계층 사용\n",
        "model.add(ZeroPadding2D(1))\n",
        "model.add(Conv2D(256,(3,3), strides=1, activation='relu'))\n",
        "model.add(MaxPooling2D(pool_size=(3,3), strides=2))\n",
        "\n",
        "#계산을 위해서 1차원 배열로 전환\n",
        "model.add(Flatten())\n",
        "\n",
        "#Alexnet - 계층 6 : 4096개의 출력뉴런, 활성화함수 = relu\n",
        "model.add(Dense(4096, activation='relu'))\n",
        "model.add(Dropout(0.5))\n",
        "\n",
        "#Alexnet - 계층 7 : 4096게의 출력뉴런, 활성화함수 = relu\n",
        "model.add(Dense(4096, activation='relu'))\n",
        "model.add(Dropout(0.5))\n",
        "\n",
        "#Alexnet - 계층 8 : 1개의 출력뉴런, 활성화함수 = sigmoid\n",
        "model.add(Dense(1, activation='sigmoid'))\n",
        "\n",
        "#학습과정 설정 - 손실함수는 크로스엔트로피, 가중치 검색은 아담\n",
        "sgd = SGD(lr=0.01,decay=5e-4, momentum=0.9)\n",
        "model.compile(loss='binary_crossentropy', optimizer='sgd',metrics=['accuracy'])\n",
        "\n",
        "model.summary() #Summary를 통해 확인"
      ],
      "execution_count": 0,
      "outputs": [
        {
          "output_type": "stream",
          "text": [
            "WARNING:tensorflow:From C:\\Users\\gjwjd\\AppData\\Local\\Continuum\\anaconda3\\lib\\site-packages\\tensorflow_core\\python\\ops\\resource_variable_ops.py:1630: calling BaseResourceVariable.__init__ (from tensorflow.python.ops.resource_variable_ops) with constraint is deprecated and will be removed in a future version.\n",
            "Instructions for updating:\n",
            "If using Keras pass *_constraint arguments to layers.\n",
            "WARNING:tensorflow:From C:\\Users\\gjwjd\\AppData\\Local\\Continuum\\anaconda3\\lib\\site-packages\\keras\\backend\\tensorflow_backend.py:4070: The name tf.nn.max_pool is deprecated. Please use tf.nn.max_pool2d instead.\n",
            "\n",
            "WARNING:tensorflow:From C:\\Users\\gjwjd\\AppData\\Local\\Continuum\\anaconda3\\lib\\site-packages\\tensorflow_core\\python\\ops\\nn_impl.py:183: where (from tensorflow.python.ops.array_ops) is deprecated and will be removed in a future version.\n",
            "Instructions for updating:\n",
            "Use tf.where in 2.0, which has the same broadcast rule as np.where\n",
            "Model: \"sequential_1\"\n",
            "_________________________________________________________________\n",
            "Layer (type)                 Output Shape              Param #   \n",
            "=================================================================\n",
            "conv2d_1 (Conv2D)            (None, 54, 54, 96)        34944     \n",
            "_________________________________________________________________\n",
            "max_pooling2d_1 (MaxPooling2 (None, 26, 26, 96)        0         \n",
            "_________________________________________________________________\n",
            "batch_normalization_1 (Batch (None, 26, 26, 96)        384       \n",
            "_________________________________________________________________\n",
            "zero_padding2d_1 (ZeroPaddin (None, 30, 30, 96)        0         \n",
            "_________________________________________________________________\n",
            "conv2d_2 (Conv2D)            (None, 26, 26, 256)       614656    \n",
            "_________________________________________________________________\n",
            "max_pooling2d_2 (MaxPooling2 (None, 12, 12, 256)       0         \n",
            "_________________________________________________________________\n",
            "batch_normalization_2 (Batch (None, 12, 12, 256)       1024      \n",
            "_________________________________________________________________\n",
            "zero_padding2d_2 (ZeroPaddin (None, 14, 14, 256)       0         \n",
            "_________________________________________________________________\n",
            "conv2d_3 (Conv2D)            (None, 12, 12, 384)       885120    \n",
            "_________________________________________________________________\n",
            "zero_padding2d_3 (ZeroPaddin (None, 14, 14, 384)       0         \n",
            "_________________________________________________________________\n",
            "conv2d_4 (Conv2D)            (None, 12, 12, 384)       1327488   \n",
            "_________________________________________________________________\n",
            "zero_padding2d_4 (ZeroPaddin (None, 14, 14, 384)       0         \n",
            "_________________________________________________________________\n",
            "conv2d_5 (Conv2D)            (None, 12, 12, 256)       884992    \n",
            "_________________________________________________________________\n",
            "max_pooling2d_3 (MaxPooling2 (None, 5, 5, 256)         0         \n",
            "_________________________________________________________________\n",
            "flatten_1 (Flatten)          (None, 6400)              0         \n",
            "_________________________________________________________________\n",
            "dense_1 (Dense)              (None, 4096)              26218496  \n",
            "_________________________________________________________________\n",
            "dropout_1 (Dropout)          (None, 4096)              0         \n",
            "_________________________________________________________________\n",
            "dense_2 (Dense)              (None, 4096)              16781312  \n",
            "_________________________________________________________________\n",
            "dropout_2 (Dropout)          (None, 4096)              0         \n",
            "_________________________________________________________________\n",
            "dense_3 (Dense)              (None, 1)                 4097      \n",
            "=================================================================\n",
            "Total params: 46,752,513\n",
            "Trainable params: 46,751,809\n",
            "Non-trainable params: 704\n",
            "_________________________________________________________________\n"
          ],
          "name": "stdout"
        }
      ]
    },
    {
      "cell_type": "code",
      "metadata": {
        "id": "M3_ivcvtXnUC",
        "colab_type": "code",
        "colab": {},
        "outputId": "fec2d898-f3b9-4431-8e60-55636202bc46"
      },
      "source": [
        "#Alexnet - 학습하기\n",
        "hist = model.fit_generator(train_generator, steps_per_epoch=1, epochs=1)#validation_data=val_generator, validation_steps=1)"
      ],
      "execution_count": 0,
      "outputs": [
        {
          "output_type": "stream",
          "text": [
            "WARNING:tensorflow:From C:\\Users\\gjwjd\\AppData\\Local\\Continuum\\anaconda3\\lib\\site-packages\\keras\\backend\\tensorflow_backend.py:422: The name tf.global_variables is deprecated. Please use tf.compat.v1.global_variables instead.\n",
            "\n",
            "Epoch 1/1\n"
          ],
          "name": "stdout"
        }
      ]
    }
  ]
}