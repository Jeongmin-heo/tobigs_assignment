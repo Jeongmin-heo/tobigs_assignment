{
 "cells": [
  {
   "cell_type": "markdown",
   "metadata": {},
   "source": [
    "# KNN으로 Hyperparameter Tuning 이해하기\n",
    "\n",
    "## 0. 데이터 불러오기"
   ]
  },
  {
   "cell_type": "code",
   "execution_count": 1,
   "metadata": {},
   "outputs": [],
   "source": [
    "import pandas as pd\n",
    "import numpy as np\n",
    "import seaborn as sns\n",
    "import matplotlib.pyplot as plt\n",
    "from IPython.core.display import display, HTML \n",
    "from IPython.core.interactiveshell import InteractiveShell\n",
    "from sklearn.model_selection import train_test_split\n",
    "from sklearn.linear_model import LogisticRegression\n",
    "from sklearn import datasets\n",
    "from sklearn.preprocessing import StandardScaler\n",
    "from sklearn.model_selection import KFold, StratifiedKFold\n",
    "from sklearn import metrics\n",
    "from sklearn.metrics import roc_curve, auc, accuracy_score\n",
    "from sklearn.metrics import confusion_matrix, classification_report\n",
    "import warnings\n",
    "warnings.filterwarnings(action='ignore')\n",
    "from sklearn.metrics import *\n",
    "InteractiveShell.ast_node_interactivity = \"all\"\n",
    "from sklearn.datasets import load_iris\n",
    "iris = pd.read_csv('Iris.csv',encoding='utf-8') \n",
    "iris_1 = load_iris()\n",
    "X = iris_1.data\n",
    "y = iris_1.target"
   ]
  },
  {
   "cell_type": "markdown",
   "metadata": {},
   "source": [
    "## 1. Preprocessing / EDA\n",
    "\n",
    "가장 유명한 학습용 데이터인 iris이지만, 사실 저는 제대로 iris를 다뤄본적이 없습니다.... 이렇게 iris를 다뤄볼 기회를 주셔서 감사합니다. 한번 열심히 해보겠습니다. \n",
    "\n",
    "일단 iris data 여기저기 살펴보도록 하겠습니다!"
   ]
  },
  {
   "cell_type": "code",
   "execution_count": 2,
   "metadata": {},
   "outputs": [
    {
     "data": {
      "text/html": [
       "<div>\n",
       "<style scoped>\n",
       "    .dataframe tbody tr th:only-of-type {\n",
       "        vertical-align: middle;\n",
       "    }\n",
       "\n",
       "    .dataframe tbody tr th {\n",
       "        vertical-align: top;\n",
       "    }\n",
       "\n",
       "    .dataframe thead th {\n",
       "        text-align: right;\n",
       "    }\n",
       "</style>\n",
       "<table border=\"1\" class=\"dataframe\">\n",
       "  <thead>\n",
       "    <tr style=\"text-align: right;\">\n",
       "      <th></th>\n",
       "      <th>Id</th>\n",
       "      <th>SepalLengthCm</th>\n",
       "      <th>SepalWidthCm</th>\n",
       "      <th>PetalLengthCm</th>\n",
       "      <th>PetalWidthCm</th>\n",
       "      <th>Species</th>\n",
       "    </tr>\n",
       "  </thead>\n",
       "  <tbody>\n",
       "    <tr>\n",
       "      <td>0</td>\n",
       "      <td>1</td>\n",
       "      <td>5.1</td>\n",
       "      <td>3.5</td>\n",
       "      <td>1.4</td>\n",
       "      <td>0.2</td>\n",
       "      <td>Iris-setosa</td>\n",
       "    </tr>\n",
       "    <tr>\n",
       "      <td>1</td>\n",
       "      <td>2</td>\n",
       "      <td>4.9</td>\n",
       "      <td>3.0</td>\n",
       "      <td>1.4</td>\n",
       "      <td>0.2</td>\n",
       "      <td>Iris-setosa</td>\n",
       "    </tr>\n",
       "    <tr>\n",
       "      <td>2</td>\n",
       "      <td>3</td>\n",
       "      <td>4.7</td>\n",
       "      <td>3.2</td>\n",
       "      <td>1.3</td>\n",
       "      <td>0.2</td>\n",
       "      <td>Iris-setosa</td>\n",
       "    </tr>\n",
       "    <tr>\n",
       "      <td>3</td>\n",
       "      <td>4</td>\n",
       "      <td>4.6</td>\n",
       "      <td>3.1</td>\n",
       "      <td>1.5</td>\n",
       "      <td>0.2</td>\n",
       "      <td>Iris-setosa</td>\n",
       "    </tr>\n",
       "    <tr>\n",
       "      <td>4</td>\n",
       "      <td>5</td>\n",
       "      <td>5.0</td>\n",
       "      <td>3.6</td>\n",
       "      <td>1.4</td>\n",
       "      <td>0.2</td>\n",
       "      <td>Iris-setosa</td>\n",
       "    </tr>\n",
       "  </tbody>\n",
       "</table>\n",
       "</div>"
      ],
      "text/plain": [
       "   Id  SepalLengthCm  SepalWidthCm  PetalLengthCm  PetalWidthCm      Species\n",
       "0   1            5.1           3.5            1.4           0.2  Iris-setosa\n",
       "1   2            4.9           3.0            1.4           0.2  Iris-setosa\n",
       "2   3            4.7           3.2            1.3           0.2  Iris-setosa\n",
       "3   4            4.6           3.1            1.5           0.2  Iris-setosa\n",
       "4   5            5.0           3.6            1.4           0.2  Iris-setosa"
      ]
     },
     "execution_count": 2,
     "metadata": {},
     "output_type": "execute_result"
    },
    {
     "name": "stdout",
     "output_type": "stream",
     "text": [
      "<class 'pandas.core.frame.DataFrame'>\n",
      "RangeIndex: 150 entries, 0 to 149\n",
      "Data columns (total 6 columns):\n",
      "Id               150 non-null int64\n",
      "SepalLengthCm    150 non-null float64\n",
      "SepalWidthCm     150 non-null float64\n",
      "PetalLengthCm    150 non-null float64\n",
      "PetalWidthCm     150 non-null float64\n",
      "Species          150 non-null object\n",
      "dtypes: float64(4), int64(1), object(1)\n",
      "memory usage: 7.2+ KB\n"
     ]
    },
    {
     "data": {
      "text/html": [
       "<div>\n",
       "<style scoped>\n",
       "    .dataframe tbody tr th:only-of-type {\n",
       "        vertical-align: middle;\n",
       "    }\n",
       "\n",
       "    .dataframe tbody tr th {\n",
       "        vertical-align: top;\n",
       "    }\n",
       "\n",
       "    .dataframe thead th {\n",
       "        text-align: right;\n",
       "    }\n",
       "</style>\n",
       "<table border=\"1\" class=\"dataframe\">\n",
       "  <thead>\n",
       "    <tr style=\"text-align: right;\">\n",
       "      <th></th>\n",
       "      <th>Id</th>\n",
       "      <th>SepalLengthCm</th>\n",
       "      <th>SepalWidthCm</th>\n",
       "      <th>PetalLengthCm</th>\n",
       "      <th>PetalWidthCm</th>\n",
       "    </tr>\n",
       "  </thead>\n",
       "  <tbody>\n",
       "    <tr>\n",
       "      <td>count</td>\n",
       "      <td>150.000000</td>\n",
       "      <td>150.000000</td>\n",
       "      <td>150.000000</td>\n",
       "      <td>150.000000</td>\n",
       "      <td>150.000000</td>\n",
       "    </tr>\n",
       "    <tr>\n",
       "      <td>mean</td>\n",
       "      <td>75.500000</td>\n",
       "      <td>5.843333</td>\n",
       "      <td>3.054000</td>\n",
       "      <td>3.758667</td>\n",
       "      <td>1.198667</td>\n",
       "    </tr>\n",
       "    <tr>\n",
       "      <td>std</td>\n",
       "      <td>43.445368</td>\n",
       "      <td>0.828066</td>\n",
       "      <td>0.433594</td>\n",
       "      <td>1.764420</td>\n",
       "      <td>0.763161</td>\n",
       "    </tr>\n",
       "    <tr>\n",
       "      <td>min</td>\n",
       "      <td>1.000000</td>\n",
       "      <td>4.300000</td>\n",
       "      <td>2.000000</td>\n",
       "      <td>1.000000</td>\n",
       "      <td>0.100000</td>\n",
       "    </tr>\n",
       "    <tr>\n",
       "      <td>25%</td>\n",
       "      <td>38.250000</td>\n",
       "      <td>5.100000</td>\n",
       "      <td>2.800000</td>\n",
       "      <td>1.600000</td>\n",
       "      <td>0.300000</td>\n",
       "    </tr>\n",
       "    <tr>\n",
       "      <td>50%</td>\n",
       "      <td>75.500000</td>\n",
       "      <td>5.800000</td>\n",
       "      <td>3.000000</td>\n",
       "      <td>4.350000</td>\n",
       "      <td>1.300000</td>\n",
       "    </tr>\n",
       "    <tr>\n",
       "      <td>75%</td>\n",
       "      <td>112.750000</td>\n",
       "      <td>6.400000</td>\n",
       "      <td>3.300000</td>\n",
       "      <td>5.100000</td>\n",
       "      <td>1.800000</td>\n",
       "    </tr>\n",
       "    <tr>\n",
       "      <td>max</td>\n",
       "      <td>150.000000</td>\n",
       "      <td>7.900000</td>\n",
       "      <td>4.400000</td>\n",
       "      <td>6.900000</td>\n",
       "      <td>2.500000</td>\n",
       "    </tr>\n",
       "  </tbody>\n",
       "</table>\n",
       "</div>"
      ],
      "text/plain": [
       "               Id  SepalLengthCm  SepalWidthCm  PetalLengthCm  PetalWidthCm\n",
       "count  150.000000     150.000000    150.000000     150.000000    150.000000\n",
       "mean    75.500000       5.843333      3.054000       3.758667      1.198667\n",
       "std     43.445368       0.828066      0.433594       1.764420      0.763161\n",
       "min      1.000000       4.300000      2.000000       1.000000      0.100000\n",
       "25%     38.250000       5.100000      2.800000       1.600000      0.300000\n",
       "50%     75.500000       5.800000      3.000000       4.350000      1.300000\n",
       "75%    112.750000       6.400000      3.300000       5.100000      1.800000\n",
       "max    150.000000       7.900000      4.400000       6.900000      2.500000"
      ]
     },
     "execution_count": 2,
     "metadata": {},
     "output_type": "execute_result"
    },
    {
     "data": {
      "text/plain": [
       "Iris-setosa        50\n",
       "Iris-virginica     50\n",
       "Iris-versicolor    50\n",
       "Name: Species, dtype: int64"
      ]
     },
     "execution_count": 2,
     "metadata": {},
     "output_type": "execute_result"
    }
   ],
   "source": [
    "iris.head()\n",
    "iris.info()\n",
    "iris.describe()\n",
    "iris[\"Species\"].value_counts()"
   ]
  },
  {
   "cell_type": "markdown",
   "metadata": {},
   "source": [
    "- 변수명과 의미를 정리하였을 때 다음과 같습니다.\n",
    "\n",
    "|변수명|의미|\n",
    "|-|-|\n",
    "Id|id\n",
    "SepalLengthCm|Length of the sepal (in cm),꽃받침의 길이|\n",
    "SepalWidthCm|Width of the sepal (in cm),꽃받침의 폭|\n",
    "PetalLengthCm|Length of the petal (in cm),꽃잎의 길이|\n",
    "PetalWidthCm|Width of the petal (in cm),꽃잎의 폭|\n",
    "Species|Species name|\n",
    "\n",
    "\n",
    "- iris data는 id를 포함한 6개의 columns으로 구성되어 있습니다.\n",
    "- 직관적으로 봤을때, 변수간 단위의 차이가 두드러지게 있는 것은 아닌 것으로 판단 됩니다. \n",
    "- data의 갯수는 150개 이며, Species를 제외한 데이터가 수치형으로 되어있습니다. \n",
    "- Species를 제외한 나머지 변수들의 평균과 표준편차 등의 정보를 확인 할 수 있었습니다. \n",
    "- Species는 versicolor,setosa,virginica 가 50개씩 균등하게 있음을 확인 할 수 있었습니다.\n",
    "\n",
    "다음으로는 결측치가 있는지 확인해 보도록 하겠습니다. "
   ]
  },
  {
   "cell_type": "code",
   "execution_count": 3,
   "metadata": {},
   "outputs": [
    {
     "data": {
      "text/plain": [
       "Id               0\n",
       "SepalLengthCm    0\n",
       "SepalWidthCm     0\n",
       "PetalLengthCm    0\n",
       "PetalWidthCm     0\n",
       "Species          0\n",
       "dtype: int64"
      ]
     },
     "execution_count": 3,
     "metadata": {},
     "output_type": "execute_result"
    }
   ],
   "source": [
    "iris.isnull().sum(axis=0)"
   ]
  },
  {
   "cell_type": "markdown",
   "metadata": {},
   "source": [
    "결측치가 없는 깔끔한 데이터인 것을 알 수 있습니다. (역시 교육용 데이터)\n",
    "\n",
    "그렇다면 이러한 데이터의 분포를 그래프를 통해 확인해보도록 하겠습니다."
   ]
  },
  {
   "cell_type": "code",
   "execution_count": 4,
   "metadata": {},
   "outputs": [
    {
     "data": {
      "text/plain": [
       "array([[<matplotlib.axes._subplots.AxesSubplot object at 0x000002047927DAC8>,\n",
       "        <matplotlib.axes._subplots.AxesSubplot object at 0x00000204778D0C88>],\n",
       "       [<matplotlib.axes._subplots.AxesSubplot object at 0x00000204797B3288>,\n",
       "        <matplotlib.axes._subplots.AxesSubplot object at 0x00000204797EB3C8>],\n",
       "       [<matplotlib.axes._subplots.AxesSubplot object at 0x00000204798224C8>,\n",
       "        <matplotlib.axes._subplots.AxesSubplot object at 0x000002047985A548>]],\n",
       "      dtype=object)"
      ]
     },
     "execution_count": 4,
     "metadata": {},
     "output_type": "execute_result"
    },
    {
     "data": {
      "image/png": "[encoded data removed]",
      "text/plain": [
       "<Figure size 1440x1080 with 6 Axes>"
      ]
     },
     "metadata": {
      "needs_background": "light"
     },
     "output_type": "display_data"
    }
   ],
   "source": [
    "iris.hist(bins=30,figsize=(20,15)) #figsize를 통해 plot 크기 조절하고 분포를 확인해 보았습니다. \n",
    "plt.show()"
   ]
  },
  {
   "cell_type": "markdown",
   "metadata": {},
   "source": [
    "이번에는 꽃받침과 꽃잎에 대해서 각각 길이와 너비 분포가 어떻게 형성되어있는지 확인해 보도록 하겠습니다. "
   ]
  },
  {
   "cell_type": "code",
   "execution_count": 5,
   "metadata": {},
   "outputs": [
    {
     "data": {
      "text/plain": [
       "<matplotlib.collections.PathCollection at 0x20479b267c8>"
      ]
     },
     "execution_count": 5,
     "metadata": {},
     "output_type": "execute_result"
    },
    {
     "data": {
      "image/png": "[encoded data removed]",
      "text/plain": [
       "<Figure size 432x288 with 1 Axes>"
      ]
     },
     "metadata": {
      "needs_background": "light"
     },
     "output_type": "display_data"
    },
    {
     "data": {
      "text/plain": [
       "<matplotlib.collections.PathCollection at 0x20479b89888>"
      ]
     },
     "execution_count": 5,
     "metadata": {},
     "output_type": "execute_result"
    },
    {
     "data": {
      "image/png": "[encoded data removed]",
      "text/plain": [
       "<Figure size 432x288 with 1 Axes>"
      ]
     },
     "metadata": {
      "needs_background": "light"
     },
     "output_type": "display_data"
    }
   ],
   "source": [
    "plt.scatter(x=iris['SepalLengthCm'],y=iris['SepalWidthCm'])\n",
    "plt.show()\n",
    "\n",
    "plt.scatter(x=iris['PetalLengthCm'],y=iris['PetalWidthCm'])\n",
    "plt.show()"
   ]
  },
  {
   "cell_type": "code",
   "execution_count": 6,
   "metadata": {},
   "outputs": [],
   "source": [
    "iris.data = iris.iloc[:, 1:5]"
   ]
  },
  {
   "cell_type": "markdown",
   "metadata": {},
   "source": [
    "길이와 너비의 관계는 다음과 같이 분류를 하기에 바람직?하게 나눠져있음을 확인 할 수 있습니다.\n",
    "다음은 iris의종류에 따라서 인코딩을 해보도록 하겠습니다 ."
   ]
  },
  {
   "cell_type": "code",
   "execution_count": 7,
   "metadata": {},
   "outputs": [
    {
     "data": {
      "text/plain": [
       "0      1\n",
       "1      1\n",
       "2      1\n",
       "3      1\n",
       "4      1\n",
       "      ..\n",
       "145    2\n",
       "146    2\n",
       "147    2\n",
       "148    2\n",
       "149    2\n",
       "Name: Species, Length: 150, dtype: int64"
      ]
     },
     "execution_count": 7,
     "metadata": {},
     "output_type": "execute_result"
    }
   ],
   "source": [
    "def encoding (x):\n",
    "    if x == 'Iris-versicolor':\n",
    "        return 0\n",
    "    elif x == 'Iris-setosa':\n",
    "        return 1\n",
    "    else:\n",
    "        return 2\n",
    "iris.target = iris.iloc[:,5].apply(encoding)\n",
    "iris.target"
   ]
  },
  {
   "cell_type": "markdown",
   "metadata": {},
   "source": [
    "## 2. GridSearchCV & 3. Evaluation\n",
    "\n",
    "위에서 나누어준 data와 target을 기준으로 0.3 0.7 비율로 train과 test를 나눠주도록 하겠습니다. "
   ]
  },
  {
   "cell_type": "code",
   "execution_count": 8,
   "metadata": {},
   "outputs": [],
   "source": [
    "#iris.data = iris.data.astype(('int'))\n",
    "#iris.target = iris.target.astype(('int'))\n",
    "X_train, X_test, y_train, y_test = train_test_split(iris.data, iris.target, test_size=0.2, random_state=0)"
   ]
  },
  {
   "cell_type": "markdown",
   "metadata": {},
   "source": [
    "grid_search를 진행하기위해 다음과 같이 세팅과정을 거쳤습니다.\n",
    "후보는 위에서 흩어진 정도를 봤을때, 그렇게 많은 k의 개수가 필요한 것은 아닌 것 같다고 판단하여 비교적 작은? k개의 후보를 설정하였고\n",
    "weights는 균등한 voting을 주는 경우와 , weighted knn에 사용되는 distance를 사용하였고\n",
    "군집간의 거리는 euclidean과 manhattan을 후보로 두었습니다. "
   ]
  },
  {
   "cell_type": "code",
   "execution_count": 9,
   "metadata": {},
   "outputs": [],
   "source": [
    "from sklearn.model_selection import GridSearchCV\n",
    "from sklearn.neighbors import KNeighborsClassifier\n",
    "\n",
    "param_grid = {\n",
    "    'n_neighbors' : [3,5,7,9,11,13,15,17,19],\n",
    "    'weights' : ['uniform','distance'],\n",
    "    'metric' : ['euclidean', 'manhattan'] \n",
    "}\n",
    "\n",
    "grid_search = GridSearchCV(\n",
    "    KNeighborsClassifier(),\n",
    "    param_grid,\n",
    "    verbose = 1,\n",
    "    cv = 3,\n",
    "    n_jobs = -1\n",
    ")"
   ]
  },
  {
   "cell_type": "code",
   "execution_count": 10,
   "metadata": {},
   "outputs": [
    {
     "name": "stdout",
     "output_type": "stream",
     "text": [
      "Fitting 3 folds for each of 36 candidates, totalling 108 fits\n"
     ]
    },
    {
     "name": "stderr",
     "output_type": "stream",
     "text": [
      "[Parallel(n_jobs=-1)]: Using backend LokyBackend with 8 concurrent workers.\n",
      "[Parallel(n_jobs=-1)]: Done  34 tasks      | elapsed:    2.8s\n",
      "[Parallel(n_jobs=-1)]: Done 108 out of 108 | elapsed:    2.9s finished\n"
     ]
    }
   ],
   "source": [
    "gs_results = grid_search.fit(X_train,y_train) #train set에 대해서 grid search를 진행하였습니다. "
   ]
  },
  {
   "cell_type": "code",
   "execution_count": 11,
   "metadata": {},
   "outputs": [
    {
     "name": "stdout",
     "output_type": "stream",
     "text": [
      "가장 좋은 결과를 얻는 그리드 : {'metric': 'euclidean', 'n_neighbors': 5, 'weights': 'distance'}\n",
      "Best Cross-validatiy Score는 : 0.9666666666666667\n",
      "test에 대해 grid_seach 알고리즘을 적용하면 : 1.0\n"
     ]
    }
   ],
   "source": [
    "print(\"가장 좋은 결과를 얻는 그리드 : {}\".format(gs_results.best_params_))\n",
    "print(\"Best Cross-validatiy Score는 : {}\".format(gs_results.best_score_))\n",
    "print(\"test에 대해 grid_seach 알고리즘을 적용하면 : {}\".format(gs_results.score(X_test,y_test)))"
   ]
  },
  {
   "cell_type": "markdown",
   "metadata": {},
   "source": [
    "test에 대해 grid_search 알고리즘을 적용하면 1에 가까울정도로 높은 수준으로 점수가 나오는 것을 확인 할 수 있었습니다. \n",
    "추가적으로 꽃잎과 꽃받침 분포도 나누어 보았습니다. 위와 동일하게  train set과 train set 0.7 : 0.3 비율로 분리하였습니다. "
   ]
  },
  {
   "cell_type": "code",
   "execution_count": 12,
   "metadata": {},
   "outputs": [],
   "source": [
    "X_train_Sepal, X_test_Sepal, y_train_Sepal, y_test_Sepal = train_test_split(iris.iloc[:, [1]], iris.iloc[:, [2]], test_size=0.3, random_state=0)\n",
    "X_train_Petal, X_test_Petal, y_train_Petal, y_test_Petal = train_test_split(iris.iloc[:, [3]], iris.iloc[:, [4]], test_size=0.3, random_state=0)\n",
    "# Unknown label type: 'continuous'라는 에러를 해결하기 위해서 int로 type을 변화시켜 주었습니다. 원래 연속적인 데이터인거 같은데... 왜인지는 모르겠습니다. \n",
    "X_train_Sepal = X_train_Sepal.astype(('int'))\n",
    "X_test_Sepal  = X_test_Sepal.astype(('int'))\n",
    "\n",
    "y_train_Sepal = y_train_Sepal.astype(('int'))\n",
    "y_test_Sepal = y_test_Sepal.astype(('int'))\n",
    "\n",
    "X_train_Petal = X_train_Petal.astype(('int'))\n",
    "X_test_Petal= X_test_Petal.astype(('int'))\n",
    "\n",
    "y_train_Petal = y_train_Petal.astype(('int'))\n",
    "y_test_Petal= y_test_Petal.astype(('int'))"
   ]
  },
  {
   "cell_type": "code",
   "execution_count": 13,
   "metadata": {},
   "outputs": [],
   "source": [
    "param_grid = {\n",
    "    'n_neighbors' : [3,5,7,9,11,13,15,17,19],\n",
    "    'weights' : ['uniform','distance'],\n",
    "    'metric' : ['euclidean', 'manhattan'] \n",
    "}\n",
    "\n",
    "grid_search = GridSearchCV(\n",
    "    KNeighborsClassifier(),\n",
    "    param_grid,\n",
    "    verbose = 1,\n",
    "    cv = 3,\n",
    "    n_jobs = -1\n",
    ")"
   ]
  },
  {
   "cell_type": "code",
   "execution_count": 14,
   "metadata": {},
   "outputs": [
    {
     "name": "stderr",
     "output_type": "stream",
     "text": [
      "[Parallel(n_jobs=-1)]: Using backend LokyBackend with 8 concurrent workers.\n"
     ]
    },
    {
     "name": "stdout",
     "output_type": "stream",
     "text": [
      "Fitting 3 folds for each of 36 candidates, totalling 108 fits\n"
     ]
    },
    {
     "name": "stderr",
     "output_type": "stream",
     "text": [
      "[Parallel(n_jobs=-1)]: Done 108 out of 108 | elapsed:    0.1s finished\n"
     ]
    }
   ],
   "source": [
    "gs_results_Sepal = grid_search.fit(X_train_Sepal,y_train_Sepal) #Sepal에 대해서도 grid search를 진행하였습니다. "
   ]
  },
  {
   "cell_type": "code",
   "execution_count": 15,
   "metadata": {},
   "outputs": [
    {
     "name": "stderr",
     "output_type": "stream",
     "text": [
      "[Parallel(n_jobs=-1)]: Using backend LokyBackend with 8 concurrent workers.\n"
     ]
    },
    {
     "name": "stdout",
     "output_type": "stream",
     "text": [
      "Fitting 3 folds for each of 36 candidates, totalling 108 fits\n"
     ]
    },
    {
     "name": "stderr",
     "output_type": "stream",
     "text": [
      "[Parallel(n_jobs=-1)]: Done 108 out of 108 | elapsed:    0.1s finished\n"
     ]
    }
   ],
   "source": [
    "gs_results_Petal = grid_search.fit(X_train_Petal,y_train_Petal) #Petal에 대해서도 역시 grid search를 진행하였습니다. "
   ]
  },
  {
   "cell_type": "markdown",
   "metadata": {},
   "source": [
    "일단 모두 같은 Fitting 3 folds for each of 36 candidates, totalling 108 fits로 나타나고 있는데 Evaluation을 해보도록 하겠습니다. "
   ]
  },
  {
   "cell_type": "markdown",
   "metadata": {},
   "source": [
    "결과는 다음과 같습니다"
   ]
  },
  {
   "cell_type": "code",
   "execution_count": 16,
   "metadata": {},
   "outputs": [
    {
     "name": "stdout",
     "output_type": "stream",
     "text": [
      "가장 좋은 결과를 얻는 그리드: {'metric': 'euclidean', 'n_neighbors': 5, 'weights': 'uniform'}\n",
      "Best Cross-validatiy Score: 0.8666666666666667\n",
      "test에 대해 grid_seach 알고리즘을 적용하면: 0.28888888888888886\n"
     ]
    }
   ],
   "source": [
    "print(\"가장 좋은 결과를 얻는 그리드: {}\".format(gs_results_Sepal.best_params_))\n",
    "print(\"Best Cross-validatiy Score: {}\".format(gs_results_Sepal.best_score_))\n",
    "print(\"test에 대해 grid_seach 알고리즘을 적용하면: {}\".format(gs_results_Sepal.score(X_test_Sepal,y_test_Sepal)))"
   ]
  },
  {
   "cell_type": "code",
   "execution_count": 17,
   "metadata": {},
   "outputs": [
    {
     "name": "stdout",
     "output_type": "stream",
     "text": [
      "가장 좋은 결과를 얻는 그리드: {'metric': 'euclidean', 'n_neighbors': 5, 'weights': 'uniform'}\n",
      "Best Cross-validatiy Score: 0.8666666666666667\n",
      "test에 대해 grid_seach 알고리즘을 적용하면 Test Score: 0.8666666666666667\n"
     ]
    }
   ],
   "source": [
    "print(\"가장 좋은 결과를 얻는 그리드: {}\".format(gs_results_Petal.best_params_))\n",
    "print(\"Best Cross-validatiy Score: {}\".format(gs_results_Petal.best_score_))\n",
    "print(\"test에 대해 grid_seach 알고리즘을 적용하면 Test Score: {}\".format(gs_results_Petal.score(X_test_Petal,y_test_Petal)))"
   ]
  },
  {
   "cell_type": "markdown",
   "metadata": {},
   "source": [
    "알고리즘을 적용하였을때 점수가 매우 떨어지는 것을 확인할 수 있었고, petal에 대해서는 높은수준의 점수가 나타나는 것을 확인할 수 있었습니다. "
   ]
  }
 ],
 "metadata": {
  "kernelspec": {
   "display_name": "Python 3",
   "language": "python",
   "name": "python3"
  },
  "language_info": {
   "codemirror_mode": {
    "name": "ipython",
    "version": 3
   },
   "file_extension": ".py",
   "mimetype": "text/x-python",
   "name": "python",
   "nbconvert_exporter": "python",
   "pygments_lexer": "ipython3",
   "version": "3.7.4"
  }
 },
 "nbformat": 4,
 "nbformat_minor": 4
}
