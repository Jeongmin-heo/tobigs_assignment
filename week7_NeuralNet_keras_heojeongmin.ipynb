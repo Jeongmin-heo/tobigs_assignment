{
  "nbformat": 4,
  "nbformat_minor": 0,
  "metadata": {
    "colab": {
      "name": "week7_NeuralNet_keras_heojeongmin.ipynb의 사본",
      "provenance": [],
      "collapsed_sections": []
    },
    "kernelspec": {
      "name": "python3",
      "display_name": "Python 3"
    },
    "accelerator": "GPU"
  },
  "cells": [
    {
      "cell_type": "code",
      "metadata": {
        "id": "kxX3rLBR9zfv",
        "colab_type": "code",
        "outputId": "a984f962-04f3-4c09-8197-26e3ccf8468d",
        "colab": {
          "base_uri": "https://localhost:8080/",
          "height": 35
        }
      },
      "source": [
        "cd /content/drive/My Drive/FireFriday"
      ],
      "execution_count": 0,
      "outputs": [
        {
          "output_type": "stream",
          "text": [
            "/content/drive/My Drive/FireFriday\n"
          ],
          "name": "stdout"
        }
      ]
    },
    {
      "cell_type": "code",
      "metadata": {
        "id": "x8JQhWlzAfj_",
        "colab_type": "code",
        "outputId": "bb8686d3-9665-4b62-c97c-da521e5ded55",
        "colab": {
          "base_uri": "https://localhost:8080/",
          "height": 88
        }
      },
      "source": [
        "ls"
      ],
      "execution_count": 0,
      "outputs": [
        {
          "output_type": "stream",
          "text": [
            "FireKeras.ipynb       sample_submission.csv  train_df.csv\n",
            "FirePytorch.ipynb     test_df.csv            train_df.csv.zip\n",
            "kaggle.json           test_df.csv.zip\n",
            "radam_submission.csv  torch_submission.csv\n"
          ],
          "name": "stdout"
        }
      ]
    },
    {
      "cell_type": "code",
      "metadata": {
        "id": "wF-afBJc-bA7",
        "colab_type": "code",
        "outputId": "f0992742-cf60-484c-91df-6afde07867a6",
        "colab": {
          "base_uri": "https://localhost:8080/",
          "height": 82
        }
      },
      "source": [
        "%matplotlib inline\n",
        "from keras.models import Sequential, load_model\n",
        "from keras import regularizers\n",
        "from keras.preprocessing.image import ImageDataGenerator\n",
        "from keras.layers.convolutional import Conv2D, MaxPooling2D\n",
        "from keras.layers.normalization import BatchNormalization\n",
        "from keras.layers import LeakyReLU\n",
        "from keras.callbacks import ModelCheckpoint,History,EarlyStopping,LearningRateScheduler\n",
        "from keras.layers.core import Dense, Dropout, Activation, Flatten\n",
        "from keras.optimizers import Adam, Adadelta, RMSprop\n",
        "import matplotlib.pyplot as plt\n",
        "import numpy as np\n",
        "import pandas as pd\n",
        "\n",
        "sample_submission = pd.read_csv(\"sample_submission.csv\")\n",
        "data = pd.read_csv(\"train_df.csv\")\n",
        "test_data = pd.read_csv(\"test_df.csv\")\n",
        "        "
      ],
      "execution_count": 0,
      "outputs": [
        {
          "output_type": "stream",
          "text": [
            "Using TensorFlow backend.\n"
          ],
          "name": "stderr"
        },
        {
          "output_type": "display_data",
          "data": {
            "text/html": [
              "<p style=\"color: red;\">\n",
              "The default version of TensorFlow in Colab will soon switch to TensorFlow 2.x.<br>\n",
              "We recommend you <a href=\"https://www.tensorflow.org/guide/migrate\" target=\"_blank\">upgrade</a> now \n",
              "or ensure your notebook will continue to use TensorFlow 1.x via the <code>%tensorflow_version 1.x</code> magic:\n",
              "<a href=\"https://colab.research.google.com/notebooks/tensorflow_version.ipynb\" target=\"_blank\">more info</a>.</p>\n"
            ],
            "text/plain": [
              "<IPython.core.display.HTML object>"
            ]
          },
          "metadata": {
            "tags": []
          }
        }
      ]
    },
    {
      "cell_type": "markdown",
      "metadata": {
        "id": "jIx-YqQiCuio",
        "colab_type": "text"
      },
      "source": [
        "#데이터 나누기"
      ]
    },
    {
      "cell_type": "code",
      "metadata": {
        "id": "xBULMgXxCKrX",
        "colab_type": "code",
        "outputId": "ac17068c-8091-4138-b5d7-4c4718bffa8f",
        "colab": {
          "base_uri": "https://localhost:8080/",
          "height": 141
        }
      },
      "source": [
        "train = data[:]\n",
        "val = data[37000:]\n",
        "train_label = np.float32(train.label)\n",
        "val_label = np.float32(val.label)\n",
        "train_image = np.float32(train[train.columns[1:]])\n",
        "val_image = np.float32(val[val.columns[1:]])\n",
        "test_image = np.float32(test_data[test_data.columns[1:]])\n",
        "print('train shape: %s'%str(train.shape))\n",
        "print('val shape: %s'%str(val.shape))\n",
        "print('train_label shape: %s'%str(train_label.shape))\n",
        "print('val_label shape: %s'%str(val_label.shape))\n",
        "print('train_image shape: %s'%str(train_image.shape))\n",
        "print('val_image shape: %s'%str(val_image.shape))\n",
        "print('test_image shape: %s'%str(test_image.shape))"
      ],
      "execution_count": 0,
      "outputs": [
        {
          "output_type": "stream",
          "text": [
            "train shape: (42000, 785)\n",
            "val shape: (5000, 785)\n",
            "train_label shape: (42000,)\n",
            "val_label shape: (5000,)\n",
            "train_image shape: (42000, 784)\n",
            "val_image shape: (5000, 784)\n",
            "test_image shape: (18000, 784)\n"
          ],
          "name": "stdout"
        }
      ]
    },
    {
      "cell_type": "markdown",
      "metadata": {
        "id": "gMsxCT6iDEBA",
        "colab_type": "text"
      },
      "source": [
        "# One-hot encode 만들기"
      ]
    },
    {
      "cell_type": "code",
      "metadata": {
        "id": "vYiLZH2NCxyt",
        "colab_type": "code",
        "outputId": "a4325644-6628-4dae-9fd3-85c2c2c35283",
        "colab": {
          "base_uri": "https://localhost:8080/",
          "height": 52
        }
      },
      "source": [
        "datagen = ImageDataGenerator(\n",
        "    rotation_range=10,\n",
        "    width_shift_range=0.2,\n",
        "    height_shift_range=0.2,\n",
        "    shear_range = 10,\n",
        "    horizontal_flip = False,\n",
        "    zoom_range = 0.15)\n",
        "\n",
        "# one-hot coding\n",
        "from sklearn.preprocessing import OneHotEncoder\n",
        "\n",
        "encoder = OneHotEncoder(sparse=False,categories='auto')\n",
        "yy = [[0],[1],[2],[3],[4],[5],[6],[7],[8],[9]]\n",
        "encoder.fit(yy)\n",
        "# transform\n",
        "train_label = train_label.reshape(-1,1)\n",
        "val_label = val_label.reshape(-1,1)\n",
        "\n",
        "train_label = encoder.transform(train_label)\n",
        "val_label = encoder.transform(val_label)\n",
        "\n",
        "print('train_label shape: %s'%str(train_label.shape))\n",
        "print('val_label shape: %s'%str(val_label.shape))"
      ],
      "execution_count": 0,
      "outputs": [
        {
          "output_type": "stream",
          "text": [
            "train_label shape: (42000, 10)\n",
            "val_label shape: (5000, 10)\n"
          ],
          "name": "stdout"
        }
      ]
    },
    {
      "cell_type": "markdown",
      "metadata": {
        "id": "Gz9Yhf5mM19R",
        "colab_type": "text"
      },
      "source": [
        "#Image 변환"
      ]
    },
    {
      "cell_type": "code",
      "metadata": {
        "id": "ck60viozDDh_",
        "colab_type": "code",
        "outputId": "6dceed3b-e233-4f5c-9bb1-f68c889c3ea5",
        "colab": {
          "base_uri": "https://localhost:8080/",
          "height": 336
        }
      },
      "source": [
        "plt.imshow(train_image[13].reshape(28,28))\n",
        "plt.show()\n",
        "print(train_image[13].shape)\n",
        "\n",
        "train_image = train_image/255.0\n",
        "val_image = val_image/255.0\n",
        "test_image = test_image/255.0\n",
        "\n",
        "train_image = train_image.reshape(train_image.shape[0],28,28,1)\n",
        "val_image = val_image.reshape(val_image.shape[0],28,28,1)\n",
        "test_image = test_image.reshape(test_image.shape[0],28,28,1)\n",
        "print('train_image shape: %s'%str(train_image.shape))\n",
        "\n",
        "print('train_image shape: %s'%str(train_image.shape))\n",
        "print('val_image shape: %s'%str(val_image.shape))"
      ],
      "execution_count": 0,
      "outputs": [
        {
          "output_type": "display_data",
          "data": {
            "image/png": "[encoded data removed]",
            "text/plain": [
              "<Figure size 432x288 with 1 Axes>"
            ]
          },
          "metadata": {
            "tags": []
          }
        },
        {
          "output_type": "stream",
          "text": [
            "(784,)\n",
            "train_image shape: (42000, 28, 28, 1)\n",
            "train_image shape: (42000, 28, 28, 1)\n",
            "val_image shape: (5000, 28, 28, 1)\n"
          ],
          "name": "stdout"
        }
      ]
    },
    {
      "cell_type": "markdown",
      "metadata": {
        "id": "wRqLvQ3VM7_S",
        "colab_type": "text"
      },
      "source": [
        "#모델 만들기"
      ]
    },
    {
      "cell_type": "code",
      "metadata": {
        "id": "Aibphwk7M0S9",
        "colab_type": "code",
        "outputId": "76c7a060-52ad-464c-97a9-e2904fc854f7",
        "colab": {
          "base_uri": "https://localhost:8080/",
          "height": 1000
        }
      },
      "source": [
        "model = Sequential()\n",
        "\n",
        "model.add(Conv2D(64, kernel_size=3, activation='relu', input_shape=(28, 28, 1),padding='same'))\n",
        "model.add(BatchNormalization(momentum=0.9, epsilon=1e-5, gamma_initializer=\"uniform\"))\n",
        "model.add(LeakyReLU(alpha=0.1))\n",
        "model.add(Conv2D(64, kernel_size=3, activation='relu',padding='same'))\n",
        "model.add(BatchNormalization(momentum=0.9, epsilon=1e-5, gamma_initializer=\"uniform\"))\n",
        "model.add(LeakyReLU(alpha=0.1))\n",
        "model.add(Conv2D(64, kernel_size=5, padding='same', activation='relu'))\n",
        "model.add(BatchNormalization(momentum=0.9, epsilon=1e-5, gamma_initializer=\"uniform\"))\n",
        "model.add(LeakyReLU(alpha=0.1))\n",
        "model.add(MaxPooling2D(pool_size=(2, 2)))\n",
        "model.add(Dropout(0.3))\n",
        "\n",
        "model.add(Conv2D(128, kernel_size=5, activation='relu',padding='same'))\n",
        "model.add(BatchNormalization(momentum=0.9, epsilon=1e-5, gamma_initializer=\"uniform\"))\n",
        "model.add(LeakyReLU(alpha=0.1))\n",
        "model.add(Conv2D(128, kernel_size=5, activation='relu',padding='same'))\n",
        "model.add(BatchNormalization(momentum=0.9, epsilon=1e-5, gamma_initializer=\"uniform\"))\n",
        "model.add(LeakyReLU(alpha=0.1))\n",
        "model.add(Conv2D(128, kernel_size=5, padding='same', activation='relu'))\n",
        "model.add(BatchNormalization(momentum=0.9, epsilon=1e-5, gamma_initializer=\"uniform\"))\n",
        "model.add(LeakyReLU(alpha=0.1))\n",
        "model.add(MaxPooling2D(pool_size=(2, 2)))\n",
        "model.add(Dropout(0.3))\n",
        "\n",
        "model.add(Conv2D(256, kernel_size=5, activation='relu',padding='same'))\n",
        "model.add(BatchNormalization(momentum=0.9, epsilon=1e-5, gamma_initializer=\"uniform\"))\n",
        "model.add(LeakyReLU(alpha=0.1))\n",
        "model.add(MaxPooling2D(pool_size=(2, 2)))\n",
        "model.add(Dropout(0.3))\n",
        "\n",
        "model.add(Flatten())\n",
        "model.add(Dense(256,kernel_regularizer=regularizers.l2(0.02)))\n",
        "model.add(BatchNormalization(momentum=0.9, epsilon=1e-5, gamma_initializer=\"uniform\"))\n",
        "model.add(Dropout(0.3))\n",
        "model.add(Dense(256,kernel_regularizer=regularizers.l2(0.02)))\n",
        "model.add(BatchNormalization(momentum=0.9, epsilon=1e-5, gamma_initializer=\"uniform\"))\n",
        "model.add(Dropout(0.3))\n",
        "model.add(Dense(512,kernel_regularizer=regularizers.l2(0.02)))\n",
        "model.add(BatchNormalization(momentum=0.9, epsilon=1e-5, gamma_initializer=\"uniform\"))\n",
        "model.add(Dropout(0.3))\n",
        "model.add(Dense(10, activation='softmax'))\n",
        "\n",
        "model.summary()"
      ],
      "execution_count": 0,
      "outputs": [
        {
          "output_type": "stream",
          "text": [
            "WARNING:tensorflow:From /usr/local/lib/python3.6/dist-packages/keras/backend/tensorflow_backend.py:66: The name tf.get_default_graph is deprecated. Please use tf.compat.v1.get_default_graph instead.\n",
            "\n",
            "WARNING:tensorflow:From /usr/local/lib/python3.6/dist-packages/keras/backend/tensorflow_backend.py:541: The name tf.placeholder is deprecated. Please use tf.compat.v1.placeholder instead.\n",
            "\n",
            "WARNING:tensorflow:From /usr/local/lib/python3.6/dist-packages/keras/backend/tensorflow_backend.py:4432: The name tf.random_uniform is deprecated. Please use tf.random.uniform instead.\n",
            "\n",
            "WARNING:tensorflow:From /usr/local/lib/python3.6/dist-packages/keras/backend/tensorflow_backend.py:190: The name tf.get_default_session is deprecated. Please use tf.compat.v1.get_default_session instead.\n",
            "\n",
            "WARNING:tensorflow:From /usr/local/lib/python3.6/dist-packages/keras/backend/tensorflow_backend.py:197: The name tf.ConfigProto is deprecated. Please use tf.compat.v1.ConfigProto instead.\n",
            "\n",
            "WARNING:tensorflow:From /usr/local/lib/python3.6/dist-packages/keras/backend/tensorflow_backend.py:203: The name tf.Session is deprecated. Please use tf.compat.v1.Session instead.\n",
            "\n",
            "WARNING:tensorflow:From /usr/local/lib/python3.6/dist-packages/keras/backend/tensorflow_backend.py:207: The name tf.global_variables is deprecated. Please use tf.compat.v1.global_variables instead.\n",
            "\n",
            "WARNING:tensorflow:From /usr/local/lib/python3.6/dist-packages/keras/backend/tensorflow_backend.py:216: The name tf.is_variable_initialized is deprecated. Please use tf.compat.v1.is_variable_initialized instead.\n",
            "\n",
            "WARNING:tensorflow:From /usr/local/lib/python3.6/dist-packages/keras/backend/tensorflow_backend.py:223: The name tf.variables_initializer is deprecated. Please use tf.compat.v1.variables_initializer instead.\n",
            "\n",
            "WARNING:tensorflow:From /usr/local/lib/python3.6/dist-packages/keras/backend/tensorflow_backend.py:2041: The name tf.nn.fused_batch_norm is deprecated. Please use tf.compat.v1.nn.fused_batch_norm instead.\n",
            "\n",
            "WARNING:tensorflow:From /usr/local/lib/python3.6/dist-packages/keras/backend/tensorflow_backend.py:148: The name tf.placeholder_with_default is deprecated. Please use tf.compat.v1.placeholder_with_default instead.\n",
            "\n",
            "WARNING:tensorflow:From /usr/local/lib/python3.6/dist-packages/keras/backend/tensorflow_backend.py:4267: The name tf.nn.max_pool is deprecated. Please use tf.nn.max_pool2d instead.\n",
            "\n",
            "WARNING:tensorflow:From /usr/local/lib/python3.6/dist-packages/keras/backend/tensorflow_backend.py:3733: calling dropout (from tensorflow.python.ops.nn_ops) with keep_prob is deprecated and will be removed in a future version.\n",
            "Instructions for updating:\n",
            "Please use `rate` instead of `keep_prob`. Rate should be set to `rate = 1 - keep_prob`.\n",
            "Model: \"sequential_1\"\n",
            "_________________________________________________________________\n",
            "Layer (type)                 Output Shape              Param #   \n",
            "=================================================================\n",
            "conv2d_1 (Conv2D)            (None, 28, 28, 64)        640       \n",
            "_________________________________________________________________\n",
            "batch_normalization_1 (Batch (None, 28, 28, 64)        256       \n",
            "_________________________________________________________________\n",
            "leaky_re_lu_1 (LeakyReLU)    (None, 28, 28, 64)        0         \n",
            "_________________________________________________________________\n",
            "conv2d_2 (Conv2D)            (None, 28, 28, 64)        36928     \n",
            "_________________________________________________________________\n",
            "batch_normalization_2 (Batch (None, 28, 28, 64)        256       \n",
            "_________________________________________________________________\n",
            "leaky_re_lu_2 (LeakyReLU)    (None, 28, 28, 64)        0         \n",
            "_________________________________________________________________\n",
            "conv2d_3 (Conv2D)            (None, 28, 28, 64)        102464    \n",
            "_________________________________________________________________\n",
            "batch_normalization_3 (Batch (None, 28, 28, 64)        256       \n",
            "_________________________________________________________________\n",
            "leaky_re_lu_3 (LeakyReLU)    (None, 28, 28, 64)        0         \n",
            "_________________________________________________________________\n",
            "max_pooling2d_1 (MaxPooling2 (None, 14, 14, 64)        0         \n",
            "_________________________________________________________________\n",
            "dropout_1 (Dropout)          (None, 14, 14, 64)        0         \n",
            "_________________________________________________________________\n",
            "conv2d_4 (Conv2D)            (None, 14, 14, 128)       204928    \n",
            "_________________________________________________________________\n",
            "batch_normalization_4 (Batch (None, 14, 14, 128)       512       \n",
            "_________________________________________________________________\n",
            "leaky_re_lu_4 (LeakyReLU)    (None, 14, 14, 128)       0         \n",
            "_________________________________________________________________\n",
            "conv2d_5 (Conv2D)            (None, 14, 14, 128)       409728    \n",
            "_________________________________________________________________\n",
            "batch_normalization_5 (Batch (None, 14, 14, 128)       512       \n",
            "_________________________________________________________________\n",
            "leaky_re_lu_5 (LeakyReLU)    (None, 14, 14, 128)       0         \n",
            "_________________________________________________________________\n",
            "conv2d_6 (Conv2D)            (None, 14, 14, 128)       409728    \n",
            "_________________________________________________________________\n",
            "batch_normalization_6 (Batch (None, 14, 14, 128)       512       \n",
            "_________________________________________________________________\n",
            "leaky_re_lu_6 (LeakyReLU)    (None, 14, 14, 128)       0         \n",
            "_________________________________________________________________\n",
            "max_pooling2d_2 (MaxPooling2 (None, 7, 7, 128)         0         \n",
            "_________________________________________________________________\n",
            "dropout_2 (Dropout)          (None, 7, 7, 128)         0         \n",
            "_________________________________________________________________\n",
            "conv2d_7 (Conv2D)            (None, 7, 7, 256)         819456    \n",
            "_________________________________________________________________\n",
            "batch_normalization_7 (Batch (None, 7, 7, 256)         1024      \n",
            "_________________________________________________________________\n",
            "leaky_re_lu_7 (LeakyReLU)    (None, 7, 7, 256)         0         \n",
            "_________________________________________________________________\n",
            "max_pooling2d_3 (MaxPooling2 (None, 3, 3, 256)         0         \n",
            "_________________________________________________________________\n",
            "dropout_3 (Dropout)          (None, 3, 3, 256)         0         \n",
            "_________________________________________________________________\n",
            "flatten_1 (Flatten)          (None, 2304)              0         \n",
            "_________________________________________________________________\n",
            "dense_1 (Dense)              (None, 256)               590080    \n",
            "_________________________________________________________________\n",
            "batch_normalization_8 (Batch (None, 256)               1024      \n",
            "_________________________________________________________________\n",
            "dropout_4 (Dropout)          (None, 256)               0         \n",
            "_________________________________________________________________\n",
            "dense_2 (Dense)              (None, 256)               65792     \n",
            "_________________________________________________________________\n",
            "batch_normalization_9 (Batch (None, 256)               1024      \n",
            "_________________________________________________________________\n",
            "dropout_5 (Dropout)          (None, 256)               0         \n",
            "_________________________________________________________________\n",
            "dense_3 (Dense)              (None, 512)               131584    \n",
            "_________________________________________________________________\n",
            "batch_normalization_10 (Batc (None, 512)               2048      \n",
            "_________________________________________________________________\n",
            "dropout_6 (Dropout)          (None, 512)               0         \n",
            "_________________________________________________________________\n",
            "dense_4 (Dense)              (None, 10)                5130      \n",
            "=================================================================\n",
            "Total params: 2,783,882\n",
            "Trainable params: 2,780,170\n",
            "Non-trainable params: 3,712\n",
            "_________________________________________________________________\n"
          ],
          "name": "stdout"
        }
      ]
    },
    {
      "cell_type": "code",
      "metadata": {
        "id": "IRL3rL_rM7D7",
        "colab_type": "code",
        "colab": {}
      },
      "source": [
        "BATCH_SIZE = 512\n",
        "EPOCHS = 60"
      ],
      "execution_count": 0,
      "outputs": []
    },
    {
      "cell_type": "markdown",
      "metadata": {
        "id": "M8zUXDUhNEfp",
        "colab_type": "text"
      },
      "source": [
        "#Training"
      ]
    },
    {
      "cell_type": "code",
      "metadata": {
        "id": "xzrT4dGjNCHR",
        "colab_type": "code",
        "outputId": "e9322a8a-6cb5-4ee1-9780-b7cfd84d11da",
        "colab": {
          "base_uri": "https://localhost:8080/",
          "height": 1000
        }
      },
      "source": [
        "model.compile(loss='categorical_crossentropy',optimizer=Adadelta(),metrics=['accuracy'])\n",
        "# fit data\n",
        "datagen.fit(train_image)\n",
        "\n",
        "# training\n",
        "history = model.fit_generator(datagen.flow(train_image,train_label, batch_size=BATCH_SIZE),\n",
        "                              epochs = EPOCHS,\n",
        "                              shuffle=True,\n",
        "                              validation_data = (val_image,val_label),\n",
        "                              verbose = 1,\n",
        "                              steps_per_epoch=train_image.shape[0] // BATCH_SIZE)"
      ],
      "execution_count": 0,
      "outputs": [
        {
          "output_type": "stream",
          "text": [
            "WARNING:tensorflow:From /usr/local/lib/python3.6/dist-packages/keras/optimizers.py:793: The name tf.train.Optimizer is deprecated. Please use tf.compat.v1.train.Optimizer instead.\n",
            "\n",
            "WARNING:tensorflow:From /usr/local/lib/python3.6/dist-packages/keras/backend/tensorflow_backend.py:3576: The name tf.log is deprecated. Please use tf.math.log instead.\n",
            "\n",
            "WARNING:tensorflow:From /tensorflow-1.15.0/python3.6/tensorflow_core/python/ops/math_grad.py:1424: where (from tensorflow.python.ops.array_ops) is deprecated and will be removed in a future version.\n",
            "Instructions for updating:\n",
            "Use tf.where in 2.0, which has the same broadcast rule as np.where\n",
            "WARNING:tensorflow:From /usr/local/lib/python3.6/dist-packages/keras/backend/tensorflow_backend.py:1033: The name tf.assign_add is deprecated. Please use tf.compat.v1.assign_add instead.\n",
            "\n",
            "WARNING:tensorflow:From /usr/local/lib/python3.6/dist-packages/keras/backend/tensorflow_backend.py:1020: The name tf.assign is deprecated. Please use tf.compat.v1.assign instead.\n",
            "\n",
            "Epoch 1/60\n",
            "82/82 [==============================] - 38s 457ms/step - loss: 6.7414 - acc: 0.6573 - val_loss: 0.9107 - val_acc: 0.9678\n",
            "Epoch 2/60\n",
            "82/82 [==============================] - 26s 319ms/step - loss: 0.4471 - acc: 0.9570 - val_loss: 0.1623 - val_acc: 0.9912\n",
            "Epoch 3/60\n",
            "82/82 [==============================] - 26s 317ms/step - loss: 0.2100 - acc: 0.9691 - val_loss: 0.1131 - val_acc: 0.9928\n",
            "Epoch 4/60\n",
            "82/82 [==============================] - 26s 316ms/step - loss: 0.1481 - acc: 0.9800 - val_loss: 0.0697 - val_acc: 0.9942\n",
            "Epoch 5/60\n",
            "82/82 [==============================] - 26s 317ms/step - loss: 0.1282 - acc: 0.9821 - val_loss: 0.0728 - val_acc: 0.9918\n",
            "Epoch 6/60\n",
            "82/82 [==============================] - 26s 318ms/step - loss: 0.1242 - acc: 0.9813 - val_loss: 0.0656 - val_acc: 0.9938\n",
            "Epoch 7/60\n",
            "82/82 [==============================] - 26s 319ms/step - loss: 0.1197 - acc: 0.9815 - val_loss: 8.2153 - val_acc: 0.1202\n",
            "Epoch 8/60\n",
            "82/82 [==============================] - 26s 312ms/step - loss: 0.1338 - acc: 0.9792 - val_loss: 0.0762 - val_acc: 0.9972\n",
            "Epoch 9/60\n",
            "82/82 [==============================] - 26s 317ms/step - loss: 0.0890 - acc: 0.9890 - val_loss: 0.0475 - val_acc: 0.9960\n",
            "Epoch 10/60\n",
            "82/82 [==============================] - 26s 316ms/step - loss: 0.1286 - acc: 0.9817 - val_loss: 0.0624 - val_acc: 0.9946\n",
            "Epoch 11/60\n",
            "82/82 [==============================] - 26s 317ms/step - loss: 0.1002 - acc: 0.9870 - val_loss: 0.0802 - val_acc: 0.9908\n",
            "Epoch 12/60\n",
            "82/82 [==============================] - 26s 317ms/step - loss: 0.1057 - acc: 0.9851 - val_loss: 0.0710 - val_acc: 0.9956\n",
            "Epoch 13/60\n",
            "82/82 [==============================] - 26s 315ms/step - loss: 0.0772 - acc: 0.9905 - val_loss: 0.0435 - val_acc: 0.9978\n",
            "Epoch 14/60\n",
            "82/82 [==============================] - 26s 316ms/step - loss: 0.1112 - acc: 0.9847 - val_loss: 0.0457 - val_acc: 0.9988\n",
            "Epoch 15/60\n",
            "82/82 [==============================] - 26s 318ms/step - loss: 0.0836 - acc: 0.9888 - val_loss: 0.0555 - val_acc: 0.9968\n",
            "Epoch 16/60\n",
            "82/82 [==============================] - 26s 313ms/step - loss: 0.0738 - acc: 0.9914 - val_loss: 0.0420 - val_acc: 0.9954\n",
            "Epoch 17/60\n",
            "82/82 [==============================] - 26s 315ms/step - loss: 0.0887 - acc: 0.9877 - val_loss: 0.0589 - val_acc: 0.9970\n",
            "Epoch 18/60\n",
            "82/82 [==============================] - 26s 315ms/step - loss: 0.0766 - acc: 0.9908 - val_loss: 0.0477 - val_acc: 0.9972\n",
            "Epoch 19/60\n",
            "82/82 [==============================] - 26s 315ms/step - loss: 0.0655 - acc: 0.9919 - val_loss: 0.0340 - val_acc: 0.9988\n",
            "Epoch 20/60\n",
            "82/82 [==============================] - 26s 317ms/step - loss: 0.1176 - acc: 0.9850 - val_loss: 0.0565 - val_acc: 0.9966\n",
            "Epoch 21/60\n",
            "82/82 [==============================] - 26s 313ms/step - loss: 0.0984 - acc: 0.9879 - val_loss: 0.0597 - val_acc: 0.9954\n",
            "Epoch 22/60\n",
            "82/82 [==============================] - 26s 315ms/step - loss: 0.0710 - acc: 0.9915 - val_loss: 0.0336 - val_acc: 0.9988\n",
            "Epoch 23/60\n",
            "82/82 [==============================] - 26s 313ms/step - loss: 0.0868 - acc: 0.9899 - val_loss: 0.0357 - val_acc: 0.9990\n",
            "Epoch 24/60\n",
            "82/82 [==============================] - 26s 318ms/step - loss: 0.0579 - acc: 0.9925 - val_loss: 0.0426 - val_acc: 0.9978\n",
            "Epoch 25/60\n",
            "82/82 [==============================] - 26s 316ms/step - loss: 0.0833 - acc: 0.9892 - val_loss: 0.0396 - val_acc: 0.9992\n",
            "Epoch 26/60\n",
            "82/82 [==============================] - 25s 311ms/step - loss: 0.0649 - acc: 0.9911 - val_loss: 0.0358 - val_acc: 0.9972\n",
            "Epoch 27/60\n",
            "82/82 [==============================] - 26s 316ms/step - loss: 0.0861 - acc: 0.9887 - val_loss: 0.0392 - val_acc: 0.9992\n",
            "Epoch 28/60\n",
            "82/82 [==============================] - 26s 318ms/step - loss: 0.0828 - acc: 0.9905 - val_loss: 0.0504 - val_acc: 0.9982\n",
            "Epoch 29/60\n",
            "82/82 [==============================] - 26s 315ms/step - loss: 0.0751 - acc: 0.9918 - val_loss: 0.0342 - val_acc: 0.9984\n",
            "Epoch 30/60\n",
            "82/82 [==============================] - 26s 312ms/step - loss: 0.0602 - acc: 0.9920 - val_loss: 0.0272 - val_acc: 0.9994\n",
            "Epoch 31/60\n",
            "82/82 [==============================] - 26s 314ms/step - loss: 0.0878 - acc: 0.9874 - val_loss: 0.0413 - val_acc: 0.9986\n",
            "Epoch 32/60\n",
            "82/82 [==============================] - 26s 318ms/step - loss: 0.0508 - acc: 0.9940 - val_loss: 0.0385 - val_acc: 0.9986\n",
            "Epoch 33/60\n",
            "82/82 [==============================] - 26s 311ms/step - loss: 0.1279 - acc: 0.9845 - val_loss: 0.0460 - val_acc: 0.9984\n",
            "Epoch 34/60\n",
            "82/82 [==============================] - 26s 314ms/step - loss: 0.0602 - acc: 0.9931 - val_loss: 0.0386 - val_acc: 0.9968\n",
            "Epoch 35/60\n",
            "82/82 [==============================] - 26s 314ms/step - loss: 0.0765 - acc: 0.9913 - val_loss: 0.0403 - val_acc: 0.9994\n",
            "Epoch 36/60\n",
            "82/82 [==============================] - 26s 314ms/step - loss: 0.0534 - acc: 0.9932 - val_loss: 0.0313 - val_acc: 0.9992\n",
            "Epoch 37/60\n",
            "82/82 [==============================] - 26s 315ms/step - loss: 0.0675 - acc: 0.9927 - val_loss: 0.0339 - val_acc: 0.9982\n",
            "Epoch 38/60\n",
            "82/82 [==============================] - 26s 319ms/step - loss: 0.0585 - acc: 0.9919 - val_loss: 0.0314 - val_acc: 0.9984\n",
            "Epoch 39/60\n",
            "82/82 [==============================] - 26s 315ms/step - loss: 0.0533 - acc: 0.9932 - val_loss: 0.0253 - val_acc: 0.9998\n",
            "Epoch 40/60\n",
            "82/82 [==============================] - 26s 314ms/step - loss: 0.0539 - acc: 0.9937 - val_loss: 0.0324 - val_acc: 0.9984\n",
            "Epoch 41/60\n",
            "82/82 [==============================] - 25s 311ms/step - loss: 0.0585 - acc: 0.9931 - val_loss: 0.0263 - val_acc: 0.9996\n",
            "Epoch 42/60\n",
            "82/82 [==============================] - 26s 315ms/step - loss: 0.0546 - acc: 0.9930 - val_loss: 0.0280 - val_acc: 0.9988\n",
            "Epoch 43/60\n",
            "82/82 [==============================] - 26s 314ms/step - loss: 0.0742 - acc: 0.9902 - val_loss: 0.0349 - val_acc: 0.9986\n",
            "Epoch 44/60\n",
            "82/82 [==============================] - 26s 318ms/step - loss: 0.0468 - acc: 0.9945 - val_loss: 0.0368 - val_acc: 0.9988\n",
            "Epoch 45/60\n",
            "82/82 [==============================] - 25s 310ms/step - loss: 0.0846 - acc: 0.9920 - val_loss: 0.0263 - val_acc: 0.9996\n",
            "Epoch 46/60\n",
            "82/82 [==============================] - 26s 313ms/step - loss: 0.0858 - acc: 0.9889 - val_loss: 0.0521 - val_acc: 0.9992\n",
            "Epoch 47/60\n",
            "82/82 [==============================] - 26s 319ms/step - loss: 0.0534 - acc: 0.9956 - val_loss: 0.0297 - val_acc: 0.9984\n",
            "Epoch 48/60\n",
            "82/82 [==============================] - 26s 314ms/step - loss: 0.0544 - acc: 0.9936 - val_loss: 0.0263 - val_acc: 0.9992\n",
            "Epoch 49/60\n",
            "82/82 [==============================] - 25s 311ms/step - loss: 0.0931 - acc: 0.9873 - val_loss: 0.0521 - val_acc: 0.9988\n",
            "Epoch 50/60\n",
            "82/82 [==============================] - 26s 317ms/step - loss: 0.0569 - acc: 0.9938 - val_loss: 0.0358 - val_acc: 0.9988\n",
            "Epoch 51/60\n",
            "82/82 [==============================] - 25s 310ms/step - loss: 0.0741 - acc: 0.9918 - val_loss: 0.0281 - val_acc: 0.9994\n",
            "Epoch 52/60\n",
            "82/82 [==============================] - 26s 317ms/step - loss: 0.0689 - acc: 0.9916 - val_loss: 0.0329 - val_acc: 0.9994\n",
            "Epoch 53/60\n",
            "82/82 [==============================] - 26s 314ms/step - loss: 0.0528 - acc: 0.9936 - val_loss: 0.0257 - val_acc: 0.9994\n",
            "Epoch 54/60\n",
            "82/82 [==============================] - 26s 314ms/step - loss: 0.0618 - acc: 0.9930 - val_loss: 0.0330 - val_acc: 0.9996\n",
            "Epoch 55/60\n",
            "82/82 [==============================] - 25s 311ms/step - loss: 0.0431 - acc: 0.9961 - val_loss: 0.0251 - val_acc: 0.9990\n",
            "Epoch 56/60\n",
            "82/82 [==============================] - 26s 317ms/step - loss: 0.0700 - acc: 0.9917 - val_loss: 0.0311 - val_acc: 0.9992\n",
            "Epoch 57/60\n",
            "82/82 [==============================] - 26s 312ms/step - loss: 0.0617 - acc: 0.9924 - val_loss: 0.0374 - val_acc: 0.9994\n",
            "Epoch 58/60\n",
            "82/82 [==============================] - 26s 319ms/step - loss: 0.0411 - acc: 0.9961 - val_loss: 0.0264 - val_acc: 0.9992\n",
            "Epoch 59/60\n",
            "82/82 [==============================] - 26s 314ms/step - loss: 0.0706 - acc: 0.9914 - val_loss: 0.0362 - val_acc: 0.9990\n",
            "Epoch 60/60\n",
            "82/82 [==============================] - 26s 313ms/step - loss: 0.0471 - acc: 0.9937 - val_loss: 0.0459 - val_acc: 0.9944\n"
          ],
          "name": "stdout"
        }
      ]
    },
    {
      "cell_type": "markdown",
      "metadata": {
        "id": "M8FPLz71dweU",
        "colab_type": "text"
      },
      "source": [
        "#예측"
      ]
    },
    {
      "cell_type": "code",
      "metadata": {
        "id": "6PSEZI3jNJT0",
        "colab_type": "code",
        "colab": {}
      },
      "source": [
        "test_label = model.predict(test_image)\n",
        "label_hot = model.predict(test_image)\n",
        "label = np.argmax(label_hot,1)\n",
        "id_ = np.arange(0,label.shape[0])\n",
        "save = pd.DataFrame({'id':id_,'Category':label})\n",
        "print(save.head(10))"
      ],
      "execution_count": 0,
      "outputs": []
    },
    {
      "cell_type": "code",
      "metadata": {
        "id": "9YhAt7E2URaq",
        "colab_type": "code",
        "outputId": "781363ca-013d-4eee-e7c8-ad6c7fa6878d",
        "colab": {
          "base_uri": "https://localhost:8080/",
          "height": 194
        }
      },
      "source": [
        "sample_submission = pd.read_csv(\"sample_submission.csv\") #데이터 불러오기\n",
        "\n",
        "sample_submission['Category'] = save['Category'] #대입하고 제출\n",
        "sample_submission.to_csv(\"/content/drive/My Drive/colab_workspace/submission_keras.csv\",index=False)\n",
        "sample_submission.head()"
      ],
      "execution_count": 0,
      "outputs": [
        {
          "output_type": "execute_result",
          "data": {
            "text/html": [
              "<div>\n",
              "<style scoped>\n",
              "    .dataframe tbody tr th:only-of-type {\n",
              "        vertical-align: middle;\n",
              "    }\n",
              "\n",
              "    .dataframe tbody tr th {\n",
              "        vertical-align: top;\n",
              "    }\n",
              "\n",
              "    .dataframe thead th {\n",
              "        text-align: right;\n",
              "    }\n",
              "</style>\n",
              "<table border=\"1\" class=\"dataframe\">\n",
              "  <thead>\n",
              "    <tr style=\"text-align: right;\">\n",
              "      <th></th>\n",
              "      <th>Id</th>\n",
              "      <th>Category</th>\n",
              "    </tr>\n",
              "  </thead>\n",
              "  <tbody>\n",
              "    <tr>\n",
              "      <th>0</th>\n",
              "      <td>57808</td>\n",
              "      <td>8</td>\n",
              "    </tr>\n",
              "    <tr>\n",
              "      <th>1</th>\n",
              "      <td>4960</td>\n",
              "      <td>0</td>\n",
              "    </tr>\n",
              "    <tr>\n",
              "      <th>2</th>\n",
              "      <td>35755</td>\n",
              "      <td>5</td>\n",
              "    </tr>\n",
              "    <tr>\n",
              "      <th>3</th>\n",
              "      <td>15543</td>\n",
              "      <td>3</td>\n",
              "    </tr>\n",
              "    <tr>\n",
              "      <th>4</th>\n",
              "      <td>48968</td>\n",
              "      <td>8</td>\n",
              "    </tr>\n",
              "  </tbody>\n",
              "</table>\n",
              "</div>"
            ],
            "text/plain": [
              "      Id  Category\n",
              "0  57808         8\n",
              "1   4960         0\n",
              "2  35755         5\n",
              "3  15543         3\n",
              "4  48968         8"
            ]
          },
          "metadata": {
            "tags": []
          },
          "execution_count": 33
        }
      ]
    }
  ]
}