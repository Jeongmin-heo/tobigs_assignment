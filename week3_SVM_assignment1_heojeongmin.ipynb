{
 "cells": [
  {
   "cell_type": "markdown",
   "metadata": {},
   "source": [
    "# Assignment 1\n",
    "## 1. Assignment1은 위에서 언급 되었던 Multiclass SVM을 직접 구현하시는 것입니다. \n",
    "기본적으로 사이킷 런에 있는 SVM은 멀티클래스 SVM을 지원합니다. 그러나 과제에서는 그것을 쓰면 안됩니다! 아이리스 데이터는 총 세 개의 클\n",
    "래스가 있으므로 이 클래스를 one-hot 인코딩 한 뒤, 각각 binary SVM을 트레이닝하고 이 결과를 조합하여\n",
    "multiclass SVM을 구현하는 것입니다.\n",
    "\n",
    "## 2. 위에서 말했듯 기본적으로 one vs one, one vs rest방법이 있으며 어떤 것을 구현하든 자유입니다.\n",
    "만약 투표결과 동점이 나온경우(예를 들어 각각의 SVM의 결과가 A vs B C의 경우 A로 판별, B vs A C의 결과 B로 판별, C vs A\n",
    "B의 경우 C로 판별한 경우 투표를 통해 class를 결정할 수 없음) decision_function을 활용하시거나, 가장 개수가\n",
    "많은 클래스를 사용하시거나 랜덤으로 하나를 뽑거나 하는 방법 등을 이용해 동점자인 경우를 판별해주시면 됩니다.\n",
    "공식 문서를 보면 사이킷런이 어떤 방법으로 구현했는지가 글로 나와 있으므로 참조하셔도 무관합니다.\n",
    "\n",
    "## 3. 과제코드에는 제가 iris 데이터를 로드하고 iris 데이터를 one hot인코딩 한 부분까지 구현해 놓았습니다.\n",
    "또한 decision function을 호출해서 사용하는 예시도 하나 넣어 놓았으니 참고하시면 됩니다.\n",
    "개인적으로 one vs rest가 더 구현하기 쉬울것으로 생각되며, 모르는 부분은 언제든 질문해주세요! 생각보다 코드가\n",
    "길지 않고 어렵지 않습니다."
   ]
  },
  {
   "cell_type": "markdown",
   "metadata": {},
   "source": [
    "iris데이터를 불러와 target 변수를 원래데이터와 나누고 X,y라는 이름으로 지정해 주었습니다. "
   ]
  },
  {
   "cell_type": "code",
   "execution_count": 1,
   "metadata": {},
   "outputs": [
    {
     "name": "stdout",
     "output_type": "stream",
     "text": [
      "0         setosa\n",
      "1         setosa\n",
      "2         setosa\n",
      "3         setosa\n",
      "4         setosa\n",
      "         ...    \n",
      "145    virginica\n",
      "146    virginica\n",
      "147    virginica\n",
      "148    virginica\n",
      "149    virginica\n",
      "Name: species, Length: 150, dtype: object\n"
     ]
    }
   ],
   "source": [
    "import numpy as np\n",
    "import pandas as pd\n",
    "import matplotlib.pyplot as plt\n",
    "import seaborn as sns\n",
    "from sklearn.svm import SVC\n",
    "from sklearn.model_selection import train_test_split\n",
    "from sklearn.pipeline import Pipeline\n",
    "from sklearn.preprocessing import StandardScaler\n",
    "\n",
    "iris =  sns.load_dataset('iris')\n",
    "X= iris.iloc[:,:4]\n",
    "y = iris.iloc[:,-1]\n",
    "print(y)"
   ]
  },
  {
   "cell_type": "code",
   "execution_count": 2,
   "metadata": {},
   "outputs": [],
   "source": [
    "scaler = StandardScaler() \n",
    "X = scaler.fit_transform(X)\n",
    "#정규화를 시켜주도록 하였습니다. "
   ]
  },
  {
   "cell_type": "markdown",
   "metadata": {},
   "source": [
    "- One Versus Rest방식을 사용하여 svm_1,2,3로 3개로 나누고 각 종류를 분류해주는 기계를 만들도록 하였습니다.\n",
    "- gamma가 클수록 인접한 것들에 대해서만 같은 영역으로 판단하게 됩니다.또한 gamma가 너무 크면 overfitting의 가능성이 있습니다. 따라서 grid_search를 활용하여 적절한 gamma와 c값을 찾아보고자 하였습니다. "
   ]
  },
  {
   "cell_type": "code",
   "execution_count": 8,
   "metadata": {},
   "outputs": [
    {
     "name": "stdout",
     "output_type": "stream",
     "text": [
      "Wall time: 5.22 s\n"
     ]
    }
   ],
   "source": [
    "from sklearn.model_selection import GridSearchCV\n",
    "from sklearn.neighbors import KNeighborsClassifier\n",
    "from sklearn.pipeline import Pipeline\n",
    "from sklearn.preprocessing import StandardScaler\n",
    "from sklearn.svm import SVC\n",
    "\n",
    "pipe_svc = Pipeline([('scl', StandardScaler()), ('clf', SVC(random_state=1))])\n",
    "\n",
    "param_range = [0.0001, 0.001, 0.01, 0.1, 1.0, 10.0, 100.0, 1000.0]\n",
    "param_grid = [\n",
    "    {'clf__C': param_range, 'clf__kernel': ['linear']},\n",
    "    {'clf__C': param_range, 'clf__gamma': param_range, 'clf__kernel': ['rbf']}]\n",
    "\n",
    "gs = GridSearchCV(estimator=pipe_svc, param_grid=param_grid,\n",
    "                  scoring='accuracy', cv=10, n_jobs=1)\n",
    "%time gs = gs.fit(X, y)"
   ]
  },
  {
   "cell_type": "code",
   "execution_count": 9,
   "metadata": {},
   "outputs": [
    {
     "name": "stdout",
     "output_type": "stream",
     "text": [
      "0.9800000000000001\n",
      "{'clf__C': 1.0, 'clf__gamma': 0.1, 'clf__kernel': 'rbf'}\n"
     ]
    }
   ],
   "source": [
    "print(gs.best_score_)\n",
    "print(gs.best_params_)"
   ]
  },
  {
   "cell_type": "code",
   "execution_count": 10,
   "metadata": {},
   "outputs": [],
   "source": [
    "svm_1 = SVC(kernel ='rbf', gamma = 0.1, C = 1)\n",
    "svm_2 = SVC(kernel ='rbf', gamma = 0.1, C = 1)\n",
    "svm_3 = SVC(kernel ='rbf', gamma = 0.1, C = 1)\n",
    "#결과값에 따라서 svm_1,2,3라는 이름으로 분류 머신 3가지를 만들었습니다. "
   ]
  },
  {
   "cell_type": "code",
   "execution_count": 13,
   "metadata": {},
   "outputs": [],
   "source": [
    "from sklearn.model_selection import train_test_split \n",
    "X_train, X_test, y_train, y_test = train_test_split(X, y, test_size=0.2, random_state=48)\n",
    "\n",
    "#위와같은 이름으로 train,test set을 분류하였습니다. "
   ]
  },
  {
   "cell_type": "code",
   "execution_count": 14,
   "metadata": {},
   "outputs": [],
   "source": [
    "y_train = pd.get_dummies(y_train) \n",
    "y_test = pd.get_dummies(y_test)\n",
    "#one hot encoding방식을 통해 종류에 따라서 해당하는 종류일때 1이 나오도록 인코딩 하였습니다. "
   ]
  },
  {
   "cell_type": "code",
   "execution_count": 15,
   "metadata": {},
   "outputs": [
    {
     "name": "stdout",
     "output_type": "stream",
     "text": [
      "[-1.18554588 -1.34769197 -1.57406849  0.03401689 -1.31124945 -1.51399498\n",
      "  1.39065218 -1.47977585  1.22193286 -1.41059969 -1.47581591  1.30551737\n",
      "  1.19104597 -1.58535794 -1.4738944  -1.18464392  1.3442136  -1.34328399\n",
      " -1.57373443 -1.38712859  0.90326855 -1.52423684 -1.44461302 -1.2988055\n",
      " -1.34222782  1.44961849  1.12163393 -1.32025178 -1.57159424 -1.03725897]\n",
      "[ 1.07355283  1.12326184  0.22014949 -0.24698463  0.12662226 -0.32322719\n",
      " -1.58289696  0.1224296  -1.63491391  1.01335926 -0.25906672 -1.1018622\n",
      " -0.836975    0.0302752   0.70097662  0.49791592 -1.45738506  1.1268945\n",
      "  0.3277328  -1.36922772 -1.17329127 -0.55671024  0.11751682  0.649796\n",
      " -0.32987709 -1.61111572 -0.75933661 -1.27752528 -1.32513305  1.00806717]\n",
      "[-1.30254712 -1.1187129   0.02848374 -1.54546193 -0.16851305  0.51385959\n",
      " -1.73132876  0.01337511 -1.22691105 -0.98071497  0.42073173 -2.20142821\n",
      " -2.35970574  0.21222381 -0.57524412 -0.63574206 -1.97107645 -1.13905868\n",
      " -0.09658363  1.41789714 -1.76544071  0.74248969  0.01687958 -0.6456306\n",
      "  0.36950942 -1.87325831 -2.35862122  1.2732183   1.50465045 -1.42189428]\n"
     ]
    }
   ],
   "source": [
    "svm_1.fit(X_train,y_train.iloc[:,0])\n",
    "svm_2.fit(X_train,y_train.iloc[:,1])\n",
    "svm_3.fit(X_train,y_train.iloc[:,2])\n",
    "print(svm_1.decision_function(X_test)) \n",
    "print(svm_2.decision_function(X_test))\n",
    "print(svm_3.decision_function(X_test)) \n",
    "#각기계별로 decision_function hyperplane과의 거리를 확인해 보도록 하겠습니다. "
   ]
  },
  {
   "cell_type": "markdown",
   "metadata": {},
   "source": [
    "부호가 모두 같은 경우, 즉, 다른 분류기계이지만 같다고 판단하는 경우 == 동점인 경우라고 판단 할 수 있습니다. 이경우에는 적절하게 판단했다라고 볼 기계를 한가지 정하는 방법을 사용할 수 있습니다.\n",
    "또한 어떤 기계가 더 적절한지는 hyperplane과의 거리 확인을 통해서 거리가 멀경우 그 기계가 그나마 더 판단을 잘한다라고 생각 해 볼 수 있을 것입니다. "
   ]
  },
  {
   "cell_type": "code",
   "execution_count": 19,
   "metadata": {},
   "outputs": [],
   "source": [
    "for i in range(len(X_test)):\n",
    "    if (np.sign(svm_1.decision_function(X_test)[i]) == np.sign(svm_2.decision_function(X_test)[i]))\\\n",
    "    and (np.sign(svm_2.decision_function(X_test)[i]) == np.sign(svm_3.decision_function(X_test)[i])):\n",
    "        print(i)\n",
    "#아무런 출력값이 없는 것으로 보아 다행이 그러한 경우는 없는 것으로 판단할 수 있습니다. (이전에는 [3],[17],[18]의 경우가 있었지만 추가적으로 grid_Search를 진행하면서 이러한 경우가 사라진 것으로 판단됩니다.)"
   ]
  },
  {
   "cell_type": "code",
   "execution_count": 20,
   "metadata": {},
   "outputs": [
    {
     "name": "stdout",
     "output_type": "stream",
     "text": [
      "0.0340168856423895\n",
      "-0.2469846319398301\n",
      "-1.54546193457456\n",
      "====\n",
      "-1.3432839922630626\n",
      "1.1268944982050129\n",
      "-1.139058680003137\n",
      "====\n",
      "-1.5737344322689866\n",
      "0.3277327994150263\n",
      "-0.09658363241711539\n"
     ]
    }
   ],
   "source": [
    "#아쉬운대로 이전에 이러했던 경우에 대해서 hyperplane을 확인해보도록 하겠습니다.\n",
    "print(svm_1.decision_function(X_test)[3])\n",
    "print(svm_2.decision_function(X_test)[3])\n",
    "print(svm_3.decision_function(X_test)[3])\n",
    "print(\"====\")\n",
    "print(svm_1.decision_function(X_test)[17])\n",
    "print(svm_2.decision_function(X_test)[17])\n",
    "print(svm_3.decision_function(X_test)[17])\n",
    "print(\"====\")\n",
    "print(svm_1.decision_function(X_test)[18])\n",
    "print(svm_2.decision_function(X_test)[18])\n",
    "print(svm_3.decision_function(X_test)[18])"
   ]
  },
  {
   "cell_type": "code",
   "execution_count": 27,
   "metadata": {},
   "outputs": [
    {
     "name": "stdout",
     "output_type": "stream",
     "text": [
      "[0 0 0 1 0 0 1 0 1 0 0 1 1 0 0 0 1 0 0 0 1 0 0 0 0 1 1 0 0 0]\n",
      "[1 1 1 0 1 0 0 1 0 1 0 0 0 1 1 1 0 1 1 0 0 0 1 1 0 0 0 0 0 1]\n",
      "[0 0 1 0 0 1 0 1 0 0 1 0 0 1 0 0 0 0 0 1 0 1 1 0 1 0 0 1 1 0]\n"
     ]
    }
   ],
   "source": [
    "print(svm_1.predict(X_test))\n",
    "print(svm_2.predict(X_test))\n",
    "print(svm_3.predict(X_test))"
   ]
  },
  {
   "cell_type": "code",
   "execution_count": 28,
   "metadata": {},
   "outputs": [
    {
     "name": "stdout",
     "output_type": "stream",
     "text": [
      "1.0\n",
      "0.9\n",
      "0.9666666666666667\n"
     ]
    }
   ],
   "source": [
    "score_1 = svm_1.score(X_test,y_test.iloc[:,0])\n",
    "score_2 = svm_2.score(X_test,y_test.iloc[:,1])\n",
    "score_3 = svm_3.score(X_test,y_test.iloc[:,2])\n",
    "print(score_1)\n",
    "print(score_2)\n",
    "print(score_3)"
   ]
  },
  {
   "cell_type": "markdown",
   "metadata": {},
   "source": [
    "이전과는 다르게 score가 매우 향상된 것을 확인할 수 있었습니다. 이럴경우 근소하게 1에 가까운 SVM_1머신을 좀 더 믿을만 하다고 판단해 볼 수 도있지만 3가지 모두 점수가 매우 높기 때문에 어떤 것을 사용하더라도 매우 우수한 결과가 나올 것으로 판단 할 수 있습니다. "
   ]
  }
 ],
 "metadata": {
  "kernelspec": {
   "display_name": "Python 3",
   "language": "python",
   "name": "python3"
  },
  "language_info": {
   "codemirror_mode": {
    "name": "ipython",
    "version": 3
   },
   "file_extension": ".py",
   "mimetype": "text/x-python",
   "name": "python",
   "nbconvert_exporter": "python",
   "pygments_lexer": "ipython3",
   "version": "3.7.4"
  }
 },
 "nbformat": 4,
 "nbformat_minor": 4
}
